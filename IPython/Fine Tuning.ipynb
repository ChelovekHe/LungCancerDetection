{
 "cells": [
  {
   "cell_type": "code",
   "execution_count": 1,
   "metadata": {
    "collapsed": false
   },
   "outputs": [
    {
     "name": "stderr",
     "output_type": "stream",
     "text": [
      "Using Theano backend.\n"
     ]
    },
    {
     "name": "stdout",
     "output_type": "stream",
     "text": [
      "Populating the interactive namespace from numpy and matplotlib\n"
     ]
    }
   ],
   "source": [
    "import sys \n",
    "sys.path.append('../Nets')\n",
    "import sys\n",
    "sys.setrecursionlimit(10000)\n",
    "from multiprocessing import Pool\n",
    "from PIL import Image\n",
    "from keras.callbacks import ModelCheckpoint\n",
    "from tqdm import tqdm\n",
    "from functools import partial\n",
    "from keras.optimizers import RMSprop\n",
    "from glob import glob\n",
    "import shutil\n",
    "from os.path import join, basename\n",
    "from ResNet import *\n",
    "from scipy.ndimage import zoom\n",
    "from scipy.ndimage.interpolation import rotate\n",
    "import os\n",
    "from keras.preprocessing.image import ImageDataGenerator\n",
    "\n",
    "import warnings\n",
    "warnings.filterwarnings('ignore')\n",
    "\n",
    "import pandas as pd\n",
    "%pylab inline"
   ]
  },
  {
   "cell_type": "code",
   "execution_count": 2,
   "metadata": {
    "collapsed": false
   },
   "outputs": [],
   "source": [
    "PATH = {\n",
    "    'DATA': '/home/a.dobrenkii/Projects/Kaggle/DataScienceBowl2K17/data/TRAIN',\n",
    "    'DATA_OUT': '/home/a.dobrenkii/Projects/Kaggle/DataScienceBowl2K17/data/TRAIN_OUT',\n",
    "    'CSV': '/home/a.dobrenkii/Projects/Kaggle/DataScienceBowl2K17/data/CSV',\n",
    "    'LABELS': '/home/a.dobrenkii/Projects/Kaggle/DataScienceBowl2K17/data/CSV/stage1_labels.csv',\n",
    "\n",
    "    'LUNA': '/fasthome/a.dobrenkii/LUNA',\n",
    "    'LUNA_DATA': '/fasthome/a.dobrenkii/LUNA/DATA',\n",
    "    'LUNA_SOBEL': '/fasthome/a.dobrenkii/LUNA/SOBEL_IMG',\n",
    "    'LUNA_LUNGS': '/fasthome/a.dobrenkii/LUNA/LUNGS_IMG',\n",
    "    'LUNA_MASKS': '/fasthome/a.dobrenkii/LUNA/MASKS',\n",
    "    'LUNA_CSV': '/fasthome/a.dobrenkii/LUNA/CSVFILES',\n",
    "    'LUNA_PRED': '/fasthome/a.dobrenkii/LUNA/PRED',\n",
    "\n",
    "    'WEIGHTS': '/home/a.dobrenkii/Projects/Kaggle/DataScienceBowl2K17/data/WEIGHTS',\n",
    "    'CHECKPOINTS': '/home/a.dobrenkii/Projects/Kaggle/DataScienceBowl2K17/data/'\n",
    "}\n",
    "\n",
    "# annotations = pd.read_csv(join(PATH['LUNA_CSV'], 'annotations.csv'))\n",
    "# candidates = pd.read_csv(join(PATH['LUNA_CSV'], 'candidates.csv'))"
   ]
  },
  {
   "cell_type": "code",
   "execution_count": 3,
   "metadata": {
    "collapsed": false,
    "scrolled": true
   },
   "outputs": [
    {
     "name": "stdout",
     "output_type": "stream",
     "text": [
      "K.image_dim_ordering: th\n"
     ]
    }
   ],
   "source": [
    "model, bottleneck = ResNet50(weights='imagenet', out=2)\n",
    "bottleneck = load_weighs(bottleneck, False)\n",
    "model.compile(loss='binary_crossentropy',\n",
    "              optimizer='rmsprop',\n",
    "              metrics=['accuracy'])"
   ]
  },
  {
   "cell_type": "code",
   "execution_count": 4,
   "metadata": {
    "collapsed": false
   },
   "outputs": [],
   "source": [
    "dim = 224\n",
    "nb_epoch = 10\n",
    "CPU = 10\n",
    "chanels = 3\n",
    "train_test = .3\n",
    "shape = (3, 224, 224)"
   ]
  },
  {
   "cell_type": "code",
   "execution_count": 5,
   "metadata": {
    "collapsed": true
   },
   "outputs": [],
   "source": [
    "def crop_and_not_rotate(segmenteds):\n",
    "    x, y, z = where(segmenteds)\n",
    "    if len(x):\n",
    "        segmenteds = segmenteds[x.min():x.max(), y.min():y.max(), z.min():z.max()]\n",
    "    else:\n",
    "        segmenteds = array([])\n",
    "    return segmenteds"
   ]
  },
  {
   "cell_type": "code",
   "execution_count": 6,
   "metadata": {
    "collapsed": false
   },
   "outputs": [],
   "source": [
    "def load_and_augment(lung_path, mask_path, shape, angle=15):\n",
    "    lung = load(lung_path)\n",
    "    mask = load(mask_path)\n",
    "    \n",
    "    \n",
    "    position = random.randint(0, lung.shape[0] - shape[0])\n",
    "    lung = lung[position: position + shape[0]]\n",
    "    mask = (mask[position: position + shape[0]] == 2).sum() != 0\n",
    "    \n",
    "    \n",
    "    lung = rotate(lung, random.randint(-angle, angle), axes=[1,2])\n",
    "  \n",
    "    x, y, z = where(lung)\n",
    "    if len(x):\n",
    "        lung = lung[:, y.min():y.max(), z.min():z.max()]\n",
    "    \n",
    "    if 'left' in lung_path.lower():\n",
    "        lung = fliplr(lung)\n",
    "    \n",
    "    \n",
    "    mn = lung.min()\n",
    "    mx = lung.max()\n",
    "    if (mx - mn) != 0:\n",
    "        lung = (lung - mn) / (mx - mn)\n",
    "    else:\n",
    "        lung[:, :] = 0\n",
    "      \n",
    "    new_shape = list(shape)\n",
    "    ln_axis = argmax(lung.shape[1:])\n",
    "    sh_axis = argmin(lung.shape[1:])    \n",
    "    new_shape[sh_axis + 1] = int(lung.shape[sh_axis + 1] * (shape[sh_axis + 1] \n",
    "                                 / lung.shape[ln_axis + 1]))\n",
    "    factor = [1] + [n / o for o, n in zip(lung.shape[1:], new_shape[1:])]\n",
    "    lung = zoom(lung, factor, order=2)\n",
    "    if lung.shape[sh_axis + 1] != shape[sh_axis + 1]:\n",
    "        top = (shape[1] - lung.shape[sh_axis + 1])\n",
    "        bottom = random.randint(0, top)\n",
    "        \n",
    "        pad_values = [[top - bottom, bottom]  \n",
    "                      if i == sh_axis + 1 \n",
    "                      else [0, 0] \n",
    "                      for i in range(len(shape))]\n",
    "        \n",
    "        lung = pad(lung, pad_values, 'constant')\n",
    "        \n",
    "    if mask == 0:\n",
    "        mask = [1, 0]\n",
    "    else:\n",
    "        mask = [0, 1]\n",
    "    return lung, mask\n"
   ]
  },
  {
   "cell_type": "code",
   "execution_count": 7,
   "metadata": {
    "collapsed": true
   },
   "outputs": [],
   "source": [
    "def augment_slice(lung, shape, angle=15):\n",
    "    \n",
    "    lung = rotate(lung, random.randint(-angle, angle), axes=[1,2])\n",
    "  \n",
    "    x, y, z = where(lung)\n",
    "    if len(x):\n",
    "        lung = lung[:, y.min():y.max(), z.min():z.max()]\n",
    "    \n",
    "    mn = lung.min()\n",
    "    mx = lung.max()\n",
    "    if (mx - mn) != 0:\n",
    "        lung = (lung - mn) / (mx - mn)\n",
    "    else:\n",
    "        lung[:, :] = 0\n",
    "      \n",
    "    new_shape = list(shape)\n",
    "    ln_axis = argmax(lung.shape[1:])\n",
    "    sh_axis = argmin(lung.shape[1:])    \n",
    "    new_shape[sh_axis + 1] = int(lung.shape[sh_axis + 1] * (shape[sh_axis + 1] \n",
    "                                 / lung.shape[ln_axis + 1]))\n",
    "    factor = [1] + [n / o for o, n in zip(lung.shape[1:], new_shape[1:])]\n",
    "    lung = zoom(lung, factor, order=2)\n",
    "    if lung.shape[sh_axis + 1] != shape[sh_axis + 1]:\n",
    "        top = (shape[1] - lung.shape[sh_axis + 1])\n",
    "        bottom = random.randint(0, top)\n",
    "        \n",
    "        pad_values = [[top - bottom, bottom]  \n",
    "                      if i == sh_axis + 1 \n",
    "                      else [0, 0] \n",
    "                      for i in range(len(shape))]\n",
    "        \n",
    "        lung = pad(lung, pad_values, 'constant')\n",
    "    return lung"
   ]
  },
  {
   "cell_type": "code",
   "execution_count": 8,
   "metadata": {
    "collapsed": true
   },
   "outputs": [],
   "source": [
    "def load_and_augment(lung_path, mask_path, shape, angle=15):\n",
    "    lung = load(lung_path)\n",
    "    mask = load(mask_path)\n",
    "    if 'left' in lung_path.lower():\n",
    "        lung = fliplr(lung)\n",
    "    lung = [lung[i: i + shape[0]] for i in range(lung.shape[0] - shape[0])]\n",
    "    mask = [[1, 0] if (mask[i: i + shape[0]] == 2).sum() != 0 else [0, 1] \n",
    "            for i in range(mask.shape[0] - shape[0])]\n",
    "    augment = partial(augment_slice, shape=shape, angle=angle)\n",
    "    with Pool(CPU) as pool:\n",
    "        lungs = pool.map(augment, lung)\n",
    "    return lungs, mask\n"
   ]
  },
  {
   "cell_type": "code",
   "execution_count": 9,
   "metadata": {
    "collapsed": true
   },
   "outputs": [],
   "source": [
    "def batch_generator(lung_paths, mask_paths, batch_size):\n",
    "    number_of_batches = ceil(len(lung_paths) / batch_size)\n",
    "    counter = 0\n",
    "    \n",
    "    combined = list(zip(lung_paths, mask_paths))\n",
    "    random.shuffle(combined)\n",
    "    lung_paths, mask_paths = zip(*combined)\n",
    "    \n",
    "    while True:\n",
    "        batch_files = (lung_paths[batch_size * counter:batch_size * (counter + 1)],\n",
    "                       mask_paths[batch_size * counter:batch_size * (counter + 1)])\n",
    "        \n",
    "        lungs_list = list()\n",
    "        mask_list = list()\n",
    "        for lung, mask in zip(batch_files[0], batch_files[1]):\n",
    "            image, mask = load_and_augment(lung, mask, (chanels, dim, dim))\n",
    "                \n",
    "            lungs_list += image\n",
    "            mask_list += mask\n",
    "            \n",
    "        combined = list(zip(lungs_list, mask_list))\n",
    "        random.shuffle(combined)\n",
    "        lungs_list, mask_list = zip(*combined)\n",
    "        counter += 1\n",
    "        yield array(lungs_list), array(mask_list)\n",
    "        \n",
    "        if counter == number_of_batches:\n",
    "            combined = list(zip(lung_paths, mask_paths))\n",
    "            random.shuffle(combined)\n",
    "            lung_paths, mask_paths = zip(*combined)\n",
    "            counter = 0"
   ]
  },
  {
   "cell_type": "code",
   "execution_count": 10,
   "metadata": {
    "collapsed": false
   },
   "outputs": [],
   "source": [
    "def mini_batch_generator(lung_paths, mask_paths, batch_size):\n",
    "    number_of_batches = ceil(len(lung_paths) / batch_size)\n",
    "    counter = 0\n",
    "    \n",
    "    combined = list(zip(lung_paths, mask_paths))\n",
    "    random.shuffle(combined)\n",
    "    lung_paths, mask_paths = zip(*combined)\n",
    "    \n",
    "    while True:\n",
    "        batch_files = (lung_paths[batch_size * counter:batch_size * (counter + 1)],\n",
    "                       mask_paths[batch_size * counter:batch_size * (counter + 1)])\n",
    "        \n",
    "        lungs_list = list()\n",
    "        mask_list = list()\n",
    "        for lung, mask in zip(batch_files[0], batch_files[1]):\n",
    "            image, mask = load_and_augment(lung, mask, (chanels, dim, dim))\n",
    "                \n",
    "            lungs_list.append(image)\n",
    "            mask_list.append(mask)\n",
    "            \n",
    "        counter += 1\n",
    "        yield array(lungs_list), array(mask_list)\n",
    "        \n",
    "        if counter == number_of_batches:\n",
    "            combined = list(zip(lung_paths, mask_paths))\n",
    "            random.shuffle(combined)\n",
    "            lung_paths, mask_paths = zip(*combined)\n",
    "            counter = 0"
   ]
  },
  {
   "cell_type": "code",
   "execution_count": null,
   "metadata": {
    "collapsed": false,
    "scrolled": true
   },
   "outputs": [],
   "source": [
    "paths = list()\n",
    "lung_paths = glob(join(PATH['LUNA_LUNGS'], '*'))\n",
    "mask_paths = list()\n",
    "for lung in tqdm(lung_paths):\n",
    "    if 'left' in lung:\n",
    "        side = 'left'\n",
    "    else:\n",
    "        side = 'right'\n",
    "    pid = basename(lung).split('lungs')[0] \n",
    "    mask = glob(join(PATH['LUNA_MASKS'], '*' + pid + '*' + side + '*'))\n",
    "    if len(mask) == 1:\n",
    "        paths.append([lung, mask[0]])\n",
    "\n",
    "shuffle(paths)"
   ]
  },
  {
   "cell_type": "code",
   "execution_count": 12,
   "metadata": {
    "collapsed": true
   },
   "outputs": [],
   "source": [
    "save(join(PATH['LUNA'], 'paths'), asarray(paths))"
   ]
  },
  {
   "cell_type": "code",
   "execution_count": 11,
   "metadata": {
    "collapsed": false
   },
   "outputs": [],
   "source": [
    "paths = load(join(PATH['LUNA'], 'paths.npy'))"
   ]
  },
  {
   "cell_type": "code",
   "execution_count": 13,
   "metadata": {
    "collapsed": false
   },
   "outputs": [],
   "source": [
    "lung_paths, mask_paths = zip(*paths)\n",
    "\n",
    "\n",
    "train_lung, train_mask = zip(*paths[int(len(paths) * train_test):])\n",
    "valid_lung, valid_mask = zip(*paths[:int(len(paths) * train_test)])"
   ]
  },
  {
   "cell_type": "code",
   "execution_count": null,
   "metadata": {
    "collapsed": false,
    "scrolled": true
   },
   "outputs": [
    {
     "name": "stdout",
     "output_type": "stream",
     "text": [
      "Epoch 0 / 10\n",
      "Train on 11098 samples, validate on 1581 samples\n",
      "Epoch 1/1\n",
      " 3632/11098 [========>.....................] - ETA: 6337s - loss: 0.1992 - acc: 0.9499"
     ]
    }
   ],
   "source": [
    "train_generator = batch_generator(train_lung, train_mask, 32)\n",
    "valid_generator = batch_generator(valid_lung, valid_mask, 5)\n",
    "for e in range(1):\n",
    "    print(\"Epoch %d / %d\" % (e, nb_epoch))\n",
    "    valid = next(valid_generator)\n",
    "    for X_train, Y_train in train_generator:\n",
    "        model.fit(X_train, \n",
    "                  Y_train, \n",
    "                  batch_size=16, \n",
    "                  nb_epoch=1, \n",
    "                  validation_data=valid,\n",
    "                  shuffle=True)\n",
    "    model.save_weights(\"model.h5\")\n",
    "\n",
    "# for e in range(nb_epoch):\n",
    "#     print(\"epoch %d\" % e)\n",
    "#     for X_train, Y_train in batch_generator(lung_paths, mask_paths, 2):\n",
    "#         model.train(X_batch, Y_batch)\n",
    "#     model.save_weights(\"model\" + e + \".h5\")"
   ]
  },
  {
   "cell_type": "code",
   "execution_count": null,
   "metadata": {
    "collapsed": false
   },
   "outputs": [],
   "source": [
    "checkpoint = ModelCheckpoint(filepath=PATH['WEIGHTS'], \n",
    "                             verbose=1, \n",
    "                             save_best_only=True)\n",
    "\n",
    "\n",
    "model.fit_generator(train_generator, \n",
    "                    samples_per_epoch=2000, \n",
    "                    nb_epoch=20, \n",
    "                    callbacks=[checkpoint], \n",
    "                    validation_data=valid_generator, \n",
    "                    class_weight=None, \n",
    "                    nb_val_samples=532,\n",
    "                    nb_worker=1)"
   ]
  }
 ],
 "metadata": {
  "anaconda-cloud": {},
  "kernelspec": {
   "display_name": "Python [Root]",
   "language": "python",
   "name": "Python [Root]"
  },
  "language_info": {
   "codemirror_mode": {
    "name": "ipython",
    "version": 3
   },
   "file_extension": ".py",
   "mimetype": "text/x-python",
   "name": "python",
   "nbconvert_exporter": "python",
   "pygments_lexer": "ipython3",
   "version": "3.5.2"
  }
 },
 "nbformat": 4,
 "nbformat_minor": 0
}
