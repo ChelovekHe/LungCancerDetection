{
 "cells": [
  {
   "cell_type": "code",
   "execution_count": 11,
   "metadata": {
    "collapsed": false
   },
   "outputs": [
    {
     "name": "stdout",
     "output_type": "stream",
     "text": [
      "Populating the interactive namespace from numpy and matplotlib\n"
     ]
    }
   ],
   "source": [
    "%pylab inline"
   ]
  },
  {
   "cell_type": "code",
   "execution_count": 12,
   "metadata": {
    "collapsed": false
   },
   "outputs": [],
   "source": [
    "import sys\n",
    "sys.path.append('../')\n",
    "sys.path.append('../support/')\n",
    "sys.path.append('../lung_segmentation/')\n",
    "import os\n",
    "from preprocessing import *\n",
    "from ct_reader import *\n",
    "from scipy.ndimage import morphology \n",
    "from skimage import measure\n",
    "from tqdm import tqdm\n",
    "import time\n",
    "from os.path import join, basename, isfile\n",
    "from multiprocessing import Pool\n",
    "from scipy.ndimage import label\n",
    "import scipy.ndimage.filters as filters\n",
    "from glob import glob\n",
    "from paths import *\n",
    "import functools\n",
    "\n",
    "from scipy.linalg import norm\n",
    "from scipy.ndimage.filters import gaussian_filter, laplace\n",
    "import pandas as pd"
   ]
  },
  {
   "cell_type": "code",
   "execution_count": 13,
   "metadata": {
    "collapsed": true
   },
   "outputs": [],
   "source": [
    "def resample(image, scan, new_spacing=[1,1,1]):\n",
    "    # Determine current pixel spacing\n",
    "    spacing = np.array([scan[0].SliceThickness] + scan[0].PixelSpacing, dtype=np.float32)\n",
    "\n",
    "    resize_factor = spacing / new_spacing\n",
    "    new_real_shape = image.shape * resize_factor\n",
    "    new_shape = np.round(new_real_shape)\n",
    "    real_resize_factor = new_shape / image.shape\n",
    "    new_spacing = spacing / real_resize_factor\n",
    "    \n",
    "    image = scipy.ndimage.interpolation.zoom(image, real_resize_factor, mode='nearest')\n",
    "    \n",
    "    return image, new_spacing"
   ]
  },
  {
   "cell_type": "code",
   "execution_count": 14,
   "metadata": {
    "collapsed": true
   },
   "outputs": [],
   "source": [
    "# Load the scans in given folder path\n",
    "def load_scan(path):\n",
    "    slices = [dicom.read_file(join(path, pslice)) \n",
    "              for pslice in glob(join(path, '*.dcm'))]\n",
    "    slices.sort(key = lambda x: float(x.ImagePositionPatient[2]))\n",
    "    try:\n",
    "        slice_thickness = np.abs(slices[0].ImagePositionPatient[2] - slices[1].ImagePositionPatient[2])\n",
    "    except:\n",
    "        slice_thickness = np.abs(slices[0].SliceLocation - slices[1].SliceLocation)\n",
    "        \n",
    "    for s in slices:\n",
    "        s.SliceThickness = slice_thickness\n",
    "        \n",
    "    return slices"
   ]
  },
  {
   "cell_type": "code",
   "execution_count": 15,
   "metadata": {
    "collapsed": true
   },
   "outputs": [],
   "source": [
    "def get_pixels_hu(slices):\n",
    "    image = np.stack([s.pixel_array for s in slices])\n",
    "    # Convert to int16 (from sometimes int16), \n",
    "    # should be possible as values should always be low enough (<32k)\n",
    "    image = image.astype(np.int16)\n",
    "\n",
    "    # Set outside-of-scan pixels to 0\n",
    "    # The intercept is usually -1024, so air is approximately 0\n",
    "    image[image == -2000] = 0\n",
    "    \n",
    "    # Convert to Hounsfield units (HU)\n",
    "    for slice_number in range(len(slices)):\n",
    "        \n",
    "        intercept = slices[slice_number].RescaleIntercept\n",
    "        slope = slices[slice_number].RescaleSlope\n",
    "        \n",
    "        if slope != 1:\n",
    "            image[slice_number] = slope * image[slice_number].astype(np.float64)\n",
    "            image[slice_number] = image[slice_number].astype(np.int16)\n",
    "            \n",
    "        image[slice_number] += np.int16(intercept)\n",
    "    \n",
    "    return np.array(image, dtype=np.int16)"
   ]
  },
  {
   "cell_type": "code",
   "execution_count": 16,
   "metadata": {
    "collapsed": true
   },
   "outputs": [],
   "source": [
    "def largest_label_volume(im, bg=-1):\n",
    "    vals, counts = np.unique(im, return_counts=True)\n",
    "\n",
    "    counts = counts[vals != bg]\n",
    "    vals = vals[vals != bg]\n",
    "\n",
    "    if len(counts) > 0:\n",
    "        return vals[np.argmax(counts)]\n",
    "    else:\n",
    "        return None"
   ]
  },
  {
   "cell_type": "code",
   "execution_count": 17,
   "metadata": {
    "collapsed": true
   },
   "outputs": [],
   "source": [
    "def segment_lung_mask(image, fill_lung_structures=True):\n",
    "    \n",
    "    # not actually binary, but 1 and 2. \n",
    "    # 0 is treated as background, which we do not want\n",
    "    binary_image = np.array(image > -320, dtype=np.int8)+1\n",
    "    labels = measure.label(binary_image)\n",
    "    \n",
    "    # Pick the pixel in the very corner to determine which label is air.\n",
    "    #   Improvement: Pick multiple background labels from around the patient\n",
    "    #   More resistant to \"trays\" on which the patient lays cutting the air \n",
    "    #   around the person in half\n",
    "    background_label = labels[0,0,0]\n",
    "    \n",
    "    #Fill the air around the person\n",
    "    binary_image[background_label == labels] = 2\n",
    "    \n",
    "    \n",
    "    # Method of filling the lung structures (that is superior to something like \n",
    "    # morphological closing)\n",
    "    if fill_lung_structures:\n",
    "        # For every slice we determine the largest solid structure\n",
    "        for i, axial_slice in enumerate(binary_image):\n",
    "            axial_slice = axial_slice - 1\n",
    "            labeling = measure.label(axial_slice)\n",
    "            l_max = largest_label_volume(labeling, bg=0)\n",
    "            \n",
    "            if l_max is not None: #This slice contains some lung\n",
    "                binary_image[i][labeling != l_max] = 1\n",
    "\n",
    "    \n",
    "    binary_image -= 1 #Make the image actual binary\n",
    "    binary_image = 1-binary_image # Invert it, lungs are now 1\n",
    "    \n",
    "    # Remove other air pockets insided body\n",
    "    labels = measure.label(binary_image, background=0)\n",
    "    l_max = largest_label_volume(labels, bg=0)\n",
    "    if l_max is not None: # There are air pockets\n",
    "        binary_image[labels != l_max] = 0\n",
    " \n",
    "    return binary_image"
   ]
  },
  {
   "cell_type": "code",
   "execution_count": 18,
   "metadata": {
    "collapsed": true
   },
   "outputs": [],
   "source": [
    "def load_data(path):    \n",
    "    ct_scan = load_scan(path)\n",
    "    patient = get_pixels_hu(ct_scan)\n",
    "    patient, spacing = resample(patient, ct_scan, SPACING)\n",
    "    \n",
    "    mask = segment_lung_mask(patient)\n",
    "    mask = morphology.binary_fill_holes(\n",
    "        morphology.binary_dilation(\n",
    "            morphology.binary_fill_holes(mask > 0), \n",
    "            iterations=4)\n",
    "    )\n",
    "\n",
    "    return patient, mask"
   ]
  },
  {
   "cell_type": "code",
   "execution_count": 20,
   "metadata": {
    "collapsed": false
   },
   "outputs": [
    {
     "data": {
      "text/plain": [
       "'/home/a.dobrenkii/Projects/Kaggle/DataScienceBowl2K17/data/NEW_STAGE/DATA/63248fdafd2df302b57a479289d76105'"
      ]
     },
     "execution_count": 20,
     "metadata": {},
     "output_type": "execute_result"
    }
   ],
   "source": [
    "glob(join(PATH['STAGE_DATA'], '*'))[0]"
   ]
  },
  {
   "cell_type": "code",
   "execution_count": 19,
   "metadata": {
    "collapsed": false,
    "scrolled": true
   },
   "outputs": [
    {
     "ename": "IndexError",
     "evalue": "list index out of range",
     "output_type": "error",
     "traceback": [
      "\u001b[1;31m\u001b[0m",
      "\u001b[1;31mIndexError\u001b[0mTraceback (most recent call last)",
      "\u001b[1;32m<ipython-input-14-cfea26b7cb79>\u001b[0m in \u001b[0;36mload_scan\u001b[1;34m(path)\u001b[0m\n\u001b[0;32m      6\u001b[0m     \u001b[1;32mtry\u001b[0m\u001b[1;33m:\u001b[0m\u001b[1;33m\u001b[0m\u001b[0m\n\u001b[1;32m----> 7\u001b[1;33m         \u001b[0mslice_thickness\u001b[0m \u001b[1;33m=\u001b[0m \u001b[0mnp\u001b[0m\u001b[1;33m.\u001b[0m\u001b[0mabs\u001b[0m\u001b[1;33m(\u001b[0m\u001b[0mslices\u001b[0m\u001b[1;33m[\u001b[0m\u001b[1;36m0\u001b[0m\u001b[1;33m]\u001b[0m\u001b[1;33m.\u001b[0m\u001b[0mImagePositionPatient\u001b[0m\u001b[1;33m[\u001b[0m\u001b[1;36m2\u001b[0m\u001b[1;33m]\u001b[0m \u001b[1;33m-\u001b[0m \u001b[0mslices\u001b[0m\u001b[1;33m[\u001b[0m\u001b[1;36m1\u001b[0m\u001b[1;33m]\u001b[0m\u001b[1;33m.\u001b[0m\u001b[0mImagePositionPatient\u001b[0m\u001b[1;33m[\u001b[0m\u001b[1;36m2\u001b[0m\u001b[1;33m]\u001b[0m\u001b[1;33m)\u001b[0m\u001b[1;33m\u001b[0m\u001b[0m\n\u001b[0m\u001b[0;32m      8\u001b[0m     \u001b[1;32mexcept\u001b[0m\u001b[1;33m:\u001b[0m\u001b[1;33m\u001b[0m\u001b[0m\n",
      "\u001b[1;31mIndexError\u001b[0m: list index out of range",
      "\nDuring handling of the above exception, another exception occurred:\n",
      "\u001b[1;31mIndexError\u001b[0mTraceback (most recent call last)",
      "\u001b[1;32m<ipython-input-19-af8396de1f38>\u001b[0m in \u001b[0;36m<module>\u001b[1;34m()\u001b[0m\n\u001b[1;32m----> 1\u001b[1;33m \u001b[0mpatient\u001b[0m\u001b[1;33m,\u001b[0m \u001b[0mmask\u001b[0m \u001b[1;33m=\u001b[0m \u001b[0mload_data\u001b[0m\u001b[1;33m(\u001b[0m\u001b[0mjoin\u001b[0m\u001b[1;33m(\u001b[0m\u001b[0mPATH\u001b[0m\u001b[1;33m[\u001b[0m\u001b[1;34m'DATA'\u001b[0m\u001b[1;33m]\u001b[0m\u001b[1;33m,\u001b[0m \u001b[1;34m'0015ceb851d7251b8f399e39779d1e7d'\u001b[0m\u001b[1;33m)\u001b[0m\u001b[1;33m)\u001b[0m\u001b[1;33m\u001b[0m\u001b[0m\n\u001b[0m",
      "\u001b[1;32m<ipython-input-18-d15ae23e3b23>\u001b[0m in \u001b[0;36mload_data\u001b[1;34m(path)\u001b[0m\n\u001b[0;32m      1\u001b[0m \u001b[1;32mdef\u001b[0m \u001b[0mload_data\u001b[0m\u001b[1;33m(\u001b[0m\u001b[0mpath\u001b[0m\u001b[1;33m)\u001b[0m\u001b[1;33m:\u001b[0m\u001b[1;33m\u001b[0m\u001b[0m\n\u001b[1;32m----> 2\u001b[1;33m     \u001b[0mct_scan\u001b[0m \u001b[1;33m=\u001b[0m \u001b[0mload_scan\u001b[0m\u001b[1;33m(\u001b[0m\u001b[0mpath\u001b[0m\u001b[1;33m)\u001b[0m\u001b[1;33m\u001b[0m\u001b[0m\n\u001b[0m\u001b[0;32m      3\u001b[0m     \u001b[0mpatient\u001b[0m \u001b[1;33m=\u001b[0m \u001b[0mget_pixels_hu\u001b[0m\u001b[1;33m(\u001b[0m\u001b[0mct_scan\u001b[0m\u001b[1;33m)\u001b[0m\u001b[1;33m\u001b[0m\u001b[0m\n\u001b[0;32m      4\u001b[0m     \u001b[0mpatient\u001b[0m\u001b[1;33m,\u001b[0m \u001b[0mspacing\u001b[0m \u001b[1;33m=\u001b[0m \u001b[0mresample\u001b[0m\u001b[1;33m(\u001b[0m\u001b[0mpatient\u001b[0m\u001b[1;33m,\u001b[0m \u001b[0mct_scan\u001b[0m\u001b[1;33m,\u001b[0m \u001b[0mSPACING\u001b[0m\u001b[1;33m)\u001b[0m\u001b[1;33m\u001b[0m\u001b[0m\n\u001b[0;32m      5\u001b[0m \u001b[1;33m\u001b[0m\u001b[0m\n",
      "\u001b[1;32m<ipython-input-14-cfea26b7cb79>\u001b[0m in \u001b[0;36mload_scan\u001b[1;34m(path)\u001b[0m\n\u001b[0;32m      7\u001b[0m         \u001b[0mslice_thickness\u001b[0m \u001b[1;33m=\u001b[0m \u001b[0mnp\u001b[0m\u001b[1;33m.\u001b[0m\u001b[0mabs\u001b[0m\u001b[1;33m(\u001b[0m\u001b[0mslices\u001b[0m\u001b[1;33m[\u001b[0m\u001b[1;36m0\u001b[0m\u001b[1;33m]\u001b[0m\u001b[1;33m.\u001b[0m\u001b[0mImagePositionPatient\u001b[0m\u001b[1;33m[\u001b[0m\u001b[1;36m2\u001b[0m\u001b[1;33m]\u001b[0m \u001b[1;33m-\u001b[0m \u001b[0mslices\u001b[0m\u001b[1;33m[\u001b[0m\u001b[1;36m1\u001b[0m\u001b[1;33m]\u001b[0m\u001b[1;33m.\u001b[0m\u001b[0mImagePositionPatient\u001b[0m\u001b[1;33m[\u001b[0m\u001b[1;36m2\u001b[0m\u001b[1;33m]\u001b[0m\u001b[1;33m)\u001b[0m\u001b[1;33m\u001b[0m\u001b[0m\n\u001b[0;32m      8\u001b[0m     \u001b[1;32mexcept\u001b[0m\u001b[1;33m:\u001b[0m\u001b[1;33m\u001b[0m\u001b[0m\n\u001b[1;32m----> 9\u001b[1;33m         \u001b[0mslice_thickness\u001b[0m \u001b[1;33m=\u001b[0m \u001b[0mnp\u001b[0m\u001b[1;33m.\u001b[0m\u001b[0mabs\u001b[0m\u001b[1;33m(\u001b[0m\u001b[0mslices\u001b[0m\u001b[1;33m[\u001b[0m\u001b[1;36m0\u001b[0m\u001b[1;33m]\u001b[0m\u001b[1;33m.\u001b[0m\u001b[0mSliceLocation\u001b[0m \u001b[1;33m-\u001b[0m \u001b[0mslices\u001b[0m\u001b[1;33m[\u001b[0m\u001b[1;36m1\u001b[0m\u001b[1;33m]\u001b[0m\u001b[1;33m.\u001b[0m\u001b[0mSliceLocation\u001b[0m\u001b[1;33m)\u001b[0m\u001b[1;33m\u001b[0m\u001b[0m\n\u001b[0m\u001b[0;32m     10\u001b[0m \u001b[1;33m\u001b[0m\u001b[0m\n\u001b[0;32m     11\u001b[0m     \u001b[1;32mfor\u001b[0m \u001b[0ms\u001b[0m \u001b[1;32min\u001b[0m \u001b[0mslices\u001b[0m\u001b[1;33m:\u001b[0m\u001b[1;33m\u001b[0m\u001b[0m\n",
      "\u001b[1;31mIndexError\u001b[0m: list index out of range"
     ]
    }
   ],
   "source": [
    "patient, mask = load_data()"
   ]
  },
  {
   "cell_type": "code",
   "execution_count": 16,
   "metadata": {
    "collapsed": false
   },
   "outputs": [
    {
     "data": {
      "text/plain": [
       "'/home/a.dobrenkii/Projects/Kaggle/DataScienceBowl2K17/data/TRAIN'"
      ]
     },
     "execution_count": 16,
     "metadata": {},
     "output_type": "execute_result"
    }
   ],
   "source": [
    "'/home/a.dobrenkii/Projects/Kaggle/DataScienceBowl2K17/data/TRAIN/0015ceb851d7251b8f399e39779d1e7d/'"
   ]
  },
  {
   "cell_type": "code",
   "execution_count": null,
   "metadata": {
    "collapsed": true
   },
   "outputs": [],
   "source": [
    "def read_ct(path, ret_ct_scan=False, ret_xy_spacing=False):\n",
    "    patient = read_ct_scan(path)\n",
    "    if ret_ct_scan:\n",
    "        return get_pixels_hu(patient), patient\n",
    "    if ret_xy_spacing:\n",
    "        return get_pixels_hu(patient), patient.GetSpacing()[0]\n",
    "    \n",
    "    return get_pixels_hu(patient)"
   ]
  },
  {
   "cell_type": "code",
   "execution_count": 4,
   "metadata": {
    "collapsed": true
   },
   "outputs": [],
   "source": [
    "SPACING = array([1., 1., 1.])\n",
    "ISOLATED_THRESHOLD = -600\n",
    "DOT_ENHANCED_THRESHOLD = 6\n",
    "BOTTOM = 4\n",
    "TOP = 16\n",
    "CPU = 24\n",
    "FILTERS_AMOUNT = 6\n",
    "ISOLATED_MIN_VOLUME = 9\n",
    "ISOLATED_MAX_VOLUME = 500\n",
    "JUXTAVASCULAR_MIN_VOLUME = 9\n",
    "JUXTAPLEURAL_MIN_VALUME = 1"
   ]
  },
  {
   "cell_type": "code",
   "execution_count": 22,
   "metadata": {
    "collapsed": false
   },
   "outputs": [],
   "source": [
    "def get_scales(bottom=BOTTOM, top=TOP, \n",
    "               amount=FILTERS_AMOUNT):\n",
    "    radius = (top / bottom) ** (1. / (amount - 1))\n",
    "    sigmas = [bottom / 4.]\n",
    "    for i in range(amount - 1):\n",
    "        sigmas.append(sigmas[0] * (radius ** i + 1))\n",
    "    return sigmas"
   ]
  },
  {
   "cell_type": "code",
   "execution_count": 6,
   "metadata": {
    "collapsed": true
   },
   "outputs": [],
   "source": [
    "def load_data(patients, is_LUNA=False):    \n",
    "    masks_pats = []\n",
    "    for pat in patients:\n",
    "        _patient, ct_scan = read_ct(pat, True)\n",
    "        if is_LUNA:\n",
    "            _mask = load(join(PATH['DATA_OUT'], basename(pat).split('.mhd')[0] + '.npy')) > 0\n",
    "        else:\n",
    "            _mask = load(join(PATH['DATA_OUT'], basename(pat) + '.npy')) \n",
    "        _patient, spacing = resample(_patient, ct_scan, SPACING)\n",
    "        _mask, spacing_xy = resample(_mask, ct_scan, SPACING)\n",
    "        _mask = morphology.binary_fill_holes(morphology.binary_dilation(morphology.binary_fill_holes(_mask > 0), \n",
    "                                                                 iterations=4))\n",
    "        if is_LUNA:\n",
    "            candidates = pd.read_csv(join(PATH['LUNA_CSV'],'candidates.csv'))\n",
    "            candidates = candidates[candidates.seriesuid == basename(pat).split('.mhd')[0]]\n",
    "            _cands = []\n",
    "            for i,cand in (candidates.iterrows()):\n",
    "                _cands.append(flipud(asarray([cand.coordX,\n",
    "                                              cand.coordY,\n",
    "                                              cand.coordZ]) \n",
    "                                     - asarray(ct_scan.GetOrigin())).astype(int))\n",
    "            _cands = asarray(_cands)\n",
    "        else:\n",
    "            _cands = None\n",
    "\n",
    "        masks_pats.append((_mask, _patient, _cands))\n",
    "    return masks_pats"
   ]
  },
  {
   "cell_type": "code",
   "execution_count": 7,
   "metadata": {
    "collapsed": false
   },
   "outputs": [],
   "source": [
    "def apply_enhs_filters(masks_pats, include_plane=False):\n",
    "    enhs = []\n",
    "    sigmas = get_scales()\n",
    "    for mask, patient, cands in masks_pats:\n",
    "        start = time.time()\n",
    "\n",
    "        _enh_dot = zeros(mask.shape)\n",
    "        _enh_line = zeros(mask.shape)\n",
    "        _enh_plane = zeros(mask.shape)\n",
    "\n",
    "        z_dot = list()\n",
    "        z_line = list()\n",
    "        z_plane = list()\n",
    "        divs = list()\n",
    "\n",
    "        for i, sigma in enumerate(sigmas):\n",
    "\n",
    "            filtered = gaussian_filter(patient, sigma=sigma)\n",
    "            grad = gradient(filtered * mask)\n",
    "\n",
    "            axis = [[0, 1, 2], [1, 2], [2]]\n",
    "            hess = [gradient(deriv, axis=j) \n",
    "                    for i, deriv in enumerate(grad) \n",
    "                    for j in axis[i]]\n",
    "\n",
    "        #   [(0, xx), (1, xy), (2, xz), (3, yy), (4, yz), (5, zz)]\n",
    "        #   x, y, z -> 3, 3, x, y, z -> 3, 3, N\n",
    "\n",
    "            coords = where(mask)\n",
    "            for j in range(len(hess)):\n",
    "                hess[j] = hess[j][coords]\n",
    "\n",
    "            hess = asarray([[hess[0], hess[1], hess[2]],\n",
    "                            [hess[1], hess[3], hess[4]],\n",
    "                            [hess[2], hess[4], hess[5]]])\n",
    "\n",
    "\n",
    "            with Pool(CPU) as pool:\n",
    "                eigs = pool.map(linalg.eigvalsh, [hess[:, :, i] for i in range(hess.shape[-1])])\n",
    "\n",
    "\n",
    "            sigma_sqr = sigma ** 2\n",
    "            z_dot.append([sigma_sqr * (eig_val[2] ** 2) / abs(eig_val[0]) \n",
    "                          if eig_val[0] < 0 \n",
    "                          and eig_val[1] < 0 \n",
    "                          and eig_val[2] < 0 \n",
    "                          else 0\n",
    "                          for eig_val in eigs])\n",
    "\n",
    "            z_line.append([sigma_sqr * abs(eig_val[1]) \n",
    "                           * (abs(eig_val[1]) - abs(eig_val[2])) \n",
    "                           / abs(eig_val[0]) \n",
    "                           if eig_val[0] < 0 \n",
    "                           and eig_val[1] < 0 \n",
    "                           else 0\n",
    "                           for eig_val in eigs])\n",
    "\n",
    "            if include_plane:\n",
    "                z_plane.append([sigma_sqr * (abs(eig_val[0]) - abs(eig_val[1]))\n",
    "                                if eig_val[0] < 0 \n",
    "                                else 0\n",
    "                                for eig_val in eigs])\n",
    "\n",
    "\n",
    "        _enh_dot[coords] = asarray(z_dot).max(axis=0)\n",
    "        _enh_line[coords] = asarray(z_line).max(axis=0)\n",
    "        \n",
    "        end = time.time()\n",
    "        print(end - start)\n",
    "        if include_plane:\n",
    "            _enh_plane[coords] = asarray(z_plane).max(axis=0)\n",
    "        if include_plane:\n",
    "            enhs.append((_enh_dot, _enh_line, _enh_plane))\n",
    "        else:\n",
    "            enhs.append((_enh_dot, _enh_line))\n",
    "    return enhs"
   ]
  },
  {
   "cell_type": "code",
   "execution_count": 20,
   "metadata": {
    "collapsed": false
   },
   "outputs": [],
   "source": [
    "def divergence(sigma, patient):\n",
    "    grad = asarray(gradient(patient))\n",
    "    grad /= norm(grad, axis=0) + 1e-3\n",
    "    grad = [gaussian_filter(deriv, sigma=sigma) for deriv in grad]\n",
    "    return sum([gradient(el, axis=i) \n",
    "                for i, el in enumerate(grad)], axis=0)"
   ]
  },
  {
   "cell_type": "code",
   "execution_count": 28,
   "metadata": {
    "collapsed": false
   },
   "outputs": [],
   "source": [
    "def maxima_divergence(patient, mask, sigmas):\n",
    "    with Pool(CPU) as pool:\n",
    "        divs = pool.map(\n",
    "            functools.partial(divergence, \n",
    "                              patient=patient), \n",
    "            sigmas\n",
    "        )\n",
    "    divs = -1 * asarray(divs) * mask \n",
    "    return divs.max(axis=0)"
   ]
  },
  {
   "cell_type": "code",
   "execution_count": 73,
   "metadata": {
    "collapsed": false
   },
   "outputs": [
    {
     "data": {
      "image/png": "[encoded data removed]",
      "text/plain": [
       "<matplotlib.figure.Figure at 0x7f6032572358>"
      ]
     },
     "metadata": {},
     "output_type": "display_data"
    }
   ],
   "source": [
    "sigmas = get_scales()\n",
    "mdng = maxima_divergence(patient, mask, sigmas)\n",
    "\n",
    "mdng_max = mdng.max()\n",
    "mdng_std = mdng.std()\n",
    "\n",
    "figure(figsize=(18, 18))\n",
    "subplot(5, 3, 1) \n",
    "imshow(mdng[mdng.shape[0] // 2])\n",
    "axis('off')\n",
    "for i, threshold in enumerate(arange(7, 3, -.5)):\n",
    "    subplot(5, 3, i + 2) \n",
    "    imshow((mdng * (mdng >= mdng_max \n",
    "                    - threshold * mdng_std))[mdng.shape[0] // 2])\n",
    "    axis('off')\n",
    "show()"
   ]
  },
  {
   "cell_type": "markdown",
   "metadata": {},
   "source": [
    "isolated nodules"
   ]
  },
  {
   "cell_type": "code",
   "execution_count": 11,
   "metadata": {
    "collapsed": true
   },
   "outputs": [],
   "source": [
    "def is_in(colour, labe, dng_colours):\n",
    "    if colour in dng_colours:\n",
    "        return labe == colour"
   ]
  },
  {
   "cell_type": "code",
   "execution_count": 12,
   "metadata": {
    "collapsed": true
   },
   "outputs": [],
   "source": [
    "def get_isol(patient, mask, enh_dot, divs):\n",
    "    isolated = (patient > -600) * (mask > 0) * (enh_dot < 6) \n",
    "    labe, _ = label(isolated)\n",
    "    volumes = bincount(labe.flatten())\n",
    "    dng_colours = unique(labe * (divs > dng_thresh1))\n",
    "    colours = where((volumes > ISOLATED_MIN_VOLUME) \n",
    "                & (volumes < ISOLATED_MAX_VOLUME))[0]\n",
    "    isolated = zeros(isolated.shape)\n",
    "    iso_nodules_num = 0\n",
    "    for colour in colours:\n",
    "        if colour in dng_colours:\n",
    "            iso_nodules_num+=1\n",
    "            isolated += labe == colour\n",
    "    return isolated,iso_nodules_num"
   ]
  },
  {
   "cell_type": "code",
   "execution_count": 37,
   "metadata": {
    "collapsed": true
   },
   "outputs": [],
   "source": [
    "def get_pure_isol(patient, mask, enh_dot):\n",
    "    isolated = (patient > -600) * (mask > 0) * (enh_dot < 6) \n",
    "    labe, iso_nodules_num = label(isolated)\n",
    "    volumes = bincount(labe.flatten())\n",
    "    colours = where((volumes > ISOLATED_MIN_VOLUME) \n",
    "                & (volumes < ISOLATED_MAX_VOLUME))[0]\n",
    "    \n",
    "    isolated = zeros(isolated.shape).astype(bool)\n",
    "    for colour in colours:\n",
    "        isolated |= labe == colour\n",
    "        \n",
    "    return isolated, iso_nodules_num"
   ]
  },
  {
   "cell_type": "code",
   "execution_count": 38,
   "metadata": {
    "collapsed": false
   },
   "outputs": [],
   "source": [
    "def get_isol(patient, mask, enh_dot, divs):\n",
    "    isolated = (patient > -600) * (mask > 0) * (enh_dot < 6) \n",
    "    labe, _ = label(isolated)\n",
    "    volumes = bincount(labe.flatten())\n",
    "    dng_colours = unique(labe * (divs > dng_thresh1))\n",
    "    colours = where((volumes > ISOLATED_MIN_VOLUME) \n",
    "                & (volumes < ISOLATED_MAX_VOLUME))[0]\n",
    "    is_in_dng = functools.partial(is_in, dng_colours=dng_colours, labe=labe)\n",
    "    with Pool(CPU) as pool:\n",
    "        isolated = pool.map(is_in_dng, colours)\n",
    "        \n",
    "    isolated = list(filter(lambda x: x is not None, isolated))\n",
    "    iso_nodules_num = len(isolated)  \n",
    "    return asarray(isolated).sum(axis=0), iso_nodules_num"
   ]
  },
  {
   "cell_type": "code",
   "execution_count": 39,
   "metadata": {
    "collapsed": true
   },
   "outputs": [],
   "source": [
    "def get_j_va(patient, mask, enh_line, divs, iso):\n",
    "    juxtavascular = (patient > -600) * (mask > 0) * (enh_line > 150)\n",
    "    juxtavascular = juxtavascular * (divs <= dng_thresh1)\n",
    "    j_va_candidates = (divs > dng_thresh1) * (1 - juxtavascular) * (1 - iso)\n",
    "#     ????? WHY ARE YOU LABELING DIVS ??????\n",
    "    labe, _ = label(divs > dng_thresh1)\n",
    "\n",
    "    volumes = bincount(labe.flatten())\n",
    "    dng_colours = unique(labe * j_va_candidates)\n",
    "    colours = where((volumes > JUXTAVASCULAR_MIN_VOLUME) \n",
    "                    & (volumes < ISOLATED_MAX_VOLUME))[0]\n",
    "    j_va = zeros(juxtavascular.shape)\n",
    "    j_va_nodules_num = 0\n",
    "    for colour in colours:\n",
    "        if colour in dng_colours:\n",
    "            j_va_nodules_num+=1\n",
    "            j_va += labe == colour\n",
    "    return j_va, j_va_nodules_num"
   ]
  },
  {
   "cell_type": "code",
   "execution_count": 52,
   "metadata": {
    "collapsed": true
   },
   "outputs": [],
   "source": [
    "def get_pure_j_va(patient, mask, enh_line, iso):\n",
    "    juxtavascular = (patient > -600) * (mask > 0) * (enh_line > 150)\n",
    "    j_va_candidates = (1 - juxtavascular) * (1 - iso)\n",
    "    labe, j_va_nodules_num = label(j_va_candidates)\n",
    "\n",
    "    volumes = bincount(labe.flatten())\n",
    "    colours = where((volumes > JUXTAVASCULAR_MIN_VOLUME) \n",
    "                    & (volumes < ISOLATED_MAX_VOLUME))[0]\n",
    "    j_va = zeros(juxtavascular.shape).astype(bool)\n",
    "    for colour in colours:\n",
    "        j_va |= labe == colour\n",
    "    \n",
    "    return j_va, j_va_nodules_num"
   ]
  },
  {
   "cell_type": "code",
   "execution_count": 41,
   "metadata": {
    "collapsed": false
   },
   "outputs": [],
   "source": [
    "def get_j_va(patient, mask, enh_line, divs, iso):\n",
    "    juxtavascular = (patient > -600) * (mask > 0) * (enh_line > 150)\n",
    "    juxtavascular = juxtavascular * (divs <= dng_thresh1)\n",
    "    j_va_candidates = (divs > dng_thresh1) * (1 - juxtavascular) * (1 - iso)\n",
    "    labe, _ = label(divs > dng_thresh1)\n",
    "\n",
    "    volumes = bincount(labe.flatten())\n",
    "    dng_colours = unique(labe * j_va_candidates)\n",
    "    colours = where((volumes > JUXTAVASCULAR_MIN_VOLUME) \n",
    "                    & (volumes < ISOLATED_MAX_VOLUME))[0]\n",
    "    is_in_dng = functools.partial(is_in, dng_colours=dng_colours, labe=labe)\n",
    "    with Pool(CPU) as pool:\n",
    "        j_va = pool.map(is_in_dng, colours)\n",
    "        \n",
    "    j_va = list(filter(lambda x: x is not None, j_va))\n",
    "    j_va_nodules_num = len(j_va)  \n",
    "    return asarray(j_va).sum(axis=0), j_va_nodules_num"
   ]
  },
  {
   "cell_type": "code",
   "execution_count": 42,
   "metadata": {
    "collapsed": false
   },
   "outputs": [],
   "source": [
    "def get_j_pl(patient, mask, enh_dot, divs):\n",
    "    fixed_mask = morphology.binary_erosion(mask > 0, iterations=4)\n",
    "    border_mask = fixed_mask * (1 - morphology.binary_erosion(fixed_mask > 0, iterations=4))\n",
    "    juxtapleural = (patient > -400) * (border_mask > 0) * (enh_dot > 4)\n",
    "\n",
    "    labe, _ = label(juxtapleural)\n",
    "    volumes = bincount(labe.flatten())\n",
    "    dng_colours = unique(labe * (divs > dng_thresh2))\n",
    "    colours = where((volumes > JUXTAPLEURAL_MIN_VALUME) \n",
    "                    & (volumes < ISOLATED_MAX_VOLUME))[0]\n",
    "    j_pl = zeros(juxtapleural.shape)\n",
    "    j_pl_num = 0\n",
    "    for colour in colours:\n",
    "        if colour in dng_colours:\n",
    "            j_pl_num+=1\n",
    "            j_pl += labe == colour\n",
    "    return j_pl, j_pl_num"
   ]
  },
  {
   "cell_type": "code",
   "execution_count": 1,
   "metadata": {
    "collapsed": true
   },
   "outputs": [],
   "source": [
    "def get_pure_j_pl(patient, mask, enh_dot):\n",
    "    \n",
    "#     !!!!!!!!!!!!!!!!!!!!!!!!!!!!!!!!!!!!!!\n",
    "#     \n",
    "#     IF NO DILATION IN STILL STILL ERRONEUS \n",
    "#     UNCOMMENT ANYWAY\n",
    "#     fixed_mask = morphology.binary_erosion(mask > 0,iterations=4)\n",
    "# \n",
    "#     !!!!!!!!!!!!!!!!!!!!!!!!!!!!!!!!!!!!!!\n",
    "\n",
    "    border_mask = fixed_mask * (1 - morphology.binary_erosion(fixed_mask > 0,iterations=4))\n",
    "    juxtapleural = (patient > -400) * (border_mask > 0) * (enh_dot > 4)\n",
    "\n",
    "    labe, j_pl_num = label(juxtapleural)\n",
    "    volumes = bincount(labe.flatten())\n",
    "    colours = where((volumes > JUXTAPLEURAL_MIN_VALUME) \n",
    "                    & (volumes < ISOLATED_MAX_VOLUME))[0]\n",
    "    j_pl = zeros(juxtapleural.shape).astype(bool)\n",
    "    for colour in colours:\n",
    "        j_pl |= labe == colour\n",
    "    return j_pl, j_pl_num"
   ]
  },
  {
   "cell_type": "code",
   "execution_count": 62,
   "metadata": {
    "collapsed": true
   },
   "outputs": [],
   "source": [
    "def get_j_pl(patient, mask, enh_dot, divs):\n",
    "    fixed_mask = morphology.binary_erosion(mask > 0,iterations=4)\n",
    "    border_mask = fixed_mask * (1 - morphology.binary_erosion(fixed_mask > 0,iterations=4))\n",
    "    juxtapleural = (patient > -400) * (border_mask > 0) * (enh_dot > 4)\n",
    "\n",
    "    labe, _ = label(juxtapleural)\n",
    "    volumes = bincount(labe.flatten())\n",
    "    dng_colours = unique(labe * (divs > dng_thresh2))\n",
    "    colours = where((volumes > JUXTAPLEURAL_MIN_VALUME) \n",
    "                    & (volumes < ISOLATED_MAX_VOLUME))[0]\n",
    "    is_in_dng = functools.partial(is_in, dng_colours=dng_colours, labe=labe)\n",
    "    with Pool(CPU) as pool:\n",
    "        j_pl = pool.map(is_in_dng, colours)\n",
    "        \n",
    "    j_pl = list(filter(lambda x: x is not None, j_pl))\n",
    "    j_pl_num = len(j_pl)  \n",
    "    return asarray(j_pl).sum(axis=0), j_pl_num"
   ]
  },
  {
   "cell_type": "code",
   "execution_count": 63,
   "metadata": {
    "collapsed": false
   },
   "outputs": [],
   "source": [
    "def get_nodules(patient, mask, enh, divs):\n",
    "    \"\"\"\n",
    "    Here: \n",
    "    1 is for isolated\n",
    "    2 is for j_va\n",
    "    4 is for j_pl\n",
    "    \"\"\"\n",
    "    iso, iso_num = get_isol(patient,mask,enh[0],divs)\n",
    "    j_va, j_va_num = get_j_va(patient,mask,enh[1],divs,iso)\n",
    "    j_pl, j_pl_num = get_j_pl(patient,mask,enh[0],divs)\n",
    "    return 2 * j_va + iso + 4 * j_pl, (iso_num, j_va_num, j_pl_num)"
   ]
  },
  {
   "cell_type": "code",
   "execution_count": 64,
   "metadata": {
    "collapsed": true
   },
   "outputs": [],
   "source": [
    "def get_pure_nodules(patient, mask, enh):\n",
    "    \"\"\"\n",
    "    Here: \n",
    "    1 is for isolated\n",
    "    2 is for j_va\n",
    "    4 is for j_pl\n",
    "    \"\"\"\n",
    "    iso, iso_num = get_pure_isol(patient, mask, enh[0])\n",
    "    j_va, j_va_num = get_pure_j_va(patient, mask, enh[1], iso)\n",
    "    j_pl, j_pl_num = get_pure_j_pl(patient, mask, enh[0])\n",
    "    return 2 * j_va + iso + 4 * j_pl, (iso_num, j_va_num, j_pl_num)"
   ]
  },
  {
   "cell_type": "code",
   "execution_count": 65,
   "metadata": {
    "collapsed": false
   },
   "outputs": [],
   "source": [
    "# dng_thresh1 = .8\n",
    "# dng_thresh2_space = linspace(.1, .3, num=4)"
   ]
  },
  {
   "cell_type": "code",
   "execution_count": 66,
   "metadata": {
    "collapsed": false,
    "scrolled": true
   },
   "outputs": [],
   "source": [
    "def compute_candidates(masks_pats, enhs, \n",
    "                       divs_list=None, pure_only=True):\n",
    "    nodules = list()\n",
    "    amounts = list()\n",
    "    for mp, enh, div in tqdm(zip(masks_pats, enhs, divs_list)):\n",
    "        if pure_only:\n",
    "            n1, n1_num = get_pure_nodules(mp[1], mp[0], enh, div)\n",
    "        else:\n",
    "            n1, n1_num = get_nodules(mp[1], mp[0], enh, div)\n",
    "        nodules.append(n1)\n",
    "        amounts.append(n1_num)\n",
    "    return nodules, amounts"
   ]
  },
  {
   "cell_type": "code",
   "execution_count": 72,
   "metadata": {
    "collapsed": false,
    "scrolled": false
   },
   "outputs": [
    {
     "name": "stdout",
     "output_type": "stream",
     "text": [
      "890.6220519542694\n"
     ]
    },
    {
     "ename": "TypeError",
     "evalue": "Can't convert 'tuple' object to str implicitly",
     "output_type": "error",
     "traceback": [
      "\u001b[1;31m\u001b[0m",
      "\u001b[1;31mTypeError\u001b[0mTraceback (most recent call last)",
      "\u001b[1;32m<ipython-input-72-b956b7af857e>\u001b[0m in \u001b[0;36m<module>\u001b[1;34m()\u001b[0m\n\u001b[0;32m     13\u001b[0m \u001b[1;33m\u001b[0m\u001b[0m\n\u001b[0;32m     14\u001b[0m     \u001b[0msave\u001b[0m\u001b[1;33m(\u001b[0m\u001b[0mjoin\u001b[0m\u001b[1;33m(\u001b[0m\u001b[0mpath\u001b[0m\u001b[1;33m,\u001b[0m \u001b[0mbasename\u001b[0m\u001b[1;33m(\u001b[0m\u001b[0mpatient\u001b[0m\u001b[1;33m)\u001b[0m\u001b[1;33m)\u001b[0m\u001b[1;33m,\u001b[0m \u001b[0mnodules\u001b[0m\u001b[1;33m.\u001b[0m\u001b[0mastype\u001b[0m\u001b[1;33m(\u001b[0m\u001b[0mint8\u001b[0m\u001b[1;33m)\u001b[0m\u001b[1;33m)\u001b[0m\u001b[1;33m\u001b[0m\u001b[0m\n\u001b[1;32m---> 15\u001b[1;33m     \u001b[0msave\u001b[0m\u001b[1;33m(\u001b[0m\u001b[0mjoin\u001b[0m\u001b[1;33m(\u001b[0m\u001b[0mpath\u001b[0m\u001b[1;33m,\u001b[0m \u001b[0mbasename\u001b[0m\u001b[1;33m(\u001b[0m\u001b[0mpatient\u001b[0m\u001b[1;33m)\u001b[0m \u001b[1;33m+\u001b[0m \u001b[0mamounts\u001b[0m\u001b[1;33m)\u001b[0m\u001b[1;33m,\u001b[0m \u001b[0mamounts\u001b[0m\u001b[1;33m)\u001b[0m\u001b[1;33m\u001b[0m\u001b[0m\n\u001b[0m\u001b[0;32m     16\u001b[0m \u001b[1;33m\u001b[0m\u001b[0m\n\u001b[0;32m     17\u001b[0m     \u001b[0mend\u001b[0m \u001b[1;33m=\u001b[0m \u001b[0mtime\u001b[0m\u001b[1;33m.\u001b[0m\u001b[0mtime\u001b[0m\u001b[1;33m(\u001b[0m\u001b[1;33m)\u001b[0m\u001b[1;33m\u001b[0m\u001b[0m\n",
      "\u001b[1;31mTypeError\u001b[0m: Can't convert 'tuple' object to str implicitly"
     ]
    }
   ],
   "source": [
    "path = '/home/a.dobrenkii/Projects/Kaggle/DataScienceBowl2K17/data/TRAIN_ENHS'\n",
    "patients = list(sorted(glob(join(PATH['DATA'],'*'))))\n",
    "for i, patient in enumerate(patients):\n",
    "    start = time.time()\n",
    "        \n",
    "    masks_pats = load_data([patient])\n",
    "    enhs = apply_enhs_filters(masks_pats, \n",
    "                              include_plane=False)\n",
    "    \n",
    "    nodules, amounts = get_pure_nodules(masks_pats[0][1], \n",
    "                                        masks_pats[0][0], \n",
    "                                        enhs[0])\n",
    "    \n",
    "    save(join(path, basename(patient)), nodules.astype(int8))\n",
    "    save(join(path, basename(patient) + 'amounts'), amounts)\n",
    "    \n",
    "    end = time.time()\n",
    "    print('Patient id:\\t%d\\ttime:\\t%.2f' % (i, end - start))"
   ]
  },
  {
   "cell_type": "code",
   "execution_count": 8,
   "metadata": {
    "collapsed": false
   },
   "outputs": [],
   "source": [
    "def compute_tp_rate(masks_pats, nodules, \n",
    "                    cands, amounts, \n",
    "                    dng_thresh1, dng_thresh2):\n",
    "    tp_rates = list()\n",
    "    for mpc, pats_nodules in tqdm(zip(masks_pats, nodules)):\n",
    "        _, patient, cands = mpc\n",
    "\n",
    "        tru = 0.0\n",
    "        cands_lung = np.zeros(patient.shape)\n",
    "        cands_lung[(cands.T[0], cands.T[1], cands.T[2])] = 1\n",
    "        cands_lung = morphology.binary_dilation(cands_lung, iterations=4)\n",
    "        cands_lung, num = label(cands_lung)\n",
    "        cands_lung = pats_nodules * cands_lung\n",
    "        tp_rates.append(unique(cands_lung).shape[0] / num)\n",
    "\n",
    "    print('-'*30)\n",
    "    print('\\t\\tISO\\tPLUR')\n",
    "    print('DNG thresholds:\\t%.2f\\t%.2f' % (dng_thresh1, dng_thresh2))\n",
    "    print('Mean CPS:\\t%.2f' % array(amounts).mean(axis=0).sum())\n",
    "    print('Mean TP rate:\\t%.2f' % array(tp_rates).mean())   "
   ]
  },
  {
   "cell_type": "code",
   "execution_count": null,
   "metadata": {
    "collapsed": true
   },
   "outputs": [],
   "source": []
  }
 ],
 "metadata": {
  "anaconda-cloud": {},
  "kernelspec": {
   "display_name": "Python [Root]",
   "language": "python",
   "name": "Python [Root]"
  },
  "language_info": {
   "codemirror_mode": {
    "name": "ipython",
    "version": 3
   },
   "file_extension": ".py",
   "mimetype": "text/x-python",
   "name": "python",
   "nbconvert_exporter": "python",
   "pygments_lexer": "ipython3",
   "version": "3.5.2"
  }
 },
 "nbformat": 4,
 "nbformat_minor": 0
}
