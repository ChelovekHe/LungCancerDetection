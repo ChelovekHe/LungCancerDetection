{
 "cells": [
  {
   "cell_type": "code",
   "execution_count": 1,
   "metadata": {
    "collapsed": true
   },
   "outputs": [],
   "source": [
    "import numpy as np"
   ]
  },
  {
   "cell_type": "code",
   "execution_count": 11,
   "metadata": {
    "collapsed": true
   },
   "outputs": [],
   "source": [
    "def get_pivot(A, lo, hi):\n",
    "    return np.random.randint(lo, hi)\n",
    "\n",
    "def swap(A, i, j):\n",
    "    buff = A[i] \n",
    "    A[i] = A[j]\n",
    "    A[j] = buff"
   ]
  },
  {
   "cell_type": "markdown",
   "metadata": {},
   "source": [
    "algorithm partition(A, lo, hi) is  \n",
    "    $\\quad$pivot := get_pivot(A, lo, hi)  \n",
    "    $\\quad i := lo$  \n",
    "    $\\quad j := hi$      \n",
    "    $\\quad$while i < j do  \n",
    "        $\\quad\\quad$while A[i] < pivot do  \n",
    "          $\\quad\\quad\\quad$i := i + 1   \n",
    "        $\\quad\\quad$while A[j] > pivot do  \n",
    "          $\\quad\\quad\\quad$j := j - 1   \n",
    "        $\\quad\\quad$if i <= j then  \n",
    "            $\\quad\\quad\\quad$swap A[i] with A[j]  \n",
    "    $\\quad$return i + 1  "
   ]
  },
  {
   "cell_type": "code",
   "execution_count": 12,
   "metadata": {
    "collapsed": false
   },
   "outputs": [],
   "source": [
    "def partition(A, lo, hi):\n",
    "    pivot = get_pivot(A, lo, hi)\n",
    "    i = lo\n",
    "    j = hi\n",
    "    while i < j:\n",
    "        while A[i] < pivot:\n",
    "            i += 1\n",
    "        while A[j] > pivot:\n",
    "            j -= 1\n",
    "        if i <= j:\n",
    "            swap(A, i, j)\n",
    "    return i + 1 "
   ]
  },
  {
   "cell_type": "markdown",
   "metadata": {},
   "source": [
    "algorithm quicksort(A, lo, hi) is  \n",
    "    $\\quad$if lo < hi then  \n",
    "        $\\quad\\quad$p := partition(A, lo, hi)  \n",
    "        $\\quad\\quad$quicksort(A, lo, p – 1)  \n",
    "        $\\quad\\quad$quicksort(A, p, hi)  "
   ]
  },
  {
   "cell_type": "code",
   "execution_count": 13,
   "metadata": {
    "collapsed": false
   },
   "outputs": [],
   "source": [
    "def quicksort(A, lo, hi):\n",
    "    if lo < hi:\n",
    "        p = partition(A, lo, hi)\n",
    "        quicksort(A, lo, p - 1)\n",
    "        quicksort(A, p, hi) "
   ]
  },
  {
   "cell_type": "code",
   "execution_count": 17,
   "metadata": {
    "collapsed": false,
    "scrolled": true
   },
   "outputs": [
    {
     "name": "stdout",
     "output_type": "stream",
     "text": [
      "[9 8 4 3 1 0 7 6 2 5]\n",
      "[0 1 2 3 4 5 6 7 8 9]\n"
     ]
    }
   ],
   "source": [
    "A = np.arange(10)\n",
    "np.random.shuffle(A)\n",
    "print(A)\n",
    "quicksort(A, 0, A.shape[0] - 1)\n",
    "print(A)"
   ]
  }
 ],
 "metadata": {
  "anaconda-cloud": {},
  "kernelspec": {
   "display_name": "Python [Root]",
   "language": "python",
   "name": "Python [Root]"
  },
  "language_info": {
   "codemirror_mode": {
    "name": "ipython",
    "version": 3
   },
   "file_extension": ".py",
   "mimetype": "text/x-python",
   "name": "python",
   "nbconvert_exporter": "python",
   "pygments_lexer": "ipython3",
   "version": "3.5.2"
  }
 },
 "nbformat": 4,
 "nbformat_minor": 0
}
