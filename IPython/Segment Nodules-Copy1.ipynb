{
 "cells": [
  {
   "cell_type": "code",
   "execution_count": 1,
   "metadata": {
    "collapsed": false
   },
   "outputs": [
    {
     "name": "stdout",
     "output_type": "stream",
     "text": [
      "Populating the interactive namespace from numpy and matplotlib\n"
     ]
    }
   ],
   "source": [
    "import sys\n",
    "sys.path.append('../')\n",
    "sys.path.append('../support/')\n",
    "sys.path.append('../lung_segmentation/')\n",
    "\n",
    "from preprocessing import *\n",
    "from ct_reader import *\n",
    "import pandas as pd\n",
    "from os.path import join, basename, isfile\n",
    "from scipy.ndimage.interpolation import zoom\n",
    "from glob import glob\n",
    "from multiprocessing import Pool\n",
    "from scipy.ndimage import morphology\n",
    "from scipy.ndimage import label\n",
    "from skimage import measure\n",
    "from tqdm import tqdm\n",
    "from multiprocessing import Pool\n",
    "import pickle\n",
    "%pylab inline\n",
    "from paths import * \n",
    "from skimage.transform import resize\n",
    "import warnings\n",
    "# warnings.filterwarnings('ignore')"
   ]
  },
  {
   "cell_type": "code",
   "execution_count": 2,
   "metadata": {
    "collapsed": true
   },
   "outputs": [],
   "source": [
    "BORDER = 32\n",
    "BATCH_SIZE = 32\n",
    "SPACING = array([.9, .7, .7])\n",
    "UPSIDES = pickle.load(open(join(PATH['WEIGHTS'], \n",
    "                                'upsides'), 'rb'))\n",
    "CPU = 24"
   ]
  },
  {
   "cell_type": "code",
   "execution_count": 3,
   "metadata": {
    "collapsed": true
   },
   "outputs": [],
   "source": [
    "def read_ct(path, ret_xy_spacing=False, ret_original_format=True):\n",
    "    patient = read_ct_scan(path)\n",
    "    image = get_pixels_hu(patient)\n",
    "#     image[image == image[0,0,0]] = 0\n",
    "    \n",
    "    if ret_original_format:\n",
    "        return image, patient\n",
    "    \n",
    "    if ret_xy_spacing:\n",
    "        return image, patient.GetSpacing()[0]\n",
    "    \n",
    "    return image"
   ]
  },
  {
   "cell_type": "code",
   "execution_count": 4,
   "metadata": {
    "collapsed": true
   },
   "outputs": [],
   "source": [
    "def segment_nodules(patch, mask, is_nodule=True, magic_const=50):\n",
    "    prepared = (patch - patch.min()) / (patch.max() - patch.min())\n",
    "\n",
    "    kmeans = KMeans(n_clusters=2)\n",
    "    data = prepared[coords]\n",
    "    \n",
    "    if data.shape[0] <= 2:\n",
    "        return mask\n",
    "    \n",
    "    data = kmeans.fit_predict(expand_dims(data, 1))\n",
    "\n",
    "    kmean = zeros(mask.shape)\n",
    "    kmean[coords] = data + magic_const\n",
    "    labels, num = label(kmean, return_num=True, background=0)\n",
    "\n",
    "    nodule_a = argmax([sum(labels == i) for i in range(1, num + 1)]) + 1\n",
    "    init = kmeans.predict(expand_dims(prepared[labels == nodule_a], 1)).min()\n",
    "    nodule_b = list()\n",
    "    for i in range(1, num + 1):\n",
    "        if i != nodule_a:\n",
    "            if kmeans.predict(expand_dims(prepared[where(labels == i)], 1)).min() != init:\n",
    "                nodule_b.append((sum(labels == i), i))\n",
    "\n",
    "    nodule_b = max(nodule_b)[1]\n",
    "\n",
    "    A = prepared[labels == nodule_a]\n",
    "    B = prepared[labels == nodule_b]\n",
    "\n",
    "    if mean(A.reshape(-1)) > mean(B.reshape(-1)):\n",
    "        labels = labels == nodule_a\n",
    "    else:\n",
    "        labels = labels == nodule_b\n",
    "\n",
    "    return labels"
   ]
  },
  {
   "cell_type": "code",
   "execution_count": 5,
   "metadata": {
    "collapsed": false
   },
   "outputs": [],
   "source": [
    "def overlap(lung, mask):\n",
    "#     iso = binary_dilation(imresize(isolated[163], (512, 512)))\n",
    "    labeled, num = label(mask)\n",
    "    coords = list()\n",
    "    for colour in range(1, labeled.max() + 1):\n",
    "        coords.append(where(labeled == colour))\n",
    "        \n",
    "    coordsm = array([[int(coord[0].mean())\n",
    "                     for coord in coords], \n",
    "                    [int(coord[1].mean())\n",
    "                     for coord in coords],\n",
    "                    [int(coord[2].mean())\n",
    "                     for coord in coords]])\n",
    "        \n",
    "    coords = array([[int(coord[0].mean() / SPACING[0])\n",
    "                     for coord in coords], \n",
    "                    [int(coord[1].mean() / SPACING[1])\n",
    "                     for coord in coords],\n",
    "                    [int(coord[2].mean() / SPACING[2])\n",
    "                     for coord in coords]])\n",
    "    \n",
    "    pads = ((BORDER, BORDER), \n",
    "            (BORDER, BORDER), \n",
    "            (BORDER, BORDER))\n",
    "    \n",
    "    lung = pad(lung, pads, \n",
    "               mode='edge')\n",
    "    labeled = pad(labeled, pads, \n",
    "                  mode='edge')\n",
    "    patches = list()\n",
    "    masks = list()\n",
    "    for coord, coordm in zip(coords.T, coordsm.T):\n",
    "        patches.append(lung[coord[0]: coord[0] + 2 * BORDER,\n",
    "                            coord[1]: coord[1] + 2 * BORDER,\n",
    "                            coord[2]: coord[2] + 2 * BORDER])\n",
    "        \n",
    "        masks.append(labeled[coordm[0]: coordm[0] + 2 * BORDER,\n",
    "                             coordm[1]: coordm[1] + 2 * BORDER,\n",
    "                             coordm[2]: coordm[2] + 2 * BORDER])\n",
    "\n",
    "    return patches, masks"
   ]
  },
  {
   "cell_type": "code",
   "execution_count": 103,
   "metadata": {
    "collapsed": true
   },
   "outputs": [],
   "source": [
    "def operate(path):\n",
    "    lung, ct_lung = read_ct(path, ret_original_format=True)\n",
    "    \n",
    "    lung, spacing = resample(lung, ct_lung, SPACING)\n",
    "    \n",
    "    name = basename(path)\n",
    "    mask = load(join(PATH['DATA_ENHANCED'], \n",
    "                     name + '.npy'))\n",
    "    \n",
    "#     mask, spacing = resample(mask, (1, 1, 1), SPACING)\n",
    "    \n",
    "    if name in UPSIDES:\n",
    "        lung = flipud(lung)\n",
    "        mask = flipud(mask)\n",
    "        \n",
    "    batch, masks = overlap(lung, mask)\n",
    "    \n",
    "    return [patch.astype(int16) for patch in batch], masks"
   ]
  },
  {
   "cell_type": "code",
   "execution_count": 7,
   "metadata": {
    "collapsed": true
   },
   "outputs": [],
   "source": [
    "def get_remind_files():\n",
    "    file_list = set(glob(join(PATH['DATA'], '*')))\n",
    "#     file_list = file_list.difference(set([join(PATH['DATA'], basename(path).split('.npy')[0][:32]) \n",
    "#                             for path in glob(join(PATH['ENHANCED_CROPPED'], '*.npy'))]))\n",
    "    return sorted(list(file_list))"
   ]
  },
  {
   "cell_type": "code",
   "execution_count": 104,
   "metadata": {
    "collapsed": false
   },
   "outputs": [
    {
     "name": "stdout",
     "output_type": "stream",
     "text": [
      "(195, 512, 512)\n",
      "(390, 355, 355)\n",
      "(390, 355, 355)\n"
     ]
    },
    {
     "ename": "TypeError",
     "evalue": "'NoneType' object is not iterable",
     "output_type": "error",
     "traceback": [
      "\u001b[1;31m\u001b[0m",
      "\u001b[1;31mTypeError\u001b[0mTraceback (most recent call last)",
      "\u001b[1;32m<ipython-input-104-cdf98748fa0b>\u001b[0m in \u001b[0;36m<module>\u001b[1;34m()\u001b[0m\n\u001b[0;32m      7\u001b[0m \u001b[1;31m#     with Pool(CPU) as pool:\u001b[0m\u001b[1;33m\u001b[0m\u001b[1;33m\u001b[0m\u001b[0m\n\u001b[0;32m      8\u001b[0m \u001b[1;31m#         incorrect = pool.map(operate, batch_files)\u001b[0m\u001b[1;33m\u001b[0m\u001b[1;33m\u001b[0m\u001b[0m\n\u001b[1;32m----> 9\u001b[1;33m     \u001b[0mbatches\u001b[0m\u001b[1;33m,\u001b[0m \u001b[0mmasks\u001b[0m \u001b[1;33m=\u001b[0m \u001b[0moperate\u001b[0m\u001b[1;33m(\u001b[0m\u001b[0mbatch_files\u001b[0m\u001b[1;33m[\u001b[0m\u001b[1;36m0\u001b[0m\u001b[1;33m]\u001b[0m\u001b[1;33m)\u001b[0m\u001b[1;33m\u001b[0m\u001b[0m\n\u001b[0m\u001b[0;32m     10\u001b[0m     \u001b[1;32mbreak\u001b[0m\u001b[1;33m\u001b[0m\u001b[0m\n",
      "\u001b[1;31mTypeError\u001b[0m: 'NoneType' object is not iterable"
     ]
    }
   ],
   "source": [
    "file_list = get_remind_files()\n",
    "\n",
    "for counter in range(len(file_list) // BATCH_SIZE + 1):\n",
    "    \n",
    "    batch_files = file_list[BATCH_SIZE * counter:\n",
    "                            BATCH_SIZE * (counter + 1)]\n",
    "#     with Pool(CPU) as pool:\n",
    "#         incorrect = pool.map(operate, batch_files)\n",
    "    batches, masks = operate(batch_files[0])\n",
    "    break"
   ]
  },
  {
   "cell_type": "code",
   "execution_count": 29,
   "metadata": {
    "collapsed": false
   },
   "outputs": [
    {
     "data": {
      "text/plain": [
       "(64, 64, 64)"
      ]
     },
     "execution_count": 29,
     "metadata": {},
     "output_type": "execute_result"
    }
   ],
   "source": [
    "masks[0].shape"
   ]
  },
  {
   "cell_type": "code",
   "execution_count": 30,
   "metadata": {
    "collapsed": false,
    "scrolled": true
   },
   "outputs": [
    {
     "data": {
      "text/plain": [
       "(64, 64, 64)"
      ]
     },
     "execution_count": 30,
     "metadata": {},
     "output_type": "execute_result"
    }
   ],
   "source": [
    "batches[10].shape"
   ]
  },
  {
   "cell_type": "code",
   "execution_count": 31,
   "metadata": {
    "collapsed": false
   },
   "outputs": [],
   "source": [
    "lung, ct_lung = read_ct(batch_files[0], ret_original_format=True)\n",
    "lung, spacing = resample(lung, ct_lung, SPACING)\n",
    "    \n",
    "name = basename(batch_files[0])\n",
    "mask = load(join(PATH['DATA_ENHANCED'], \n",
    "                 name + '.npy'))\n",
    "    \n",
    "mask, spacing = resample(mask, (1, 1, 1), SPACING)"
   ]
  },
  {
   "cell_type": "code",
   "execution_count": 32,
   "metadata": {
    "collapsed": true
   },
   "outputs": [],
   "source": [
    "labeled, num = label(mask)"
   ]
  },
  {
   "cell_type": "code",
   "execution_count": 33,
   "metadata": {
    "collapsed": false
   },
   "outputs": [],
   "source": [
    "bincounted = bincount(labeled.flatten())\n",
    "maxima = sorted(list(zip(bincounted, \n",
    "                         arange(bincounted.shape[0]))), \n",
    "                reverse=True)[1:]"
   ]
  },
  {
   "cell_type": "code",
   "execution_count": 34,
   "metadata": {
    "collapsed": false
   },
   "outputs": [],
   "source": [
    "coord = where(labeled == maxima[7][1])\n",
    "x = int(coord[0].mean())\n",
    "y = int(coord[1].mean())\n",
    "z = int(coord[2].mean())"
   ]
  },
  {
   "cell_type": "code",
   "execution_count": 35,
   "metadata": {
    "collapsed": false
   },
   "outputs": [
    {
     "data": {
      "text/plain": [
       "<matplotlib.image.AxesImage at 0x7fe905f55240>"
      ]
     },
     "execution_count": 35,
     "metadata": {},
     "output_type": "execute_result"
    },
    {
     "data": {
      "image/png": "[encoded data removed]",
      "text/plain": [
       "<matplotlib.figure.Figure at 0x7fe906960240>"
      ]
     },
     "metadata": {},
     "output_type": "display_data"
    }
   ],
   "source": [
    "imshow(lung[x, \n",
    "            y - BORDER: y + BORDER, \n",
    "            z - BORDER: z + BORDER] \n",
    "       + 1000 * (labeled[x, \n",
    "                         y - BORDER: y + BORDER, \n",
    "                         z - BORDER: z + BORDER] != 0))"
   ]
  },
  {
   "cell_type": "code",
   "execution_count": 67,
   "metadata": {
    "collapsed": false,
    "scrolled": true
   },
   "outputs": [
    {
     "data": {
      "text/plain": [
       "<matplotlib.image.AxesImage at 0x7fe9057d28d0>"
      ]
     },
     "execution_count": 67,
     "metadata": {},
     "output_type": "execute_result"
    },
    {
     "data": {
      "image/png": "[encoded data removed]",
      "text/plain": [
       "<matplotlib.figure.Figure at 0x7fe905800278>"
      ]
     },
     "metadata": {},
     "output_type": "display_data"
    }
   ],
   "source": [
    "imshow(batches[312][30] + 1000 * (masks[312][30] != 0))"
   ]
  },
  {
   "cell_type": "code",
   "execution_count": 37,
   "metadata": {
    "collapsed": true
   },
   "outputs": [],
   "source": [
    "def region_growing(img, seed, minthr, maxthr, structure=None):\n",
    "    \"\"\"code was taken from:\n",
    "    https://github.com/loli/medpy/wiki/Basic-image-manipulation\n",
    "    \"\"\"\n",
    "    img[seed] = minthr\n",
    "    thrimg = (img <= maxthr) & (img >= minthr)\n",
    "    lmap, _ = label(thrimg, structure=structure)\n",
    "    lids = unique(lmap[seed])\n",
    "    region = zeros(img.shape, numpy.bool)\n",
    "    for lid in lids:\n",
    "        region |= lmap == lid\n",
    "    return region"
   ]
  },
  {
   "cell_type": "code",
   "execution_count": 39,
   "metadata": {
    "collapsed": false
   },
   "outputs": [
    {
     "data": {
      "text/plain": [
       "(array([11, 11, 11, 23, 23, 24, 24, 25, 25, 26, 27, 28, 28, 28, 29, 29, 29,\n",
       "        30, 31, 32, 32, 33, 33, 33, 33, 34, 34, 34, 34, 35, 44, 44, 44, 44,\n",
       "        44, 45, 45, 45, 46, 46, 46]),\n",
       " array([ 1,  2,  3, 59, 60, 56, 60, 56, 60, 56, 57, 58, 59, 60, 57, 58, 59,\n",
       "        57, 33, 32, 33, 29, 30, 32, 33, 26, 27, 28, 57, 57, 23, 24, 25, 34,\n",
       "        35, 22, 24, 35, 22, 23, 24]))"
      ]
     },
     "execution_count": 39,
     "metadata": {},
     "output_type": "execute_result"
    }
   ],
   "source": []
  },
  {
   "cell_type": "code",
   "execution_count": 102,
   "metadata": {
    "collapsed": false
   },
   "outputs": [
    {
     "name": "stdout",
     "output_type": "stream",
     "text": [
      "262052\n",
      "262052\n",
      "262052\n",
      "262052\n",
      "262052\n",
      "262052\n",
      "262052\n",
      "262052\n",
      "262052\n",
      "262052\n",
      "262052\n",
      "262052\n",
      "262052\n",
      "262052\n",
      "262052\n",
      "262052\n",
      "262052\n",
      "262052\n",
      "262052\n",
      "262052\n",
      "262052\n",
      "262052\n",
      "262052\n",
      "262052\n",
      "262052\n",
      "262052\n",
      "262052\n",
      "262052\n",
      "262052\n",
      "262052\n",
      "262052\n",
      "262052\n",
      "262052\n",
      "262052\n",
      "262052\n",
      "262052\n",
      "262052\n",
      "262052\n",
      "262052\n",
      "262052\n",
      "262052\n",
      "262052\n",
      "262052\n",
      "262052\n",
      "262052\n",
      "262052\n",
      "262052\n",
      "262052\n",
      "262052\n",
      "262052\n",
      "262052\n",
      "262052\n",
      "262052\n",
      "262052\n",
      "262052\n",
      "262052\n",
      "262052\n",
      "262052\n",
      "262052\n",
      "262053\n",
      "262053\n",
      "262053\n",
      "262053\n",
      "262053\n",
      "262053\n",
      "262053\n",
      "262054\n",
      "262054\n",
      "262054\n",
      "262054\n",
      "262054\n",
      "262054\n",
      "262054\n",
      "262055\n",
      "262055\n",
      "262055\n",
      "262055\n",
      "262055\n",
      "262055\n",
      "262055\n",
      "262055\n",
      "262055\n",
      "262055\n",
      "262056\n",
      "262056\n",
      "262056\n",
      "262056\n",
      "262056\n",
      "262056\n",
      "262056\n",
      "262056\n",
      "262056\n",
      "262056\n",
      "262056\n",
      "262056\n",
      "262056\n",
      "262056\n",
      "262056\n",
      "262056\n",
      "262056\n",
      "262056\n",
      "262056\n",
      "262056\n",
      "262056\n",
      "262056\n",
      "262056\n",
      "262056\n",
      "262056\n",
      "262056\n",
      "262056\n",
      "262056\n",
      "262056\n",
      "262056\n",
      "262056\n",
      "262056\n",
      "262056\n",
      "262056\n",
      "262056\n",
      "262056\n",
      "262056\n",
      "262056\n",
      "262056\n",
      "262056\n",
      "262056\n",
      "262056\n",
      "262056\n",
      "262056\n",
      "262056\n",
      "262056\n",
      "262056\n",
      "262056\n",
      "262056\n",
      "262056\n",
      "262056\n",
      "262056\n",
      "262056\n",
      "262056\n",
      "262056\n",
      "262056\n",
      "262056\n",
      "262056\n",
      "262056\n",
      "262056\n",
      "262056\n",
      "262056\n",
      "262056\n",
      "262056\n",
      "262056\n",
      "262056\n",
      "262056\n",
      "262056\n",
      "262056\n",
      "262056\n",
      "262056\n",
      "262056\n",
      "262056\n",
      "262056\n",
      "262056\n",
      "262056\n",
      "262056\n",
      "262056\n",
      "262056\n",
      "262056\n",
      "262056\n",
      "262056\n",
      "262056\n",
      "262056\n",
      "262056\n",
      "262056\n",
      "262056\n",
      "262056\n",
      "262056\n",
      "262056\n",
      "262056\n",
      "262056\n",
      "262056\n",
      "262056\n",
      "262056\n",
      "262056\n",
      "262056\n",
      "262056\n",
      "262056\n",
      "262056\n",
      "262056\n",
      "262056\n",
      "262056\n",
      "262056\n",
      "262056\n",
      "262056\n",
      "262056\n",
      "262056\n",
      "262056\n",
      "262056\n",
      "262056\n",
      "262056\n",
      "262056\n",
      "262056\n",
      "262056\n",
      "262056\n",
      "262056\n",
      "262056\n",
      "262056\n",
      "262056\n",
      "262056\n",
      "262056\n",
      "262056\n",
      "262056\n",
      "262056\n",
      "262056\n",
      "262056\n",
      "262056\n",
      "262056\n",
      "262056\n",
      "262056\n",
      "262056\n",
      "262056\n",
      "262056\n",
      "262056\n",
      "262056\n",
      "262056\n",
      "262056\n",
      "262056\n",
      "262056\n",
      "262056\n",
      "262056\n",
      "262056\n",
      "262056\n",
      "262056\n",
      "262056\n",
      "262056\n",
      "262056\n",
      "262056\n",
      "262056\n",
      "262056\n",
      "262056\n",
      "262056\n",
      "262056\n",
      "262056\n",
      "262056\n",
      "262056\n",
      "262056\n",
      "262056\n",
      "262056\n",
      "262056\n",
      "262056\n",
      "262056\n",
      "262056\n",
      "262056\n",
      "262056\n",
      "262056\n",
      "262056\n",
      "262056\n",
      "262056\n",
      "262056\n",
      "262056\n",
      "262056\n",
      "262056\n",
      "262056\n",
      "262056\n",
      "262056\n",
      "262056\n",
      "262056\n",
      "262056\n",
      "262056\n",
      "262056\n",
      "262056\n",
      "262056\n",
      "262056\n",
      "262056\n",
      "262056\n",
      "262056\n",
      "262056\n",
      "262056\n",
      "262056\n",
      "262056\n",
      "262056\n",
      "262056\n",
      "262056\n",
      "262056\n",
      "262056\n",
      "262056\n",
      "262056\n",
      "262056\n",
      "262056\n",
      "262056\n",
      "262056\n",
      "262056\n",
      "262056\n",
      "262056\n",
      "262056\n",
      "262056\n",
      "262056\n",
      "262056\n",
      "262056\n",
      "262056\n",
      "262056\n",
      "262056\n",
      "262056\n",
      "262056\n",
      "262056\n",
      "262056\n",
      "262056\n",
      "262056\n",
      "262056\n",
      "262056\n",
      "262056\n",
      "262056\n",
      "262056\n",
      "262056\n",
      "262056\n",
      "262056\n",
      "262056\n",
      "262056\n",
      "262056\n",
      "262056\n",
      "262056\n",
      "262056\n",
      "262056\n",
      "262056\n",
      "262056\n",
      "262056\n",
      "262056\n",
      "262056\n",
      "262056\n",
      "262056\n",
      "262056\n",
      "262056\n",
      "262056\n",
      "262056\n",
      "262056\n",
      "262056\n",
      "262056\n",
      "262056\n",
      "262056\n",
      "262056\n",
      "262056\n",
      "262056\n",
      "262056\n",
      "262056\n",
      "262056\n",
      "262056\n",
      "262056\n",
      "262056\n",
      "262056\n",
      "262056\n",
      "262056\n",
      "262056\n",
      "262056\n",
      "262056\n",
      "262056\n",
      "262056\n",
      "262056\n",
      "262056\n",
      "262056\n",
      "262056\n",
      "262056\n",
      "262056\n",
      "262056\n",
      "262056\n",
      "262056\n",
      "262056\n",
      "262056\n",
      "262056\n",
      "262056\n",
      "262056\n",
      "262056\n",
      "262056\n",
      "262056\n",
      "262056\n",
      "262056\n",
      "262056\n",
      "262056\n",
      "262056\n",
      "262056\n",
      "262056\n",
      "262056\n",
      "262056\n",
      "262056\n",
      "262056\n",
      "262056\n",
      "262056\n",
      "262056\n",
      "262056\n",
      "262056\n",
      "262056\n",
      "262056\n",
      "262056\n",
      "262056\n",
      "262056\n",
      "262056\n",
      "262056\n",
      "262056\n",
      "262056\n",
      "262056\n",
      "262056\n",
      "262056\n",
      "262056\n",
      "262056\n",
      "262056\n",
      "262056\n",
      "262056\n",
      "262056\n",
      "262056\n",
      "262056\n",
      "262056\n",
      "262056\n",
      "262056\n",
      "262056\n",
      "262056\n",
      "262056\n",
      "262056\n",
      "262056\n",
      "262056\n",
      "262056\n",
      "262056\n",
      "262056\n",
      "262056\n",
      "262056\n",
      "262056\n",
      "262056\n",
      "262056\n",
      "262056\n",
      "262056\n",
      "262056\n",
      "262056\n",
      "262056\n",
      "262056\n",
      "262056\n",
      "262056\n",
      "262056\n",
      "262056\n",
      "262056\n",
      "262056\n",
      "262056\n",
      "262056\n",
      "262056\n",
      "262056\n",
      "262056\n",
      "262056\n",
      "262056\n",
      "262056\n",
      "262056\n",
      "262056\n",
      "262056\n",
      "262056\n",
      "262056\n",
      "262056\n",
      "262056\n",
      "262056\n",
      "262056\n",
      "262056\n",
      "262056\n",
      "262056\n",
      "262056\n",
      "262056\n",
      "262056\n",
      "262056\n",
      "262056\n",
      "262056\n",
      "262056\n",
      "262056\n",
      "262056\n",
      "262056\n",
      "262056\n",
      "262056\n",
      "262056\n",
      "262056\n",
      "262056\n",
      "262056\n",
      "262056\n",
      "262056\n",
      "262056\n",
      "262056\n",
      "262056\n",
      "262056\n",
      "262056\n",
      "262056\n",
      "262056\n",
      "262056\n",
      "262056\n",
      "262056\n",
      "262056\n",
      "262056\n",
      "262056\n",
      "262056\n",
      "262056\n",
      "262056\n",
      "262056\n",
      "262056\n",
      "262056\n",
      "262056\n",
      "262056\n",
      "262056\n",
      "262056\n",
      "262056\n",
      "262056\n",
      "262056\n",
      "262056\n",
      "262056\n",
      "262056\n",
      "262056\n",
      "262056\n",
      "262056\n",
      "262056\n",
      "262056\n",
      "262056\n",
      "262056\n",
      "262056\n",
      "262056\n",
      "262056\n",
      "262056\n",
      "262056\n",
      "262056\n",
      "262056\n",
      "262056\n",
      "262056\n",
      "262056\n",
      "262056\n",
      "262056\n",
      "262056\n",
      "262056\n",
      "262056\n",
      "262056\n",
      "262056\n",
      "262056\n",
      "262056\n",
      "262056\n",
      "262056\n",
      "262056\n",
      "262056\n",
      "262056\n",
      "262056\n",
      "262056\n",
      "262056\n",
      "262056\n",
      "262056\n",
      "262056\n",
      "262056\n",
      "262056\n",
      "262056\n",
      "262056\n",
      "262056\n",
      "262056\n",
      "262056\n",
      "262056\n",
      "262056\n",
      "262056\n",
      "262056\n",
      "262056\n",
      "262056\n",
      "262056\n",
      "262056\n",
      "262056\n",
      "262056\n",
      "262056\n",
      "262056\n",
      "262056\n",
      "262056\n",
      "262056\n",
      "262056\n",
      "262056\n",
      "262056\n",
      "262056\n",
      "262056\n",
      "262056\n",
      "262056\n",
      "262056\n",
      "262056\n",
      "262056\n",
      "262056\n",
      "262056\n",
      "262056\n",
      "262056\n",
      "262056\n",
      "262056\n",
      "262056\n",
      "262056\n",
      "262056\n",
      "262056\n",
      "262056\n",
      "262056\n",
      "262056\n",
      "262056\n",
      "262056\n",
      "262056\n",
      "262056\n",
      "262056\n",
      "262056\n",
      "262056\n",
      "262056\n",
      "262056\n",
      "262056\n",
      "262056\n",
      "262056\n",
      "262056\n",
      "262056\n",
      "262056\n",
      "262056\n",
      "262056\n",
      "262056\n"
     ]
    },
    {
     "ename": "KeyboardInterrupt",
     "evalue": "",
     "output_type": "error",
     "traceback": [
      "\u001b[1;31m\u001b[0m",
      "\u001b[1;31mKeyboardInterrupt\u001b[0mTraceback (most recent call last)",
      "\u001b[1;32m<ipython-input-102-b9e029986709>\u001b[0m in \u001b[0;36m<module>\u001b[1;34m()\u001b[0m\n\u001b[0;32m     11\u001b[0m                                 \u001b[0mgrown\u001b[0m\u001b[1;33m[\u001b[0m\u001b[1;33m-\u001b[0m\u001b[1;36m1\u001b[0m\u001b[1;33m]\u001b[0m\u001b[1;33m,\u001b[0m\u001b[1;33m\u001b[0m\u001b[0m\n\u001b[0;32m     12\u001b[0m                                 \u001b[0mminval\u001b[0m\u001b[1;33m,\u001b[0m\u001b[1;33m\u001b[0m\u001b[0m\n\u001b[1;32m---> 13\u001b[1;33m                                 maxval))\n\u001b[0m\u001b[0;32m     14\u001b[0m \u001b[1;31m#     minval -= interval[0]\u001b[0m\u001b[1;33m\u001b[0m\u001b[1;33m\u001b[0m\u001b[0m\n\u001b[0;32m     15\u001b[0m     \u001b[0mmaxval\u001b[0m \u001b[1;33m+=\u001b[0m \u001b[0minterval\u001b[0m\u001b[1;33m[\u001b[0m\u001b[1;36m1\u001b[0m\u001b[1;33m]\u001b[0m\u001b[1;33m\u001b[0m\u001b[0m\n",
      "\u001b[1;32m<ipython-input-37-272807f4d603>\u001b[0m in \u001b[0;36mregion_growing\u001b[1;34m(img, seed, minthr, maxthr, structure)\u001b[0m\n\u001b[0;32m      6\u001b[0m     \u001b[0mthrimg\u001b[0m \u001b[1;33m=\u001b[0m \u001b[1;33m(\u001b[0m\u001b[0mimg\u001b[0m \u001b[1;33m<=\u001b[0m \u001b[0mmaxthr\u001b[0m\u001b[1;33m)\u001b[0m \u001b[1;33m&\u001b[0m \u001b[1;33m(\u001b[0m\u001b[0mimg\u001b[0m \u001b[1;33m>=\u001b[0m \u001b[0mminthr\u001b[0m\u001b[1;33m)\u001b[0m\u001b[1;33m\u001b[0m\u001b[0m\n\u001b[0;32m      7\u001b[0m     \u001b[0mlmap\u001b[0m\u001b[1;33m,\u001b[0m \u001b[0m_\u001b[0m \u001b[1;33m=\u001b[0m \u001b[0mlabel\u001b[0m\u001b[1;33m(\u001b[0m\u001b[0mthrimg\u001b[0m\u001b[1;33m,\u001b[0m \u001b[0mstructure\u001b[0m\u001b[1;33m=\u001b[0m\u001b[0mstructure\u001b[0m\u001b[1;33m)\u001b[0m\u001b[1;33m\u001b[0m\u001b[0m\n\u001b[1;32m----> 8\u001b[1;33m     \u001b[0mlids\u001b[0m \u001b[1;33m=\u001b[0m \u001b[0munique\u001b[0m\u001b[1;33m(\u001b[0m\u001b[0mlmap\u001b[0m\u001b[1;33m[\u001b[0m\u001b[0mseed\u001b[0m\u001b[1;33m]\u001b[0m\u001b[1;33m)\u001b[0m\u001b[1;33m\u001b[0m\u001b[0m\n\u001b[0m\u001b[0;32m      9\u001b[0m     \u001b[0mregion\u001b[0m \u001b[1;33m=\u001b[0m \u001b[0mzeros\u001b[0m\u001b[1;33m(\u001b[0m\u001b[0mimg\u001b[0m\u001b[1;33m.\u001b[0m\u001b[0mshape\u001b[0m\u001b[1;33m,\u001b[0m \u001b[0mnumpy\u001b[0m\u001b[1;33m.\u001b[0m\u001b[0mbool\u001b[0m\u001b[1;33m)\u001b[0m\u001b[1;33m\u001b[0m\u001b[0m\n\u001b[0;32m     10\u001b[0m     \u001b[1;32mfor\u001b[0m \u001b[0mlid\u001b[0m \u001b[1;32min\u001b[0m \u001b[0mlids\u001b[0m\u001b[1;33m:\u001b[0m\u001b[1;33m\u001b[0m\u001b[0m\n",
      "\u001b[1;32m/home/a.dobrenkii/anaconda3/lib/python3.5/site-packages/numpy/lib/arraysetops.py\u001b[0m in \u001b[0;36munique\u001b[1;34m(ar, return_index, return_inverse, return_counts)\u001b[0m\n\u001b[0;32m    196\u001b[0m         \u001b[0maux\u001b[0m \u001b[1;33m=\u001b[0m \u001b[0mar\u001b[0m\u001b[1;33m[\u001b[0m\u001b[0mperm\u001b[0m\u001b[1;33m]\u001b[0m\u001b[1;33m\u001b[0m\u001b[0m\n\u001b[0;32m    197\u001b[0m     \u001b[1;32melse\u001b[0m\u001b[1;33m:\u001b[0m\u001b[1;33m\u001b[0m\u001b[0m\n\u001b[1;32m--> 198\u001b[1;33m         \u001b[0mar\u001b[0m\u001b[1;33m.\u001b[0m\u001b[0msort\u001b[0m\u001b[1;33m(\u001b[0m\u001b[1;33m)\u001b[0m\u001b[1;33m\u001b[0m\u001b[0m\n\u001b[0m\u001b[0;32m    199\u001b[0m         \u001b[0maux\u001b[0m \u001b[1;33m=\u001b[0m \u001b[0mar\u001b[0m\u001b[1;33m\u001b[0m\u001b[0m\n\u001b[0;32m    200\u001b[0m     \u001b[0mflag\u001b[0m \u001b[1;33m=\u001b[0m \u001b[0mnp\u001b[0m\u001b[1;33m.\u001b[0m\u001b[0mconcatenate\u001b[0m\u001b[1;33m(\u001b[0m\u001b[1;33m(\u001b[0m\u001b[1;33m[\u001b[0m\u001b[1;32mTrue\u001b[0m\u001b[1;33m]\u001b[0m\u001b[1;33m,\u001b[0m \u001b[0maux\u001b[0m\u001b[1;33m[\u001b[0m\u001b[1;36m1\u001b[0m\u001b[1;33m:\u001b[0m\u001b[1;33m]\u001b[0m \u001b[1;33m!=\u001b[0m \u001b[0maux\u001b[0m\u001b[1;33m[\u001b[0m\u001b[1;33m:\u001b[0m\u001b[1;33m-\u001b[0m\u001b[1;36m1\u001b[0m\u001b[1;33m]\u001b[0m\u001b[1;33m)\u001b[0m\u001b[1;33m)\u001b[0m\u001b[1;33m\u001b[0m\u001b[0m\n",
      "\u001b[1;31mKeyboardInterrupt\u001b[0m: "
     ]
    }
   ],
   "source": [
    "batch_num = 32\n",
    "mask = masks[32]\n",
    "batch = batches[32].copy()\n",
    "interval = [1, 1]\n",
    "grown = [mask == mask[32][32][32]] * 2\n",
    "minval = median(batch[grown[-1]])\n",
    "maxval = median(batch[grown[-1]])\n",
    "sums = [grown[0].sum()] * 2\n",
    "while 2 * sums[0] > sums[1]: #unique((mask == mask[32][32]) == grown).shape[0] == 1:\n",
    "    grown.append(region_growing(batch, \n",
    "                                grown[-1], \n",
    "                                minval, \n",
    "                                maxval))\n",
    "#     minval -= interval[0]\n",
    "    maxval += interval[1]\n",
    "    grown.pop(0)\n",
    "    sums.append(grown[-1].sum())\n",
    "    sums.pop(0)\n",
    "    print(sums[-1])"
   ]
  },
  {
   "cell_type": "code",
   "execution_count": 101,
   "metadata": {
    "collapsed": false
   },
   "outputs": [
    {
     "data": {
      "image/png": "[encoded data removed]",
      "text/plain": [
       "<matplotlib.figure.Figure at 0x7fe904dd7e10>"
      ]
     },
     "metadata": {},
     "output_type": "display_data"
    },
    {
     "data": {
      "image/png": "[encoded data removed]",
      "text/plain": [
       "<matplotlib.figure.Figure at 0x7fe904a88b38>"
      ]
     },
     "metadata": {},
     "output_type": "display_data"
    },
    {
     "data": {
      "text/plain": [
       "<matplotlib.image.AxesImage at 0x7fe9049abc18>"
      ]
     },
     "execution_count": 101,
     "metadata": {},
     "output_type": "execute_result"
    },
    {
     "data": {
      "image/png": "[encoded data removed]",
      "text/plain": [
       "<matplotlib.figure.Figure at 0x7fe904a56c88>"
      ]
     },
     "metadata": {},
     "output_type": "display_data"
    }
   ],
   "source": [
    "i = 32\n",
    "\n",
    "plt.imshow(batch[i] + 1000 * (mask[i] > 0))\n",
    "plt.show()\n",
    "plt.imshow(batch[i] + 1000 * grown[0][i])\n",
    "plt.show()\n",
    "plt.imshow(batch[i] + 1000 * grown[1][i])"
   ]
  },
  {
   "cell_type": "code",
   "execution_count": 66,
   "metadata": {
    "collapsed": false
   },
   "outputs": [
    {
     "data": {
      "text/plain": [
       "array([ True], dtype=bool)"
      ]
     },
     "execution_count": 66,
     "metadata": {},
     "output_type": "execute_result"
    }
   ],
   "source": [
    "unique((masks[312][32] == masks[312][32][32][32]) == grown)"
   ]
  },
  {
   "cell_type": "code",
   "execution_count": null,
   "metadata": {
    "collapsed": true
   },
   "outputs": [],
   "source": []
  }
 ],
 "metadata": {
  "anaconda-cloud": {},
  "kernelspec": {
   "display_name": "Python [Root]",
   "language": "python",
   "name": "Python [Root]"
  },
  "language_info": {
   "codemirror_mode": {
    "name": "ipython",
    "version": 3
   },
   "file_extension": ".py",
   "mimetype": "text/x-python",
   "name": "python",
   "nbconvert_exporter": "python",
   "pygments_lexer": "ipython3",
   "version": "3.5.2"
  }
 },
 "nbformat": 4,
 "nbformat_minor": 0
}
