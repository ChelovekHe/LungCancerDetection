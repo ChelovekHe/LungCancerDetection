{
 "cells": [
  {
   "cell_type": "code",
   "execution_count": 1,
   "metadata": {
    "collapsed": true
   },
   "outputs": [],
   "source": [
    "import sys\n",
    "sys.path.append('../')\n",
    "sys.path.append('../support/')\n",
    "sys.path.append('../lung_segmentation/')\n",
    "import os\n",
    "import SimpleITK\n",
    "from lung_separation import *\n",
    "from ct_reader import *\n",
    "from os.path import join, basename, isfile\n",
    "from glob import glob\n",
    "from scipy.ndimage import morphology\n",
    "from skimage import filters\n",
    "from skimage import exposure\n",
    "from tqdm import tqdm\n",
    "from skimage import morphology as skm\n",
    "from skimage.morphology import watershed\n",
    "from scipy.ndimage import label\n",
    "from scipy.ndimage import generate_binary_structure\n",
    "from skimage import measure\n",
    "from multiprocessing import Pool\n",
    "import pickle\n",
    "from pure_ws_segmentation import *\n",
    "from numpy import *\n",
    "# import warnings\n",
    "# warnings.filterwarnings('ignore')\n",
    "\n",
    "import SimpleITK as sitk\n",
    "from paths import * \n",
    "from skimage.transform import resize\n",
    "\n"
   ]
  },
  {
   "cell_type": "code",
   "execution_count": 4,
   "metadata": {
    "collapsed": false
   },
   "outputs": [],
   "source": [
    "\n",
    "erroneus = sorted(list(set(pickle.load(open(join(PATH['STAGE_MASKS'], 'erroneus.pkl'), 'rb')))))\n",
    "erroneus = [join(PATH['STAGE_DATA'],err) for err in erroneus]\n",
    "path = erroneus[0]\n",
    "ct_scan = read_ct_scan(path)\n",
    "ct_scan_px = get_pixels_hu(ct_scan)\n",
    "# start = time.time()\n",
    "\n",
    "\n",
    "with Pool(34) as pool:\n",
    "    ct_excluded = pool.map(exclude_lungs, ct_scan_px)\n",
    "\n",
    "# end = time.time()\n",
    "# print(end - start)\n",
    "\n",
    "# for err in erroneus[:1]:\n",
    "#     operate(err)\n"
   ]
  },
  {
   "cell_type": "code",
   "execution_count": null,
   "metadata": {
    "collapsed": false
   },
   "outputs": [],
   "source": [
    "\n",
    "lung_filter = asarray(ct_excluded)\n",
    "left, right = separate_lungs3d(lung_filter)\n",
    "# save(join(join(PATH['STAGE_MASKS'],'FIXED'),basename(path)),left+2*right)\n"
   ]
  },
  {
   "cell_type": "code",
   "execution_count": 9,
   "metadata": {
    "collapsed": false
   },
   "outputs": [],
   "source": [
    "import matplotlib.pyplot as plt\n",
    "%matplotlib inline\n"
   ]
  },
  {
   "cell_type": "code",
   "execution_count": 16,
   "metadata": {
    "collapsed": false
   },
   "outputs": [
    {
     "data": {
      "text/plain": [
       "(array([  0,   0,   0, ..., 204, 204, 204]),\n",
       " array([  0,   0,   0, ..., 511, 511, 511]),\n",
       " array([  0,   1,   2, ..., 509, 510, 511]))"
      ]
     },
     "execution_count": 16,
     "metadata": {},
     "output_type": "execute_result"
    }
   ],
   "source": [
    "where(lung_filter==128)"
   ]
  },
  {
   "cell_type": "code",
   "execution_count": 14,
   "metadata": {
    "collapsed": false
   },
   "outputs": [
    {
     "data": {
      "text/plain": [
       "<matplotlib.image.AxesImage at 0x7fc788115dd8>"
      ]
     },
     "execution_count": 14,
     "metadata": {},
     "output_type": "execute_result"
    },
    {
     "data": {
      "image/png": "[encoded data removed]",
      "text/plain": [
       "<matplotlib.figure.Figure at 0x7fc7880a6c88>"
      ]
     },
     "metadata": {},
     "output_type": "display_data"
    }
   ],
   "source": [
    "plt.imshow(lung_filter[80])"
   ]
  },
  {
   "cell_type": "code",
   "execution_count": null,
   "metadata": {
    "collapsed": true
   },
   "outputs": [],
   "source": []
  }
 ],
 "metadata": {
  "anaconda-cloud": {},
  "kernelspec": {
   "display_name": "Python [Root]",
   "language": "python",
   "name": "Python [Root]"
  },
  "language_info": {
   "codemirror_mode": {
    "name": "ipython",
    "version": 3
   },
   "file_extension": ".py",
   "mimetype": "text/x-python",
   "name": "python",
   "nbconvert_exporter": "python",
   "pygments_lexer": "ipython3",
   "version": "3.5.2"
  }
 },
 "nbformat": 4,
 "nbformat_minor": 0
}
