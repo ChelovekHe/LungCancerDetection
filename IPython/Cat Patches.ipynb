{
 "cells": [
  {
   "cell_type": "code",
   "execution_count": 2,
   "metadata": {
    "collapsed": false,
    "scrolled": false
   },
   "outputs": [
    {
     "name": "stdout",
     "output_type": "stream",
     "text": [
      "Populating the interactive namespace from numpy and matplotlib\n"
     ]
    }
   ],
   "source": [
    "import sys\n",
    "sys.path.append('../')\n",
    "sys.path.append('../support/')\n",
    "sys.path.append('../lung_segmentation/')\n",
    "\n",
    "from preprocessing import *\n",
    "from ct_reader import *\n",
    "import pandas as pd\n",
    "from os.path import join, basename, isfile\n",
    "from scipy.ndimage.interpolation import zoom\n",
    "from glob import glob\n",
    "from multiprocessing import Pool\n",
    "from scipy.ndimage import morphology\n",
    "from scipy.ndimage import label\n",
    "from skimage import measure\n",
    "from tqdm import tqdm\n",
    "from multiprocessing import Pool\n",
    "import pickle\n",
    "%pylab inline\n",
    "from paths import * \n",
    "from skimage.transform import resize\n",
    "import warnings\n",
    "import seaborn as sns\n",
    "sns.set_style('ticks')\n",
    "\n",
    "warnings.filterwarnings('ignore')"
   ]
  },
  {
   "cell_type": "code",
   "execution_count": 3,
   "metadata": {
    "collapsed": true
   },
   "outputs": [],
   "source": [
    "def read_ct(path, ret_xy_spacing=False, ret_original_format=True):\n",
    "    patient = read_ct_scan(path)\n",
    "    image = get_pixels_hu(patient)\n",
    "#     image[image == image[0,0,0]] = 0\n",
    "    \n",
    "    if ret_original_format:\n",
    "        return image, patient\n",
    "    \n",
    "    if ret_xy_spacing:\n",
    "        return image, patient.GetSpacing()[0]\n",
    "    \n",
    "    return image"
   ]
  },
  {
   "cell_type": "code",
   "execution_count": 6,
   "metadata": {
    "collapsed": true
   },
   "outputs": [],
   "source": [
    "def region_growing(img, seed, maxthr, structure=None):\n",
    "    \"\"\"code was tekan from:\n",
    "    https://github.com/loli/medpy/wiki/Basic-image-manipulation\n",
    "    \"\"\"\n",
    "    thrimg = img < maxthr\n",
    "    lmap, _ = label(thrimg, structure=structure)\n",
    "    lids = unique(lmap[seed])\n",
    "    region = zeros(img.shape, numpy.bool)\n",
    "    for lid in lids:\n",
    "        region |= lmap == lid\n",
    "    return region"
   ]
  },
  {
   "cell_type": "code",
   "execution_count": 7,
   "metadata": {
    "collapsed": false
   },
   "outputs": [],
   "source": [
    "def segment_nodules(patch, mask, is_nodule=True, magic_const=50):\n",
    "    prepared = (patch - patch.min()) / (patch.max() - patch.min())\n",
    "\n",
    "    kmeans = KMeans(n_clusters=2)\n",
    "\n",
    "    if IS_NODULE:\n",
    "        coords = where(mask == 2)\n",
    "    else:\n",
    "        coords = where(mask >= 0)\n",
    "    \n",
    "    \n",
    "\n",
    "    data = prepared[coords]\n",
    "    \n",
    "    if data.shape[0] <= 2:\n",
    "        return mask\n",
    "    \n",
    "    data = kmeans.fit_predict(expand_dims(data, 1))\n",
    "\n",
    "    kmean = zeros(mask.shape)\n",
    "    kmean[coords] = data + magic_const\n",
    "    labels, num = label(kmean, return_num=True, background=0)\n",
    "\n",
    "    nodule_a = argmax([sum(labels == i) for i in range(1, num + 1)]) + 1\n",
    "    init = kmeans.predict(expand_dims(prepared[labels == nodule_a], 1)).min()\n",
    "    nodule_b = list()\n",
    "    for i in range(1, num + 1):\n",
    "        if i != nodule_a:\n",
    "            if kmeans.predict(expand_dims(prepared[where(labels == i)], 1)).min() != init:\n",
    "                nodule_b.append((sum(labels == i), i))\n",
    "\n",
    "    nodule_b = max(nodule_b)[1]\n",
    "\n",
    "    A = prepared[labels == nodule_a]\n",
    "    B = prepared[labels == nodule_b]\n",
    "\n",
    "    if mean(A.reshape(-1)) > mean(B.reshape(-1)):\n",
    "        labels = labels == nodule_a\n",
    "    else:\n",
    "        labels = labels == nodule_b\n",
    "\n",
    "    return labels"
   ]
  },
  {
   "cell_type": "code",
   "execution_count": 8,
   "metadata": {
    "collapsed": true
   },
   "outputs": [],
   "source": [
    "BORDER = 32\n",
    "SPACING = array([.9, .7, .7])\n",
    "CPU = 24"
   ]
  },
  {
   "cell_type": "code",
   "execution_count": 9,
   "metadata": {
    "collapsed": false,
    "scrolled": true
   },
   "outputs": [
    {
     "data": {
      "text/html": [
       "<div>\n",
       "<table border=\"1\" class=\"dataframe\">\n",
       "  <thead>\n",
       "    <tr style=\"text-align: right;\">\n",
       "      <th></th>\n",
       "      <th>seriesuid</th>\n",
       "      <th>coordX</th>\n",
       "      <th>coordY</th>\n",
       "      <th>coordZ</th>\n",
       "      <th>class</th>\n",
       "    </tr>\n",
       "  </thead>\n",
       "  <tbody>\n",
       "    <tr>\n",
       "      <th>0</th>\n",
       "      <td>1.3.6.1.4.1.14519.5.2.1.6279.6001.100225287222...</td>\n",
       "      <td>-56.08</td>\n",
       "      <td>-67.85</td>\n",
       "      <td>-311.92</td>\n",
       "      <td>0</td>\n",
       "    </tr>\n",
       "    <tr>\n",
       "      <th>1</th>\n",
       "      <td>1.3.6.1.4.1.14519.5.2.1.6279.6001.100225287222...</td>\n",
       "      <td>53.21</td>\n",
       "      <td>-244.41</td>\n",
       "      <td>-245.17</td>\n",
       "      <td>0</td>\n",
       "    </tr>\n",
       "    <tr>\n",
       "      <th>2</th>\n",
       "      <td>1.3.6.1.4.1.14519.5.2.1.6279.6001.100225287222...</td>\n",
       "      <td>103.66</td>\n",
       "      <td>-121.80</td>\n",
       "      <td>-286.62</td>\n",
       "      <td>0</td>\n",
       "    </tr>\n",
       "    <tr>\n",
       "      <th>3</th>\n",
       "      <td>1.3.6.1.4.1.14519.5.2.1.6279.6001.100225287222...</td>\n",
       "      <td>-33.66</td>\n",
       "      <td>-72.75</td>\n",
       "      <td>-308.41</td>\n",
       "      <td>0</td>\n",
       "    </tr>\n",
       "    <tr>\n",
       "      <th>4</th>\n",
       "      <td>1.3.6.1.4.1.14519.5.2.1.6279.6001.100225287222...</td>\n",
       "      <td>-32.25</td>\n",
       "      <td>-85.36</td>\n",
       "      <td>-362.51</td>\n",
       "      <td>0</td>\n",
       "    </tr>\n",
       "  </tbody>\n",
       "</table>\n",
       "</div>"
      ],
      "text/plain": [
       "                                           seriesuid  coordX  coordY  coordZ  \\\n",
       "0  1.3.6.1.4.1.14519.5.2.1.6279.6001.100225287222...  -56.08  -67.85 -311.92   \n",
       "1  1.3.6.1.4.1.14519.5.2.1.6279.6001.100225287222...   53.21 -244.41 -245.17   \n",
       "2  1.3.6.1.4.1.14519.5.2.1.6279.6001.100225287222...  103.66 -121.80 -286.62   \n",
       "3  1.3.6.1.4.1.14519.5.2.1.6279.6001.100225287222...  -33.66  -72.75 -308.41   \n",
       "4  1.3.6.1.4.1.14519.5.2.1.6279.6001.100225287222...  -32.25  -85.36 -362.51   \n",
       "\n",
       "   class  \n",
       "0      0  \n",
       "1      0  \n",
       "2      0  \n",
       "3      0  \n",
       "4      0  "
      ]
     },
     "execution_count": 9,
     "metadata": {},
     "output_type": "execute_result"
    }
   ],
   "source": [
    "candidates = pd.read_csv(join(PATH['LUNA_CSV'], 'candidates.csv'))\n",
    "annotations = pd.read_csv(join(PATH['LUNA_CSV'], 'annotations.csv'))\n",
    "candidates.head()"
   ]
  },
  {
   "cell_type": "code",
   "execution_count": 6,
   "metadata": {
    "collapsed": true
   },
   "outputs": [],
   "source": [
    "test = load(join(PATH['WEIGHTS'], 'test.npy'))\n",
    "valid = load(join(PATH['WEIGHTS'], 'valid.npy'))\n",
    "train = load(join(PATH['WEIGHTS'], 'train.npy'))"
   ]
  },
  {
   "cell_type": "code",
   "execution_count": 10,
   "metadata": {
    "collapsed": false
   },
   "outputs": [],
   "source": [
    "def get_remind_files():\n",
    "    file_list = set(path for path in candidates.seriesuid)\n",
    "#     file_list = file_list.difference([basename(path).split('.npy')[0][:64] \n",
    "#                             for path in glob(join(PATH['LUNA_VESSELS'], 'subset*', '*.npy'))]\n",
    "\n",
    "#                             + [basename(path).split('.npy')[0][:64] \n",
    "#                                  for path in glob(join(PATH['LUNA_NODULES'], 'subset*', '*.npy'))])\n",
    "\n",
    "    file_list = [[(join(PATH['LUNA_DATA'], 'subset' + str(i), base_name + '.mhd'), i)\n",
    "                  for i in range(10) \n",
    "                  if isfile(join(PATH['LUNA_DATA'], 'subset' + str(i), base_name + '.mhd'))] \n",
    "                 for base_name in file_list]\n",
    "\n",
    "    folders = [path[0][1] for path in file_list]\n",
    "    file_list = [path[0][0] for path in file_list]\n",
    "    return file_list, folders"
   ]
  },
  {
   "cell_type": "code",
   "execution_count": 12,
   "metadata": {
    "collapsed": true
   },
   "outputs": [],
   "source": [
    "def overlap(lung, mask):\n",
    "#     iso = binary_dilation(imresize(isolated[163], (512, 512)))\n",
    "    labeled, num = label(mask)\n",
    "    coords = list()\n",
    "    for colour in range(1, labeled.max() + 1):\n",
    "        coords.append(where(labeled == colour))\n",
    "    coords = array([[int(coord[0].mean() / SPACING[0])\n",
    "                     for coord in coords], \n",
    "                    [int(coord[1].mean() / SPACING[1])\n",
    "                     for coord in coords],\n",
    "                    [int(coord[2].mean() / SPACING[2])\n",
    "                     for coord in coords]])\n",
    "\n",
    "    lung = pad(lung, \n",
    "               ((BORDER, BORDER), \n",
    "                (BORDER, BORDER), \n",
    "                (BORDER, BORDER)), \n",
    "               mode='edge')\n",
    "    patches = list()\n",
    "    for coord in coords.T:\n",
    "        patch = lung[coord[0]: coord[0] + 2 * BORDER,\n",
    "                     coord[1]: coord[1] + 2 * BORDER,\n",
    "                     coord[2]: coord[2] + 2 * BORDER]\n",
    "        patches.append(patch)\n",
    "\n",
    "    return patches, coords"
   ]
  },
  {
   "cell_type": "code",
   "execution_count": 13,
   "metadata": {
    "collapsed": true
   },
   "outputs": [],
   "source": [
    "def operate(path, upsides):\n",
    "    lung, ct_lung = read_ct(path, ret_original_format=True)\n",
    "    \n",
    "    lung, spacing = resample(lung, ct_lung, SPACING)\n",
    "    \n",
    "    name = basename(path)\n",
    "    mask = load(join(PATH['DATA_ENHANCED'], \n",
    "                     name + '.npy'))\n",
    "    \n",
    "#     mask, spacing = resample(mask, (1, 1, 1), SPACING)\n",
    "    \n",
    "    incorrects = list()\n",
    "    if name in upsides:\n",
    "        lung = flipud(lung)\n",
    "        mask = flipud(mask)\n",
    "        incorrects.append(-1)\n",
    "        \n",
    "    batch, coords = overlap(lung, mask)\n",
    "    \n",
    "    for patch, coord in zip(batch, coords.T):\n",
    "        if patch.shape != (2 * BORDER, \n",
    "                           2 * BORDER, \n",
    "                           2 * BORDER):\n",
    "            incorrects.append((path, coord))\n",
    "            continue\n",
    "        \n",
    "        save(join(PATH['ENHANCED_CROPPED'], \n",
    "                  name + '_'.join([str(coord[0]), \n",
    "                                   str(coord[1]), \n",
    "                                   str(coord[2])])), \n",
    "             patch.astype(int16))\n",
    "    return incorrects"
   ]
  },
  {
   "cell_type": "code",
   "execution_count": 14,
   "metadata": {
    "collapsed": true
   },
   "outputs": [],
   "source": [
    "def get_remind_files():\n",
    "    file_list = set(glob(join(PATH['DATA'], '*')))\n",
    "    file_list = file_list.difference(set([join(PATH['DATA'], basename(path).split('.npy')[0][:32]) \n",
    "                            for path in glob(join(PATH['ENHANCED_CROPPED'], '*.npy'))]))\n",
    "\n",
    "    return sorted(list(file_list))"
   ]
  },
  {
   "cell_type": "code",
   "execution_count": null,
   "metadata": {
    "collapsed": true
   },
   "outputs": [],
   "source": [
    "def overlap(lung, name, candidates, origin, spacing=SPACING):\n",
    "    nodules = candidates[candidates.seriesuid == name]\n",
    "    lung = pad(lung, \n",
    "               ((BORDER, BORDER), \n",
    "                (BORDER, BORDER), \n",
    "                (BORDER, BORDER)), \n",
    "               mode='edge')\n",
    "    patches = list()\n",
    "    cancer = list()\n",
    "    rows = list()\n",
    "    for i, row in nodules.iterrows():\n",
    "        X = ceil((row.coordX - origin[0]) / spacing[1] + BORDER)\n",
    "        Y = ceil((row.coordY - origin[1]) / spacing[2] + BORDER)\n",
    "        Z = ceil((row.coordZ - origin[2]) / spacing[0] + BORDER)\n",
    "        patches.append(lung[Z - BORDER: Z + BORDER,\n",
    "                            Y - BORDER: Y + BORDER,\n",
    "                            X - BORDER: X + BORDER])\n",
    "        rows.append([row])\n",
    "        cancer.append(row['class'])\n",
    "\n",
    "    return patches, cancer, rows"
   ]
  },
  {
   "cell_type": "code",
   "execution_count": null,
   "metadata": {
    "collapsed": true
   },
   "outputs": [],
   "source": [
    "def operate(path_and_folder):\n",
    "    resampling = True\n",
    "    bad = list()\n",
    "    path, folder = path_and_folder\n",
    "    lung, ct_lung = read_ct(path, ret_original_format=True)\n",
    "    \n",
    "    spacing = list(reversed(ct_lung.GetSpacing()))\n",
    "    if resampling:\n",
    "        lung, spacing = resample(lung, ct_lung, SPACING)\n",
    "    \n",
    "    name = basename(path).split('.mhd')[0]\n",
    "    batch, cancers, rows = overlap(lung, \n",
    "                                   name, \n",
    "                                   candidates, \n",
    "                                   ct_lung.GetOrigin(), \n",
    "                                   spacing)\n",
    "\n",
    "    table = dict()\n",
    "    for i, patch, cancer, row in zip(arange(len(cancers)), \n",
    "                                batch, \n",
    "                                cancers,\n",
    "                                rows):\n",
    "        \n",
    "        if patch.shape != (2 * BORDER, \n",
    "                           2 * BORDER, \n",
    "                           2 * BORDER):\n",
    "            continue\n",
    "            \n",
    "        fold = 'LUNA_VESSELS'\n",
    "        if cancer: \n",
    "            fold = 'LUNA_NODULES'\n",
    "        \n",
    "        save(join(PATH[fold], \n",
    "                  'subset' + str(folder), \n",
    "                  name + str(i)), patch.astype(int16))\n",
    "        table[name + str(i)] = row\n",
    "    return table"
   ]
  },
  {
   "cell_type": "code",
   "execution_count": null,
   "metadata": {
    "collapsed": true
   },
   "outputs": [],
   "source": [
    "batch_size = 100\n",
    "patches = list(zip(file_list, folders)) \n",
    "table = dict()\n",
    "\n",
    "for counter in tqdm(range(len(patches) // batch_size + 1)):\n",
    "    \n",
    "    batch_files = patches[batch_size * counter:\n",
    "                              batch_size * (counter + 1)]\n",
    "    with Pool(CPU) as pool:\n",
    "        tables = pool.map(operate, batch_files)\n",
    "    \n",
    "    for t in tables:\n",
    "        table.update(t)\n",
    "        \n",
    "    pickle.dump(table, \n",
    "                open(join(PATH['WEIGHTS'], \n",
    "                          'table_nodules'), \n",
    "                     'wb'))"
   ]
  },
  {
   "cell_type": "code",
   "execution_count": 19,
   "metadata": {
    "collapsed": true
   },
   "outputs": [],
   "source": [
    "def overlap(lung, name, candidates, origin, spacing=SPACING):\n",
    "    nodules = candidates[candidates.seriesuid == name]\n",
    "    mask = zeros(lung.shape)\n",
    "    for i, row in nodules.iterrows():\n",
    "        X = ceil((row.coordX - origin[0]) / spacing[1])\n",
    "        Y = ceil((row.coordY - origin[1]) / spacing[2])\n",
    "        Z = ceil((row.coordZ - origin[2]) / spacing[0])\n",
    "        mask[Z, Y, X] = 1 + 15 * row['class']\n",
    "    return mask"
   ]
  },
  {
   "cell_type": "code",
   "execution_count": 20,
   "metadata": {
    "collapsed": true
   },
   "outputs": [],
   "source": [
    "def operate(path):\n",
    "    lung, ct_lung = read_ct(path, ret_original_format=True)\n",
    "    spacing = list(reversed(ct_lung.GetSpacing()))\n",
    "    lung, spacing = resample(lung, ct_lung, SPACING)\n",
    "    \n",
    "    name = basename(path).split('.mhd')[0]\n",
    "    mask = overlap(lung, name, \n",
    "                   candidates, \n",
    "                   ct_lung.GetOrigin(), \n",
    "                   spacing)\n",
    "\n",
    "    return lung, mask"
   ]
  },
  {
   "cell_type": "code",
   "execution_count": 109,
   "metadata": {
    "collapsed": true
   },
   "outputs": [],
   "source": [
    "def select_nodules(some_z, some_x, some_y,\n",
    "                   best_z,\n",
    "                   tolerance = 3):\n",
    "    coords = {\n",
    "        'x': [],\n",
    "        'y': [],\n",
    "        'z': []\n",
    "    }\n",
    "    \n",
    "    for z, x, y in zip(some_z, some_x, some_y):\n",
    "        if (z >= best_z) and (z <= best_z + tolerance):\n",
    "            coords['z'].append(z)\n",
    "            coords['x'].append(x)\n",
    "            coords['y'].append(y)\n",
    "            \n",
    "    return coords['z'], coords['x'], coords['y']"
   ]
  },
  {
   "cell_type": "code",
   "execution_count": 148,
   "metadata": {
    "collapsed": true
   },
   "outputs": [],
   "source": [
    "def plot_suspicies(path):\n",
    "    lung, mask = operate(path)\n",
    "    lung = clip(lung, -1000, 400)\n",
    "    fp = mask.copy() == 1\n",
    "    tp = mask.copy() == 16\n",
    "    fp_z, fp_x, fp_y = where(fp)\n",
    "    tp_z, tp_x, tp_y = where(tp)\n",
    "    print(tp_z)\n",
    "    for best_z in tp_z:\n",
    "        t_z, t_x, t_y = select_nodules(tp_z, tp_x, tp_y, best_z)\n",
    "        f_z, f_x, f_y = select_nodules(fp_z, fp_x, fp_y, best_z)\n",
    "\n",
    "        figure(figsize=(10, 10))\n",
    "        scatter(f_y, f_x, s=300, facecolors='none', edgecolors='gray', linewidths=1)\n",
    "        scatter(t_y, t_x, s=300, facecolors='none', edgecolors='w', linewidths=1)\n",
    "        imshow(-lung[best_z: best_z + tolerance].max(0));\n",
    "        show()"
   ]
  },
  {
   "cell_type": "code",
   "execution_count": null,
   "metadata": {
    "collapsed": false,
    "scrolled": true
   },
   "outputs": [],
   "source": [
    "path = '/home/a.dobrenkii/Projects/Kaggle/DataScienceBowl2K17/data/LUNA/DATA/subset*'\n",
    "patients = candidates[candidates['class'] == 1]\n",
    "patients = patients.seriesuid.value_counts().index\n",
    "for patient in tqdm(patients):\n",
    "    name = glob(join(path, patient + '.mhd'))[0]\n",
    "    plot_suspicies(name)"
   ]
  },
  {
   "cell_type": "code",
   "execution_count": 46,
   "metadata": {
    "collapsed": false
   },
   "outputs": [],
   "source": [
    "nodules = [name for name in train if basename(name)[:64] in bads[0][0][0]]\n",
    "nodules = sorted(nodules, key=lambda x: int(basename(x)[64:-4]))"
   ]
  },
  {
   "cell_type": "code",
   "execution_count": 54,
   "metadata": {
    "collapsed": false,
    "scrolled": true
   },
   "outputs": [
    {
     "data": {
      "text/plain": [
       "<matplotlib.image.AxesImage at 0x7fa668e884a8>"
      ]
     },
     "execution_count": 54,
     "metadata": {},
     "output_type": "execute_result"
    },
    {
     "data": {
      "image/png": "[encoded data removed]",
      "text/plain": [
       "<matplotlib.figure.Figure at 0x7fa668c8c128>"
      ]
     },
     "metadata": {},
     "output_type": "display_data"
    }
   ],
   "source": [
    "imshow(bads[0][2][100][32])"
   ]
  },
  {
   "cell_type": "code",
   "execution_count": 66,
   "metadata": {
    "collapsed": false,
    "scrolled": true
   },
   "outputs": [],
   "source": [
    "combined = list()\n",
    "for bad in bads:\n",
    "    combined += bad"
   ]
  },
  {
   "cell_type": "code",
   "execution_count": 45,
   "metadata": {
    "collapsed": false
   },
   "outputs": [],
   "source": [
    "candidate_type = 0\n",
    "for i in combined:\n",
    "    if 'vessel' in i[-1].lower():\n",
    "        candidate_type += 1   "
   ]
  },
  {
   "cell_type": "code",
   "execution_count": 7,
   "metadata": {
    "collapsed": true
   },
   "outputs": [],
   "source": [
    "def extract_patches_vessels(lung, sobel, diff, amount=2):\n",
    "    candidate = diff == VESSEL_LABEL\n",
    "    if not candidate.sum():\n",
    "        return [], [], []\n",
    "\n",
    "    flag = 0\n",
    "    start = 1\n",
    "\n",
    "    labels, num = measure.label(candidate, background=0, return_num=True)\n",
    "\n",
    "    marks = arange(start, num + 1)\n",
    "    random.shuffle(marks)\n",
    "\n",
    "    patches = list()\n",
    "    sobels = list()\n",
    "    masks = list()\n",
    "\n",
    "    for k, label in enumerate(marks):\n",
    "\n",
    "        overlaped = labels == label\n",
    "        area = overlaped.sum()\n",
    "\n",
    "        if area < LOWER or area > UPPER:\n",
    "            continue\n",
    "            \n",
    "        coords = where(labels == label)\n",
    "\n",
    "        medians = list()\n",
    "        deltas = list()\n",
    "        for j, coord in enumerate(coords):\n",
    "            medians.append(median(coord))\n",
    "            deltas.append((clip(int(medians[-1] - BORDER_VESSEL), 0, lung.shape[j]),\n",
    "                           clip(int(medians[-1] + BORDER_VESSEL), 0, lung.shape[j])))\n",
    "            \n",
    "            delta = (deltas[-1][1] - deltas[-1][0]) // 2\n",
    "            if delta < BORDER:\n",
    "                top = lung.shape[j] - deltas[-1][1]\n",
    "                bottom = deltas[-1][0]\n",
    "                if top > BORDER - delta  and bottom > BORDER - delta:\n",
    "                    deltas[-1] = (deltas[-1][0] - BORDER + delta,\n",
    "                                  deltas[-1][1] + BORDER - delta)\n",
    "                else:\n",
    "                    bottom_top = [bottom, top]\n",
    "                    min_shift = argmin(bottom_top)\n",
    "                    max_shift = argmax(bottom_top)\n",
    "                    remain = [0, 0]\n",
    "                    remain[max_shift] = 2 * BORDER - (deltas[-1][1] - deltas[-1][0]) - 2 * bottom_top[min_shift]\n",
    "                    deltas[-1] = (deltas[-1][0] - bottom_top[min_shift] - remain[0],\n",
    "                                  deltas[-1][1] + bottom_top[min_shift] + remain[1])\n",
    "\n",
    "        patches.append(lung[deltas[0][0]:deltas[0][1], deltas[1][0]:deltas[1][1], deltas[2][0]:deltas[2][1]])\n",
    "        sobels.append(sobel[deltas[0][0]:deltas[0][1], deltas[1][0]:deltas[1][1], deltas[2][0]:deltas[2][1]])\n",
    "        masks.append(diff[deltas[0][0]:deltas[0][1], deltas[1][0]:deltas[1][1], deltas[2][0]:deltas[2][1]])\n",
    "        \n",
    "        flag += 1\n",
    "        if flag >= amount:\n",
    "            return patches, sobels, masks\n",
    "        \n",
    "    return patches, sobels, masks\n"
   ]
  },
  {
   "cell_type": "code",
   "execution_count": null,
   "metadata": {
    "collapsed": false
   },
   "outputs": [
    {
     "name": "stderr",
     "output_type": "stream",
     "text": [
      "\r",
      "  0%|          | 0/285 [00:00<?, ?it/s]"
     ]
    }
   ],
   "source": [
    "for name in tqdm(preprocessed_files_pure):\n",
    "    for side in ['left', 'right']:\n",
    "        lung = load(join(PATH['LUNA_LUNGS'], name + 'lungs_' + side + '.npy'))\n",
    "        sobel = load(join(PATH['LUNA_SOBEL'], name + 'sobel_' + side + '.npy'))\n",
    "        diff = load(join(PATH['LUNA_MASKS'], name + 'diff_' + side + '.npy'))\n",
    "        patch, sobel, mask = extract_patches_vessels(lung, sobel, diff, 10)\n",
    "        for p in mask:\n",
    "            if p.shape != (90, 90, 90):\n",
    "                print(p.shape)\n",
    "        add = random.randint(0, 9)\n",
    "        for i in range(len(mask)):\n",
    "            save(join(PATH['LUNA_CAE'], name + side + str(i + add) + '_patch'), patch[i])\n",
    "            save(join(PATH['LUNA_CAE'], name + side + str(i + add) + '_sobel'), sobel[i])\n",
    "            save(join(PATH['LUNA_CAE'], name + side + str(i + add) + '_mask'), mask[i])\n",
    "\n"
   ]
  }
 ],
 "metadata": {
  "anaconda-cloud": {},
  "kernelspec": {
   "display_name": "Python [Root]",
   "language": "python",
   "name": "Python [Root]"
  },
  "language_info": {
   "codemirror_mode": {
    "name": "ipython",
    "version": 3
   },
   "file_extension": ".py",
   "mimetype": "text/x-python",
   "name": "python",
   "nbconvert_exporter": "python",
   "pygments_lexer": "ipython3",
   "version": "3.5.2"
  }
 },
 "nbformat": 4,
 "nbformat_minor": 0
}
