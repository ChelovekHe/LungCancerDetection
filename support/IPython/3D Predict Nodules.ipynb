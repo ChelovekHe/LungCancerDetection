{
 "cells": [
  {
   "cell_type": "code",
   "execution_count": 1,
   "metadata": {
    "collapsed": false
   },
   "outputs": [
    {
     "name": "stderr",
     "output_type": "stream",
     "text": [
      "Using TensorFlow backend.\n"
     ]
    },
    {
     "name": "stdout",
     "output_type": "stream",
     "text": [
      "Populating the interactive namespace from numpy and matplotlib\n"
     ]
    }
   ],
   "source": [
    "import sys\n",
    "sys.path.append('../')\n",
    "sys.path.append('../Nets/')\n",
    "from glob import glob\n",
    "from os.path import join, isfile, basename\n",
    "import pickle\n",
    "from multiprocessing import Pool\n",
    "from scipy.ndimage.interpolation import rotate\n",
    "from keras.optimizers import adam\n",
    "from tqdm import tqdm\n",
    "from keras.callbacks import Callback\n",
    "from keras.callbacks import ModelCheckpoint\n",
    "from functools import partial\n",
    "import seaborn as sns\n",
    "import time\n",
    "from NoduleClfOld import *\n",
    "import pandas as pd\n",
    "import csv\n",
    "from paths import *\n",
    "%pylab inline"
   ]
  },
  {
   "cell_type": "code",
   "execution_count": 11,
   "metadata": {
    "collapsed": true
   },
   "outputs": [],
   "source": [
    "CPU = 24\n",
    "LOWER = -1000\n",
    "UPPER = 400\n",
    "BATCH_SIZE = 100\n",
    "ITERATIONS = 80\n",
    "SHAPE = (18, 48, 48)"
   ]
  },
  {
   "cell_type": "code",
   "execution_count": 12,
   "metadata": {
    "collapsed": true
   },
   "outputs": [],
   "source": [
    "def augment_patch(patch, shape, shift=4):\n",
    "    center = (array(patch.shape) // 2) \n",
    "    \n",
    "    left = array(shape) // 2\n",
    "    right = array(shape) - left\n",
    "    \n",
    "    patch = [patch[center[0] - left[(0 + i) % 3]:center[0] + right[(0 + i) % 3], \n",
    "                   center[1] - left[(1 + i) % 3]:center[1] + right[(1 + i) % 3], \n",
    "                   center[2] - left[(2 + i) % 3]:center[2] + right[(2 + i) % 3]] for i in range(3)]\n",
    "    \n",
    "    patch[1] = swapaxes(patch[1], 0, 2)\n",
    "    patch[2] = swapaxes(patch[2], 0, 1)\n",
    "    patch = [expand_dims(array(patch[i]), -1)  \n",
    "             for i in range(3)]\n",
    "    patch = clip(patch, LOWER, UPPER) \n",
    "    patch = (patch - LOWER) / float(UPPER - LOWER) \n",
    "    return patch"
   ]
  },
  {
   "cell_type": "code",
   "execution_count": 41,
   "metadata": {
    "collapsed": true
   },
   "outputs": [],
   "source": [
    "def batch_generator(batch_files, \n",
    "                    shape=(18, 48, 48), \n",
    "                    CPU=24):\n",
    "    \n",
    "    with Pool(CPU) as pool:\n",
    "        patch_list = pool.map(load, batch_files) \n",
    "\n",
    "    augment = partial(augment_patch, \n",
    "                      shape=shape)\n",
    "\n",
    "    with Pool(CPU) as pool:\n",
    "        patch_list = pool.map(augment, patch_list)\n",
    "    \n",
    "    return [patch for patch in swapaxes(asarray(patch_list), 0, 1)]"
   ]
  },
  {
   "cell_type": "code",
   "execution_count": 21,
   "metadata": {
    "collapsed": true
   },
   "outputs": [],
   "source": [
    "data = pd.read_csv(join(PATH['DATA_OUT'], 'DATAFRAMES', 'top_patches'))\n",
    "data['patientid'] = data.patchid.apply(lambda x: x[:32])\n",
    "train = data.merge(pd.read_csv(PATH['LABELS']), \n",
    "                   left_on='patientid', \n",
    "                   right_on='id').drop(['patientid'], axis=1)"
   ]
  },
  {
   "cell_type": "code",
   "execution_count": 6,
   "metadata": {
    "collapsed": false
   },
   "outputs": [],
   "source": [
    "clf_model, coders, bottle_neck = predictor(dropout_conv=.2, \n",
    "                                           dropout_dence=.3, \n",
    "                                           shape=(18, 48, 48, 1),\n",
    "                                           shared_layers=True\n",
    "                                          )\n",
    "\n",
    "clf_model.compile('adam', 'categorical_crossentropy')\n",
    "clf_model.load_weights(join(PATH['WEIGHTS'], '3DCNN_nodule_clf_shared_tested'))"
   ]
  },
  {
   "cell_type": "code",
   "execution_count": 13,
   "metadata": {
    "collapsed": false,
    "scrolled": true
   },
   "outputs": [],
   "source": [
    "def operate(file_list):\n",
    "    epoch = BATCH_SIZE * ITERATIONS\n",
    "    overall = int(ceil(len(file_list) / epoch))\n",
    "    for counter in tqdm(range(overall)):\n",
    "        batch_files = file_list[epoch * counter:\n",
    "                                epoch * (counter + 1)]\n",
    "        batch_data = batch_generator(batch_files)\n",
    "        batch_data = clf_model.predict(batch_data, BATCH_SIZE)\n",
    "        fd_name = join(PATH['ENHANCED_PREDICTED'], 'predicted_' + str(counter) + '.csv')\n",
    "        pd.DataFrame({'patchid': [basename(name) \n",
    "                                  for name in batch_files], \n",
    "                      'probability': batch_data[0][:, 0], \n",
    "                      'dence': [data \n",
    "                                for data in batch_data[1]]}).to_csv(fd_name, \n",
    "                                                                    index=False)"
   ]
  },
  {
   "cell_type": "code",
   "execution_count": null,
   "metadata": {
    "collapsed": false
   },
   "outputs": [
    {
     "name": "stderr",
     "output_type": "stream",
     "text": [
      "100%|██████████| 113/113 [9:57:00<00:00, 242.29s/it]\n"
     ]
    }
   ],
   "source": [
    "# file_list = get_remind_files()\n",
    "operate(file_list)"
   ]
  },
  {
   "cell_type": "code",
   "execution_count": 7,
   "metadata": {
    "collapsed": true
   },
   "outputs": [],
   "source": [
    "a = load(join(PATH['DATA_OUT'], '820cc2a44d87d9b3798782f7cc6f2a74.npy'))"
   ]
  },
  {
   "cell_type": "code",
   "execution_count": 11,
   "metadata": {
    "collapsed": false,
    "scrolled": true
   },
   "outputs": [
    {
     "data": {
      "text/plain": [
       "<matplotlib.image.AxesImage at 0x7fc8f820eeb8>"
      ]
     },
     "execution_count": 11,
     "metadata": {},
     "output_type": "execute_result"
    },
    {
     "data": {
      "image/png": "[encoded data removed]",
      "text/plain": [
       "<matplotlib.figure.Figure at 0x7fc8f838acf8>"
      ]
     },
     "metadata": {},
     "output_type": "display_data"
    }
   ],
   "source": [
    "rint = random.randint(0, len(file_list))\n",
    "im = load(file_list.values[rint])\n",
    "imshow(im[im.shape[0] // 2])"
   ]
  },
  {
   "cell_type": "code",
   "execution_count": 9,
   "metadata": {
    "collapsed": false
   },
   "outputs": [
    {
     "data": {
      "text/plain": [
       "<matplotlib.image.AxesImage at 0x7f2b160f7550>"
      ]
     },
     "execution_count": 9,
     "metadata": {},
     "output_type": "execute_result"
    },
    {
     "data": {
      "image/png": "[encoded data removed]",
      "text/plain": [
       "<matplotlib.figure.Figure at 0x7f2b1a5c45f8>"
      ]
     },
     "metadata": {},
     "output_type": "display_data"
    }
   ],
   "source": [
    "imshow(flipud(a)[:, a.shape[1] // 2])"
   ]
  }
 ],
 "metadata": {
  "anaconda-cloud": {},
  "kernelspec": {
   "display_name": "Python [Root]",
   "language": "python",
   "name": "Python [Root]"
  },
  "language_info": {
   "codemirror_mode": {
    "name": "ipython",
    "version": 3
   },
   "file_extension": ".py",
   "mimetype": "text/x-python",
   "name": "python",
   "nbconvert_exporter": "python",
   "pygments_lexer": "ipython3",
   "version": "3.5.2"
  }
 },
 "nbformat": 4,
 "nbformat_minor": 0
}
