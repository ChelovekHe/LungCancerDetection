{
 "cells": [
  {
   "cell_type": "code",
   "execution_count": 181,
   "metadata": {
    "collapsed": false
   },
   "outputs": [
    {
     "name": "stdout",
     "output_type": "stream",
     "text": [
      "Populating the interactive namespace from numpy and matplotlib\n"
     ]
    }
   ],
   "source": [
    "%pylab inline \n",
    "from glob import glob\n",
    "import pandas as pd\n",
    "from skimage import measure\n",
    "from os.path import join, basename"
   ]
  },
  {
   "cell_type": "code",
   "execution_count": 171,
   "metadata": {
    "collapsed": true
   },
   "outputs": [],
   "source": [
    "paths = glob('../../data/Lungs/*left.npy')\n",
    "BORDER = .8\n",
    "BORDER_VESSEL = 25\n",
    "REAL_NODULE = True\n",
    "NODULE_LABEL = 2\n",
    "VESSEL_LABEL = 1\n",
    "\n",
    "\n",
    "LOWER = 1000\n",
    "UPPER = 2000"
   ]
  },
  {
   "cell_type": "code",
   "execution_count": 155,
   "metadata": {
    "collapsed": false
   },
   "outputs": [],
   "source": [
    "lung = load('../../data/Lungs/1.3.6.1.4.1.14519.5.2.1.6279.6001.443400977949406454649939526179lungs_left.npy',)\n",
    "diff = load('../../data/Lungs/1.3.6.1.4.1.14519.5.2.1.6279.6001.443400977949406454649939526179diff_left.npy')"
   ]
  },
  {
   "cell_type": "code",
   "execution_count": 157,
   "metadata": {
    "collapsed": true
   },
   "outputs": [
    {
     "data": {
      "text/plain": [
       "0       1.3.6.1.4.1.14519.5.2.1.6279.6001.100225287222...\n",
       "1       1.3.6.1.4.1.14519.5.2.1.6279.6001.100225287222...\n",
       "2       1.3.6.1.4.1.14519.5.2.1.6279.6001.100398138793...\n",
       "3       1.3.6.1.4.1.14519.5.2.1.6279.6001.100621383016...\n",
       "4       1.3.6.1.4.1.14519.5.2.1.6279.6001.100621383016...\n",
       "5       1.3.6.1.4.1.14519.5.2.1.6279.6001.100621383016...\n",
       "6       1.3.6.1.4.1.14519.5.2.1.6279.6001.100621383016...\n",
       "7       1.3.6.1.4.1.14519.5.2.1.6279.6001.100953483028...\n",
       "8       1.3.6.1.4.1.14519.5.2.1.6279.6001.102681962408...\n",
       "9       1.3.6.1.4.1.14519.5.2.1.6279.6001.104562737760...\n",
       "10      1.3.6.1.4.1.14519.5.2.1.6279.6001.105495028985...\n",
       "11      1.3.6.1.4.1.14519.5.2.1.6279.6001.106164978370...\n",
       "12      1.3.6.1.4.1.14519.5.2.1.6279.6001.106379658920...\n",
       "13      1.3.6.1.4.1.14519.5.2.1.6279.6001.106379658920...\n",
       "14      1.3.6.1.4.1.14519.5.2.1.6279.6001.106630482085...\n",
       "15      1.3.6.1.4.1.14519.5.2.1.6279.6001.106719103982...\n",
       "16      1.3.6.1.4.1.14519.5.2.1.6279.6001.107109359065...\n",
       "17      1.3.6.1.4.1.14519.5.2.1.6279.6001.107351566259...\n",
       "18      1.3.6.1.4.1.14519.5.2.1.6279.6001.107351566259...\n",
       "19      1.3.6.1.4.1.14519.5.2.1.6279.6001.107351566259...\n",
       "20      1.3.6.1.4.1.14519.5.2.1.6279.6001.107351566259...\n",
       "21      1.3.6.1.4.1.14519.5.2.1.6279.6001.107351566259...\n",
       "22      1.3.6.1.4.1.14519.5.2.1.6279.6001.107351566259...\n",
       "23      1.3.6.1.4.1.14519.5.2.1.6279.6001.108197895896...\n",
       "24      1.3.6.1.4.1.14519.5.2.1.6279.6001.108231420525...\n",
       "25      1.3.6.1.4.1.14519.5.2.1.6279.6001.109002525524...\n",
       "26      1.3.6.1.4.1.14519.5.2.1.6279.6001.109002525524...\n",
       "27      1.3.6.1.4.1.14519.5.2.1.6279.6001.110678335949...\n",
       "28      1.3.6.1.4.1.14519.5.2.1.6279.6001.111172165674...\n",
       "29      1.3.6.1.4.1.14519.5.2.1.6279.6001.111258527162...\n",
       "                              ...                        \n",
       "1156    1.3.6.1.4.1.14519.5.2.1.6279.6001.931383239747...\n",
       "1157    1.3.6.1.4.1.14519.5.2.1.6279.6001.935683764293...\n",
       "1158    1.3.6.1.4.1.14519.5.2.1.6279.6001.935683764293...\n",
       "1159    1.3.6.1.4.1.14519.5.2.1.6279.6001.939152384493...\n",
       "1160    1.3.6.1.4.1.14519.5.2.1.6279.6001.943403138251...\n",
       "1161    1.3.6.1.4.1.14519.5.2.1.6279.6001.944888107209...\n",
       "1162    1.3.6.1.4.1.14519.5.2.1.6279.6001.946129570505...\n",
       "1163    1.3.6.1.4.1.14519.5.2.1.6279.6001.948414623428...\n",
       "1164    1.3.6.1.4.1.14519.5.2.1.6279.6001.948414623428...\n",
       "1165    1.3.6.1.4.1.14519.5.2.1.6279.6001.952265563663...\n",
       "1166    1.3.6.1.4.1.14519.5.2.1.6279.6001.955688628308...\n",
       "1167    1.3.6.1.4.1.14519.5.2.1.6279.6001.955688628308...\n",
       "1168    1.3.6.1.4.1.14519.5.2.1.6279.6001.955688628308...\n",
       "1169    1.3.6.1.4.1.14519.5.2.1.6279.6001.955688628308...\n",
       "1170    1.3.6.1.4.1.14519.5.2.1.6279.6001.955688628308...\n",
       "1171    1.3.6.1.4.1.14519.5.2.1.6279.6001.961063442349...\n",
       "1172    1.3.6.1.4.1.14519.5.2.1.6279.6001.964952370561...\n",
       "1173    1.3.6.1.4.1.14519.5.2.1.6279.6001.964952370561...\n",
       "1174    1.3.6.1.4.1.14519.5.2.1.6279.6001.964952370561...\n",
       "1175    1.3.6.1.4.1.14519.5.2.1.6279.6001.964952370561...\n",
       "1176    1.3.6.1.4.1.14519.5.2.1.6279.6001.970264865033...\n",
       "1177    1.3.6.1.4.1.14519.5.2.1.6279.6001.970428941353...\n",
       "1178    1.3.6.1.4.1.14519.5.2.1.6279.6001.970428941353...\n",
       "1179    1.3.6.1.4.1.14519.5.2.1.6279.6001.975426625618...\n",
       "1180    1.3.6.1.4.1.14519.5.2.1.6279.6001.979083010707...\n",
       "1181    1.3.6.1.4.1.14519.5.2.1.6279.6001.994459772950...\n",
       "1182    1.3.6.1.4.1.14519.5.2.1.6279.6001.994459772950...\n",
       "1183    1.3.6.1.4.1.14519.5.2.1.6279.6001.994459772950...\n",
       "1184    1.3.6.1.4.1.14519.5.2.1.6279.6001.997611074084...\n",
       "1185    1.3.6.1.4.1.14519.5.2.1.6279.6001.997611074084...\n",
       "Name: seriesuid, dtype: object"
      ]
     },
     "execution_count": 157,
     "metadata": {},
     "output_type": "execute_result"
    }
   ],
   "source": [
    "anotations.seriesuid"
   ]
  },
  {
   "cell_type": "code",
   "execution_count": 147,
   "metadata": {
    "collapsed": true
   },
   "outputs": [],
   "source": [
    "def extract_patches(lung, diff, real_nodule=True):\n",
    "    if real_nodule:\n",
    "        candidate = diff == NODULE_LABEL\n",
    "    else:\n",
    "        candidate = diff == VESSEL_LABEL\n",
    "\n",
    "    if not candidate.sum():\n",
    "        return [], []\n",
    "\n",
    "    patches = list()\n",
    "    masks = list()\n",
    "\n",
    "    labels, num = measure.label(candidate, background=0, return_num=True)\n",
    "    for label in range(1, num + 1):\n",
    "        coords = where(labels == label)\n",
    "        min_max = list()\n",
    "        deltas = list()\n",
    "\n",
    "        for i, coord in enumerate(coords):\n",
    "            min_max.append((coord.min(), coord.max()))\n",
    "            deltas.append(int(BORDER * (min_max[-1][1] - min_max[-1][0])))\n",
    "            deltas[-1] = (clip(min_max[-1][0] - deltas[-1], 0, lung.shape[i]),\n",
    "                          clip(min_max[-1][1] + deltas[-1], 0, lung.shape[i]))\n",
    "\n",
    "        patches.append(lung[deltas[0][0]:deltas[0][1], deltas[1][0]:deltas[1][1], deltas[2][0]:deltas[2][1]])\n",
    "        masks.append(diff[deltas[0][0]:deltas[0][1], deltas[1][0]:deltas[1][1], deltas[2][0]:deltas[2][1]])\n",
    "\n",
    "    return patches, masks"
   ]
  },
  {
   "cell_type": "code",
   "execution_count": null,
   "metadata": {
    "collapsed": true
   },
   "outputs": [],
   "source": [
    ""
   ]
  },
  {
   "cell_type": "code",
   "execution_count": 168,
   "metadata": {
    "collapsed": false
   },
   "outputs": [],
   "source": [
    "def extract_patches_vessels(lung, diff, amount=2):\n",
    "    candidate = diff == VESSEL_LABEL\n",
    "    if not candidate.sum():\n",
    "        return [], []\n",
    "    \n",
    "    flag = 0\n",
    "    start = 1\n",
    "    \n",
    "    labels, num = measure.label(candidate, background=0, return_num=True)\n",
    "    \n",
    "    marks = arange(start, num + 1)\n",
    "    shuffle(marks)\n",
    "    \n",
    "    patches = list()\n",
    "    masks = list()\n",
    "\n",
    "        \n",
    "    for i, label in enumerate(marks):\n",
    "        if flag >= amount:\n",
    "            return patches, masks\n",
    "        \n",
    "        overlaped = labels == label\n",
    "        area = overlaped.sum()\n",
    "        \n",
    "        if area < LOWER or area > UPPER:\n",
    "            continue\n",
    "        print(area)\n",
    "        coords = where(labels == label)\n",
    "        \n",
    "        medians = list()\n",
    "        deltas = list()\n",
    "        for j, coord in enumerate(coords):\n",
    "            medians.append(median(coord))\n",
    "            deltas.append((clip(int(medians[-1] - BORDER_VESSEL), 0, lung.shape[j]), \n",
    "                           clip(int(medians[-1] + BORDER_VESSEL), 0, lung.shape[j])))\n",
    "        \n",
    "        patches.append(lung[deltas[0][0]:deltas[0][1], deltas[1][0]:deltas[1][1], deltas[2][0]:deltas[2][1]])\n",
    "        masks.append(diff[deltas[0][0]:deltas[0][1], deltas[1][0]:deltas[1][1], deltas[2][0]:deltas[2][1]])\n",
    "        flag += 1\n",
    "        \n",
    "    return patches, masks"
   ]
  },
  {
   "cell_type": "code",
   "execution_count": 169,
   "metadata": {
    "collapsed": false,
    "scrolled": true
   },
   "outputs": [
    {
     "name": "stdout",
     "output_type": "stream",
     "text": [
      "1675\n",
      "1678\n",
      "(50, 50, 50)\n"
     ]
    },
    {
     "data": {
      "text/plain": [
       "<matplotlib.image.AxesImage at 0x7f7e423d1128>"
      ]
     },
     "execution_count": 169,
     "metadata": {},
     "output_type": "execute_result"
    },
    {
     "data": {
      "image/png": "[encoded data removed]",
      "text/plain": [
       "<matplotlib.figure.Figure at 0x7f7e4240d2e8>"
      ]
     },
     "metadata": {},
     "output_type": "display_data"
    }
   ],
   "source": [
    "patches, masks = extract_patches_vessels(lung, diff)\n",
    "print(patches[-1].shape)\n",
    "imshow(patches[-1][25] + 1000 * masks[-1][25])"
   ]
  },
  {
   "cell_type": "code",
   "execution_count": 185,
   "metadata": {
    "collapsed": false
   },
   "outputs": [],
   "source": [
    "anotations = pd.read_csv('../../data/Lungs/annotations.csv')\n",
    "preprocessed_files = asarray([basename(preprocessed_file).split('lungs.npy')[0]\n",
    "                              for preprocessed_file in glob('../../data/Lungs/*lungs.npy')])\n",
    "\n",
    "files_with_nodules = unique(anotations.seriesuid.values)\n",
    "preprocessed_files_with_nodules = intersect1d(files_with_nodules, preprocessed_files)\n",
    "preprocessed_files_pure = setdiff1d(preprocessed_files_with_nodules, preprocessed_files)"
   ]
  },
  {
   "cell_type": "code",
   "execution_count": 184,
   "metadata": {
    "collapsed": false
   },
   "outputs": [
    {
     "data": {
      "text/plain": [
       "array(['1.3.6.1.4.1.14519.5.2.1.6279.6001.100225287222365663678666836860',\n",
       "       '1.3.6.1.4.1.14519.5.2.1.6279.6001.109002525524522225658609808059'], dtype=object)"
      ]
     },
     "execution_count": 184,
     "metadata": {},
     "output_type": "execute_result"
    }
   ],
   "source": [
    "preprocessed_files_with_nodules"
   ]
  },
  {
   "cell_type": "code",
   "execution_count": 186,
   "metadata": {
    "collapsed": false
   },
   "outputs": [
    {
     "data": {
      "text/plain": [
       "array([], dtype=object)"
      ]
     },
     "execution_count": 186,
     "metadata": {},
     "output_type": "execute_result"
    }
   ],
   "source": [
    "preprocessed_files_pure"
   ]
  },
  {
   "cell_type": "code",
   "execution_count": 187,
   "metadata": {
    "collapsed": false
   },
   "outputs": [
    {
     "data": {
      "text/plain": [
       "['../../data/Lungs/1.3.6.1.4.1.14519.5.2.1.6279.6001.100225287222365663678666836860lungs.npy',\n",
       " '../../data/Lungs/1.3.6.1.4.1.14519.5.2.1.6279.6001.109002525524522225658609808059lungs.npy',\n",
       " '../../data/Lungs/1.3.6.1.4.1.14519.5.2.1.6279.6001.100332161840553388986847034053lungs.npy']"
      ]
     },
     "execution_count": 187,
     "metadata": {},
     "output_type": "execute_result"
    }
   ],
   "source": [
    "glob('../../data/Lungs/*lungs.npy')"
   ]
  },
  {
   "cell_type": "code",
   "execution_count": 188,
   "metadata": {
    "collapsed": false
   },
   "outputs": [
    {
     "data": {
      "text/plain": [
       "array([1])"
      ]
     },
     "execution_count": 188,
     "metadata": {},
     "output_type": "execute_result"
    }
   ],
   "source": [
    "setdiff1d([1,2,3], [2,3,4])"
   ]
  },
  {
   "cell_type": "code",
   "execution_count": null,
   "metadata": {
    "collapsed": true
   },
   "outputs": [],
   "source": [
    ""
   ]
  }
 ],
 "metadata": {
  "kernelspec": {
   "display_name": "Python 3",
   "language": "python",
   "name": "python3"
  },
  "language_info": {
   "codemirror_mode": {
    "name": "ipython",
    "version": 3.0
   },
   "file_extension": ".py",
   "mimetype": "text/x-python",
   "name": "python",
   "nbconvert_exporter": "python",
   "pygments_lexer": "ipython3",
   "version": "3.5.2"
  }
 },
 "nbformat": 4,
 "nbformat_minor": 0
}