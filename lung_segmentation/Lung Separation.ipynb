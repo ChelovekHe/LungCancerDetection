{
 "cells": [
  {
   "cell_type": "code",
   "execution_count": 29,
   "metadata": {
    "collapsed": false
   },
   "outputs": [],
   "source": [
    "%matplotlib notebook\n",
    "import numpy as np\n",
    "from mpl_toolkits.mplot3d.art3d import Poly3DCollection\n",
    "import matplotlib.pyplot as plt\n",
    "from skimage import measure\n",
    "from skimage.measure import label\n",
    "import os.path\n",
    "from scipy.ndimage.morphology import binary_erosion\n",
    "import random"
   ]
  },
  {
   "cell_type": "code",
   "execution_count": 30,
   "metadata": {
    "collapsed": false
   },
   "outputs": [],
   "source": [
    "working_dir = \"../../\""
   ]
  },
  {
   "cell_type": "code",
   "execution_count": 60,
   "metadata": {
    "collapsed": false
   },
   "outputs": [],
   "source": [
    "test_file = np.load(working_dir+\"1.3.6.1.4.1.14519.5.2.1.6279.6001.100684836163890911914061745866filter.npy\")\n",
    "#mask = np.load(working_dir + \"mask.npy\")\n",
    "#lung = np.load(working_dir + \"lungs.npy\")"
   ]
  },
  {
   "cell_type": "code",
   "execution_count": 39,
   "metadata": {
    "collapsed": false
   },
   "outputs": [],
   "source": [
    "def label_size(labeled_matrix, label): return len(labeled_matrix[labeled_matrix==label])\n",
    "trash_threshold = 0.5\n",
    "def remove_trash(labeled_matrix,label_num):\n",
    "    max_label_size = 0\n",
    "    new_label_num = 0\n",
    "    for i in range(1,label_num+1):\n",
    "        if len(labeled_matrix[labeled_matrix == i]) > max_label_size:\n",
    "            max_label_size = len(labeled_matrix[labeled_matrix == i])\n",
    "    for i in range(1,label_num+1):\n",
    "        if label_size(labeled_matrix,i)<trash_threshold*max_label_size:\n",
    "            labeled_matrix[labeled_matrix == i] = 0\n",
    "        else:\n",
    "            new_label_num += 1\n",
    "            labeled_matrix[labeled_matrix == i] = new_label_num\n",
    "    return new_label_num"
   ]
  },
  {
   "cell_type": "code",
   "execution_count": 40,
   "metadata": {
    "collapsed": false
   },
   "outputs": [],
   "source": [
    "def if_separate(mask):\n",
    "    mask,count = label(mask, connectivity=1, return_num=True)\n",
    "    count = remove_trash(mask,count)\n",
    "    return count != 1"
   ]
  },
  {
   "cell_type": "code",
   "execution_count": 41,
   "metadata": {
    "collapsed": false
   },
   "outputs": [],
   "source": [
    "def separate_lungs(label_matrix,layer_num):\n",
    "    before_morph_open = label_matrix \n",
    "    while not if_separate(label_matrix):\n",
    "        label_matrix = binary_erosion(label_matrix,structure = np.ones((7,1)))\n",
    "    label_matrix =  label(label_matrix, connectivity=1)\n",
    "    inverse_erosion(label_matrix, before_morph_open,layer_num)\n",
    "    return label_matrix"
   ]
  },
  {
   "cell_type": "code",
   "execution_count": 42,
   "metadata": {
    "collapsed": true
   },
   "outputs": [],
   "source": [
    "def inverse_erosion(label_matrix, mask,slice_num):\n",
    "    xs,ys = np.where(label_matrix<mask)\n",
    "    border_coords = list(zip(xs,ys))\n",
    "    while len(border_coords):\n",
    "        to1 = []\n",
    "        to2 = []\n",
    "        new_border_coords = []\n",
    "        for x,y in border_coords:\n",
    "            chunk = label_matrix[x-1:x+2,y-1:y+2]\n",
    "            near1 = len(np.where(chunk==1)[0])\n",
    "            near2 = len(np.where(chunk==2)[0])\n",
    "            if near1 and near2:\n",
    "                if slice_num%2:\n",
    "                    to1.append((x,y))\n",
    "                else:\n",
    "                    to2.append((x,y))\n",
    "            elif near1:\n",
    "                to1.append((x,y))\n",
    "            elif len(np.where(chunk==2)[0]):\n",
    "                to2.append((x,y))\n",
    "            else:\n",
    "                new_border_coords.append((x,y))\n",
    "        if(len(to1)==0 and len(to2)==0):\n",
    "            return\n",
    "        for x,y in to1:\n",
    "            label_matrix[x,y] = 1\n",
    "        for x,y in to2:\n",
    "            label_matrix[x,y] = 2\n",
    "        border_coords = new_border_coords"
   ]
  },
  {
   "cell_type": "code",
   "execution_count": 43,
   "metadata": {
    "collapsed": true
   },
   "outputs": [],
   "source": [
    "def separate_new_slice(new_slice,prev_slice,slice_num):\n",
    "    intersect = new_slice*prev_slice\n",
    "    inverse_erosion(intersect,new_slice,slice_num)\n",
    "    return intersect"
   ]
  },
  {
   "cell_type": "code",
   "execution_count": 46,
   "metadata": {
    "collapsed": false
   },
   "outputs": [],
   "source": [
    "def separate_lungs3d(file):\n",
    "    interval = int(file.shape[0]*0.1)\n",
    "    start_slice_ind= -1\n",
    "    start_slice = []\n",
    "    for i in log_progress(range(file.shape[0]//2-interval,file.shape[0]//2+interval)):\n",
    "        if(if_separate(file[i])):\n",
    "            start_slice_ind = i\n",
    "            break\n",
    "    if(start_slice_ind==-1):\n",
    "        start_slice = separate_lungs(file[file.shape[0]//2],file.shape[0]//2)\n",
    "        start_slice_ind = file.shape[0]//2\n",
    "    else:\n",
    "        start_slice = label(file[start_slice_ind], connectivity=1)\n",
    "    print(\"start_slice_ind = \", start_slice_ind)\n",
    "    cur_slice = start_slice\n",
    "    ret = file.astype(int)\n",
    "    ret[start_slice_ind] = start_slice\n",
    "    for i in log_progress(range(start_slice_ind+1,file.shape[0])):\n",
    "        new_slice = separate_new_slice(file[i].astype(int),cur_slice,i)\n",
    "        ret[i] = new_slice\n",
    "        cur_slice = new_slice\n",
    "    cur_slice = start_slice\n",
    "    for i in log_progress(range(start_slice_ind-1,-1,-1)):\n",
    "        new_slice = separate_new_slice(file[i].astype(int),cur_slice,i)\n",
    "        ret[i] = new_slice\n",
    "        cur_slice = new_slice\n",
    "    print(\"expanded to start\")\n",
    "    return ret"
   ]
  },
  {
   "cell_type": "code",
   "execution_count": 116,
   "metadata": {
    "collapsed": false
   },
   "outputs": [
    {
     "name": "stdout",
     "output_type": "stream",
     "text": [
      "start_slice_ind =  220\n",
      "expanded to start\n"
     ]
    }
   ],
   "source": [
    "sepd = separate_lungs3d(test_file)"
   ]
  },
  {
   "cell_type": "code",
   "execution_count": 26,
   "metadata": {
    "collapsed": true
   },
   "outputs": [],
   "source": [
    "def log_progress(sequence, every=None, size=None, name='Items'):\n",
    "    from ipywidgets import IntProgress, HTML, VBox\n",
    "    from IPython.display import display\n",
    "\n",
    "    is_iterator = False\n",
    "    if size is None:\n",
    "        try:\n",
    "            size = len(sequence)\n",
    "        except TypeError:\n",
    "            is_iterator = True\n",
    "    if size is not None:\n",
    "        if every is None:\n",
    "            if size <= 200:\n",
    "                every = 1\n",
    "            else:\n",
    "                every = int(size / 200)     # every 0.5%\n",
    "    else:\n",
    "        assert every is not None, 'sequence is iterator, set every'\n",
    "\n",
    "    if is_iterator:\n",
    "        progress = IntProgress(min=0, max=1, value=1)\n",
    "        progress.bar_style = 'info'\n",
    "    else:\n",
    "        progress = IntProgress(min=0, max=size, value=0)\n",
    "    label = HTML()\n",
    "    box = VBox(children=[label, progress])\n",
    "    display(box)\n",
    "\n",
    "    index = 0\n",
    "    try:\n",
    "        for index, record in enumerate(sequence, 1):\n",
    "            if index == 1 or index % every == 0:\n",
    "                if is_iterator:\n",
    "                    label.value = '{name}: {index} / ?'.format(\n",
    "                        name=name,\n",
    "                        index=index\n",
    "                    )\n",
    "                else:\n",
    "                    progress.value = index\n",
    "                    label.value = u'{name}: {index} / {size}'.format(\n",
    "                        name=name,\n",
    "                        index=index,\n",
    "                        size=size\n",
    "                    )\n",
    "            yield record\n",
    "    except:\n",
    "        progress.bar_style = 'danger'\n",
    "        raise\n",
    "    else:\n",
    "        progress.bar_style = 'success'\n",
    "        progress.value = index\n",
    "        label.value = \"{name}: {index}\".format(\n",
    "            name=name,\n",
    "            index=str(index or '?')\n",
    "        )"
   ]
  },
  {
   "cell_type": "code",
   "execution_count": 118,
   "metadata": {
    "collapsed": false
   },
   "outputs": [],
   "source": [
    ""
   ]
  },
  {
   "cell_type": "code",
   "execution_count": 134,
   "metadata": {
    "collapsed": false
   },
   "outputs": [],
   "source": [
    "def extract_lungs(separated):\n",
    "    left_lung = separated.copy()\n",
    "    left_lung[left_lung!=1] = 0\n",
    "    right_lung = separeted.copy()\n",
    "    right_lung[right_lung!=2] = 0\n",
    "    x,y,z = np.where(left_lung)\n",
    "    left_lung = left_lung[x.min():x.max(),y.min():y.max(),z.min():z.max()]\n",
    "    x,y,z = np.where(right_lung)\n",
    "    right_lung = right_lung[x.min():x.max(),y.min():y.max(),z.min():z.max()]\n",
    "    return left_lung,right_lung"
   ]
  },
  {
   "cell_type": "code",
   "execution_count": 136,
   "metadata": {
    "collapsed": false
   },
   "outputs": [
    {
     "data": {
      "text/plain": [
       "<IPython.core.display.Javascript object>"
      ]
     },
     "metadata": {},
     "output_type": "display_data"
    },
    {
     "data": {
      "text/html": [
       "<img src=\"data:image/png;base64,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\" width=\"400\">"
      ],
      "text/plain": [
       "<IPython.core.display.HTML object>"
      ]
     },
     "metadata": {},
     "output_type": "execute_result"
    },
    {
     "data": {
      "text/plain": [
       "<matplotlib.image.AxesImage at 0x22f9e730a58>"
      ]
     },
     "execution_count": 136,
     "metadata": {},
     "output_type": "execute_result"
    }
   ],
   "source": [
    "plt.matshow(right_lung[180])"
   ]
  },
  {
   "cell_type": "code",
   "execution_count": null,
   "metadata": {
    "collapsed": true
   },
   "outputs": [],
   "source": [
    ""
   ]
  }
 ],
 "metadata": {
  "anaconda-cloud": {},
  "kernelspec": {
   "display_name": "Python [conda env:py3k]",
   "language": "python",
   "name": "conda-env-py3k-py"
  },
  "language_info": {
   "codemirror_mode": {
    "name": "ipython",
    "version": 3.0
   },
   "file_extension": ".py",
   "mimetype": "text/x-python",
   "name": "python",
   "nbconvert_exporter": "python",
   "pygments_lexer": "ipython3",
   "version": "3.6.0"
  },
  "widgets": {
   "state": {
    "4ec999098c164b93bb5e9a76f9a1efe6": {
     "views": [
      {
       "cell_index": 9.0
      }
     ]
    },
    "612838f4b90b4f989304af4524c66bc7": {
     "views": [
      {
       "cell_index": 9.0
      }
     ]
    },
    "b0bbefcbd6904e69b1d5b354530777ea": {
     "views": [
      {
       "cell_index": 9.0
      }
     ]
    },
    "b8499e19f55a4d2f827f89b9673ff04f": {
     "views": [
      {
       "cell_index": 9.0
      }
     ]
    },
    "d6030e2727cf4434a65c1a8c71eafe5f": {
     "views": [
      {
       "cell_index": 9.0
      }
     ]
    },
    "f1eae40a13754dddb0ba8ef639c68581": {
     "views": [
      {
       "cell_index": 9.0
      }
     ]
    },
    "f21ee0b681cf4b739eb1ecee4737e000": {
     "views": [
      {
       "cell_index": 9.0
      }
     ]
    }
   },
   "version": "1.2.0"
  }
 },
 "nbformat": 4,
 "nbformat_minor": 0
}