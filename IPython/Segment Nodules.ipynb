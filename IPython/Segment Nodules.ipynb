{
 "cells": [
  {
   "cell_type": "code",
   "execution_count": 1,
   "metadata": {
    "collapsed": false
   },
   "outputs": [
    {
     "name": "stdout",
     "output_type": "stream",
     "text": [
      "Populating the interactive namespace from numpy and matplotlib\n"
     ]
    }
   ],
   "source": [
    "import sys\n",
    "sys.path.append('../')\n",
    "sys.path.append('../support/')\n",
    "sys.path.append('../lung_segmentation/')\n",
    "\n",
    "from preprocessing import *\n",
    "from ct_reader import *\n",
    "import pandas as pd\n",
    "from os.path import join, basename, isfile\n",
    "from scipy.ndimage.interpolation import zoom\n",
    "from glob import glob\n",
    "from multiprocessing import Pool\n",
    "from scipy.ndimage import morphology\n",
    "from scipy.ndimage import label\n",
    "from skimage import measure\n",
    "from tqdm import tqdm\n",
    "from multiprocessing import Pool\n",
    "import pickle\n",
    "%pylab inline\n",
    "from paths import * \n",
    "from skimage.transform import resize\n",
    "import warnings\n",
    "# warnings.filterwarnings('ignore')"
   ]
  },
  {
   "cell_type": "code",
   "execution_count": 5,
   "metadata": {
    "collapsed": false,
    "scrolled": true
   },
   "outputs": [
    {
     "ename": "OSError",
     "evalue": "File b'/home/a.dobrenkii/Projects/Kaggle/DataScienceBowl2K17/data/CSV/anotations.csv' does not exist",
     "output_type": "error",
     "traceback": [
      "\u001b[1;31m\u001b[0m",
      "\u001b[1;31mOSError\u001b[0mTraceback (most recent call last)",
      "\u001b[1;32m<ipython-input-5-d54f72eeef39>\u001b[0m in \u001b[0;36m<module>\u001b[1;34m()\u001b[0m\n\u001b[1;32m----> 1\u001b[1;33m \u001b[0ma\u001b[0m \u001b[1;33m=\u001b[0m \u001b[0mpd\u001b[0m\u001b[1;33m.\u001b[0m\u001b[0mread_csv\u001b[0m\u001b[1;33m(\u001b[0m\u001b[0mjoin\u001b[0m\u001b[1;33m(\u001b[0m\u001b[0mPATH\u001b[0m\u001b[1;33m[\u001b[0m\u001b[1;34m'CSV'\u001b[0m\u001b[1;33m]\u001b[0m\u001b[1;33m,\u001b[0m \u001b[1;34m'anotations.csv'\u001b[0m\u001b[1;33m)\u001b[0m\u001b[1;33m)\u001b[0m\u001b[1;33m\u001b[0m\u001b[0m\n\u001b[0m",
      "\u001b[1;32m/home/a.dobrenkii/anaconda3/lib/python3.5/site-packages/pandas/io/parsers.py\u001b[0m in \u001b[0;36mparser_f\u001b[1;34m(filepath_or_buffer, sep, delimiter, header, names, index_col, usecols, squeeze, prefix, mangle_dupe_cols, dtype, engine, converters, true_values, false_values, skipinitialspace, skiprows, skipfooter, nrows, na_values, keep_default_na, na_filter, verbose, skip_blank_lines, parse_dates, infer_datetime_format, keep_date_col, date_parser, dayfirst, iterator, chunksize, compression, thousands, decimal, lineterminator, quotechar, quoting, escapechar, comment, encoding, dialect, tupleize_cols, error_bad_lines, warn_bad_lines, skip_footer, doublequote, delim_whitespace, as_recarray, compact_ints, use_unsigned, low_memory, buffer_lines, memory_map, float_precision)\u001b[0m\n\u001b[0;32m    560\u001b[0m                     skip_blank_lines=skip_blank_lines)\n\u001b[0;32m    561\u001b[0m \u001b[1;33m\u001b[0m\u001b[0m\n\u001b[1;32m--> 562\u001b[1;33m         \u001b[1;32mreturn\u001b[0m \u001b[0m_read\u001b[0m\u001b[1;33m(\u001b[0m\u001b[0mfilepath_or_buffer\u001b[0m\u001b[1;33m,\u001b[0m \u001b[0mkwds\u001b[0m\u001b[1;33m)\u001b[0m\u001b[1;33m\u001b[0m\u001b[0m\n\u001b[0m\u001b[0;32m    563\u001b[0m \u001b[1;33m\u001b[0m\u001b[0m\n\u001b[0;32m    564\u001b[0m     \u001b[0mparser_f\u001b[0m\u001b[1;33m.\u001b[0m\u001b[0m__name__\u001b[0m \u001b[1;33m=\u001b[0m \u001b[0mname\u001b[0m\u001b[1;33m\u001b[0m\u001b[0m\n",
      "\u001b[1;32m/home/a.dobrenkii/anaconda3/lib/python3.5/site-packages/pandas/io/parsers.py\u001b[0m in \u001b[0;36m_read\u001b[1;34m(filepath_or_buffer, kwds)\u001b[0m\n\u001b[0;32m    313\u001b[0m \u001b[1;33m\u001b[0m\u001b[0m\n\u001b[0;32m    314\u001b[0m     \u001b[1;31m# Create the parser.\u001b[0m\u001b[1;33m\u001b[0m\u001b[1;33m\u001b[0m\u001b[0m\n\u001b[1;32m--> 315\u001b[1;33m     \u001b[0mparser\u001b[0m \u001b[1;33m=\u001b[0m \u001b[0mTextFileReader\u001b[0m\u001b[1;33m(\u001b[0m\u001b[0mfilepath_or_buffer\u001b[0m\u001b[1;33m,\u001b[0m \u001b[1;33m**\u001b[0m\u001b[0mkwds\u001b[0m\u001b[1;33m)\u001b[0m\u001b[1;33m\u001b[0m\u001b[0m\n\u001b[0m\u001b[0;32m    316\u001b[0m \u001b[1;33m\u001b[0m\u001b[0m\n\u001b[0;32m    317\u001b[0m     \u001b[1;32mif\u001b[0m \u001b[1;33m(\u001b[0m\u001b[0mnrows\u001b[0m \u001b[1;32mis\u001b[0m \u001b[1;32mnot\u001b[0m \u001b[1;32mNone\u001b[0m\u001b[1;33m)\u001b[0m \u001b[1;32mand\u001b[0m \u001b[1;33m(\u001b[0m\u001b[0mchunksize\u001b[0m \u001b[1;32mis\u001b[0m \u001b[1;32mnot\u001b[0m \u001b[1;32mNone\u001b[0m\u001b[1;33m)\u001b[0m\u001b[1;33m:\u001b[0m\u001b[1;33m\u001b[0m\u001b[0m\n",
      "\u001b[1;32m/home/a.dobrenkii/anaconda3/lib/python3.5/site-packages/pandas/io/parsers.py\u001b[0m in \u001b[0;36m__init__\u001b[1;34m(self, f, engine, **kwds)\u001b[0m\n\u001b[0;32m    643\u001b[0m             \u001b[0mself\u001b[0m\u001b[1;33m.\u001b[0m\u001b[0moptions\u001b[0m\u001b[1;33m[\u001b[0m\u001b[1;34m'has_index_names'\u001b[0m\u001b[1;33m]\u001b[0m \u001b[1;33m=\u001b[0m \u001b[0mkwds\u001b[0m\u001b[1;33m[\u001b[0m\u001b[1;34m'has_index_names'\u001b[0m\u001b[1;33m]\u001b[0m\u001b[1;33m\u001b[0m\u001b[0m\n\u001b[0;32m    644\u001b[0m \u001b[1;33m\u001b[0m\u001b[0m\n\u001b[1;32m--> 645\u001b[1;33m         \u001b[0mself\u001b[0m\u001b[1;33m.\u001b[0m\u001b[0m_make_engine\u001b[0m\u001b[1;33m(\u001b[0m\u001b[0mself\u001b[0m\u001b[1;33m.\u001b[0m\u001b[0mengine\u001b[0m\u001b[1;33m)\u001b[0m\u001b[1;33m\u001b[0m\u001b[0m\n\u001b[0m\u001b[0;32m    646\u001b[0m \u001b[1;33m\u001b[0m\u001b[0m\n\u001b[0;32m    647\u001b[0m     \u001b[1;32mdef\u001b[0m \u001b[0mclose\u001b[0m\u001b[1;33m(\u001b[0m\u001b[0mself\u001b[0m\u001b[1;33m)\u001b[0m\u001b[1;33m:\u001b[0m\u001b[1;33m\u001b[0m\u001b[0m\n",
      "\u001b[1;32m/home/a.dobrenkii/anaconda3/lib/python3.5/site-packages/pandas/io/parsers.py\u001b[0m in \u001b[0;36m_make_engine\u001b[1;34m(self, engine)\u001b[0m\n\u001b[0;32m    797\u001b[0m     \u001b[1;32mdef\u001b[0m \u001b[0m_make_engine\u001b[0m\u001b[1;33m(\u001b[0m\u001b[0mself\u001b[0m\u001b[1;33m,\u001b[0m \u001b[0mengine\u001b[0m\u001b[1;33m=\u001b[0m\u001b[1;34m'c'\u001b[0m\u001b[1;33m)\u001b[0m\u001b[1;33m:\u001b[0m\u001b[1;33m\u001b[0m\u001b[0m\n\u001b[0;32m    798\u001b[0m         \u001b[1;32mif\u001b[0m \u001b[0mengine\u001b[0m \u001b[1;33m==\u001b[0m \u001b[1;34m'c'\u001b[0m\u001b[1;33m:\u001b[0m\u001b[1;33m\u001b[0m\u001b[0m\n\u001b[1;32m--> 799\u001b[1;33m             \u001b[0mself\u001b[0m\u001b[1;33m.\u001b[0m\u001b[0m_engine\u001b[0m \u001b[1;33m=\u001b[0m \u001b[0mCParserWrapper\u001b[0m\u001b[1;33m(\u001b[0m\u001b[0mself\u001b[0m\u001b[1;33m.\u001b[0m\u001b[0mf\u001b[0m\u001b[1;33m,\u001b[0m \u001b[1;33m**\u001b[0m\u001b[0mself\u001b[0m\u001b[1;33m.\u001b[0m\u001b[0moptions\u001b[0m\u001b[1;33m)\u001b[0m\u001b[1;33m\u001b[0m\u001b[0m\n\u001b[0m\u001b[0;32m    800\u001b[0m         \u001b[1;32melse\u001b[0m\u001b[1;33m:\u001b[0m\u001b[1;33m\u001b[0m\u001b[0m\n\u001b[0;32m    801\u001b[0m             \u001b[1;32mif\u001b[0m \u001b[0mengine\u001b[0m \u001b[1;33m==\u001b[0m \u001b[1;34m'python'\u001b[0m\u001b[1;33m:\u001b[0m\u001b[1;33m\u001b[0m\u001b[0m\n",
      "\u001b[1;32m/home/a.dobrenkii/anaconda3/lib/python3.5/site-packages/pandas/io/parsers.py\u001b[0m in \u001b[0;36m__init__\u001b[1;34m(self, src, **kwds)\u001b[0m\n\u001b[0;32m   1211\u001b[0m         \u001b[0mkwds\u001b[0m\u001b[1;33m[\u001b[0m\u001b[1;34m'allow_leading_cols'\u001b[0m\u001b[1;33m]\u001b[0m \u001b[1;33m=\u001b[0m \u001b[0mself\u001b[0m\u001b[1;33m.\u001b[0m\u001b[0mindex_col\u001b[0m \u001b[1;32mis\u001b[0m \u001b[1;32mnot\u001b[0m \u001b[1;32mFalse\u001b[0m\u001b[1;33m\u001b[0m\u001b[0m\n\u001b[0;32m   1212\u001b[0m \u001b[1;33m\u001b[0m\u001b[0m\n\u001b[1;32m-> 1213\u001b[1;33m         \u001b[0mself\u001b[0m\u001b[1;33m.\u001b[0m\u001b[0m_reader\u001b[0m \u001b[1;33m=\u001b[0m \u001b[0m_parser\u001b[0m\u001b[1;33m.\u001b[0m\u001b[0mTextReader\u001b[0m\u001b[1;33m(\u001b[0m\u001b[0msrc\u001b[0m\u001b[1;33m,\u001b[0m \u001b[1;33m**\u001b[0m\u001b[0mkwds\u001b[0m\u001b[1;33m)\u001b[0m\u001b[1;33m\u001b[0m\u001b[0m\n\u001b[0m\u001b[0;32m   1214\u001b[0m \u001b[1;33m\u001b[0m\u001b[0m\n\u001b[0;32m   1215\u001b[0m         \u001b[1;31m# XXX\u001b[0m\u001b[1;33m\u001b[0m\u001b[1;33m\u001b[0m\u001b[0m\n",
      "\u001b[1;32mpandas/parser.pyx\u001b[0m in \u001b[0;36mpandas.parser.TextReader.__cinit__ (pandas/parser.c:3427)\u001b[1;34m()\u001b[0m\n",
      "\u001b[1;32mpandas/parser.pyx\u001b[0m in \u001b[0;36mpandas.parser.TextReader._setup_parser_source (pandas/parser.c:6861)\u001b[1;34m()\u001b[0m\n",
      "\u001b[1;31mOSError\u001b[0m: File b'/home/a.dobrenkii/Projects/Kaggle/DataScienceBowl2K17/data/CSV/anotations.csv' does not exist"
     ]
    }
   ],
   "source": [
    "a = pd.read_csv(join(PATH['CSV'], 'anotations.csv'))"
   ]
  },
  {
   "cell_type": "code",
   "execution_count": 17,
   "metadata": {
    "collapsed": true
   },
   "outputs": [],
   "source": [
    "a = pd.read_csv('/home/a.dobrenkii/Projects/Kaggle/DataScienceBowl2K17/data/LUNA/annotations.csv')"
   ]
  },
  {
   "cell_type": "code",
   "execution_count": 20,
   "metadata": {
    "collapsed": false
   },
   "outputs": [
    {
     "data": {
      "text/plain": [
       "11.066297479999999"
      ]
     },
     "execution_count": 20,
     "metadata": {},
     "output_type": "execute_result"
    }
   ],
   "source": [
    "percentile(a.diameter_mm, 80)"
   ]
  },
  {
   "cell_type": "code",
   "execution_count": 22,
   "metadata": {
    "collapsed": false
   },
   "outputs": [
    {
     "data": {
      "text/plain": [
       "109.23566878980891"
      ]
     },
     "execution_count": 22,
     "metadata": {},
     "output_type": "execute_result"
    }
   ],
   "source": [
    "(42**3) / (3.14 * 6**3)"
   ]
  },
  {
   "cell_type": "code",
   "execution_count": 2,
   "metadata": {
    "collapsed": true
   },
   "outputs": [],
   "source": [
    "BORDER = 32\n",
    "BATCH_SIZE = 32\n",
    "OUT_LUNGS = -9000\n",
    "SPACING = array([.9, .7, .7])\n",
    "UPSIDES = pickle.load(open(join(PATH['WEIGHTS'], \n",
    "                                'upsides'), 'rb'))\n",
    "CPU = 24"
   ]
  },
  {
   "cell_type": "code",
   "execution_count": null,
   "metadata": {
    "collapsed": true
   },
   "outputs": [],
   "source": [
    "\n",
    "def apply_enhs_filters(mask, patient, include_plane=False):\n",
    "    enhs = []\n",
    "    sigmas = get_scales()\n",
    "    _enh_dot = zeros(mask.shape)\n",
    "    _enh_line = zeros(mask.shape)\n",
    "\n",
    "    z_dot = list()\n",
    "    z_line = list()\n",
    "    divs = list()\n",
    "\n",
    "    for i, sigma in enumerate(sigmas):\n",
    "\n",
    "        filtered = gaussian_filter(patient, sigma=sigma)\n",
    "        grad = gradient(filtered * mask)\n",
    "\n",
    "        axis = [[0, 1, 2], [1, 2], [2]]\n",
    "        hess = [gradient(deriv, axis=j) \n",
    "                for i, deriv in enumerate(grad) \n",
    "                for j in axis[i]]\n",
    "\n",
    "    #   [(0, xx), (1, xy), (2, xz), (3, yy), (4, yz), (5, zz)]\n",
    "    #   x, y, z -> 3, 3, x, y, z -> 3, 3, N\n",
    "\n",
    "        coords = where(mask)\n",
    "        for j in range(len(hess)):\n",
    "            hess[j] = hess[j][coords]\n",
    "\n",
    "        hess = asarray([[hess[0], hess[1], hess[2]],\n",
    "                        [hess[1], hess[3], hess[4]],\n",
    "                        [hess[2], hess[4], hess[5]]])\n",
    "\n",
    "\n",
    "        with Pool(CPU) as pool:\n",
    "            eigs = pool.map(linalg.eigvalsh, [hess[:, :, i] for i in range(hess.shape[-1])])\n",
    "\n",
    "        sigma_sqr = sigma ** 2\n",
    "        z_dot.append([sigma_sqr * (eig_val[2] ** 2) / abs(eig_val[0]) \n",
    "                      if eig_val[0] < 0 \n",
    "                      and eig_val[1] < 0 \n",
    "                      and eig_val[2] < 0 \n",
    "                      else 0\n",
    "                      for eig_val in eigs])\n",
    "\n",
    "        z_line.append([sigma_sqr * abs(eig_val[1]) \n",
    "                       * (abs(eig_val[1]) - abs(eig_val[2])) \n",
    "                       / abs(eig_val[0]) \n",
    "                       if eig_val[0] < 0 \n",
    "                       and eig_val[1] < 0 \n",
    "                       else 0\n",
    "                       for eig_val in eigs])\n",
    "\n",
    "        _enh_dot[coords] = asarray(z_dot).max(axis=0)\n",
    "        _enh_line[coords] = asarray(z_line).max(axis=0)\n",
    "        enhs.append((_enh_dot, _enh_line))\n",
    "    return enhs"
   ]
  },
  {
   "cell_type": "code",
   "execution_count": 3,
   "metadata": {
    "collapsed": true
   },
   "outputs": [],
   "source": [
    "def read_ct(path, ret_xy_spacing=False, ret_original_format=True):\n",
    "    patient = read_ct_scan(path)\n",
    "    image = get_pixels_hu(patient)\n",
    "#     image[image == image[0,0,0]] = 0\n",
    "    \n",
    "    if ret_original_format:\n",
    "        return image, patient\n",
    "    \n",
    "    if ret_xy_spacing:\n",
    "        return image, patient.GetSpacing()[0]\n",
    "    \n",
    "    return image"
   ]
  },
  {
   "cell_type": "code",
   "execution_count": 4,
   "metadata": {
    "collapsed": true
   },
   "outputs": [],
   "source": [
    "def segment_nodules(patch, mask, is_nodule=True, magic_const=50):\n",
    "    prepared = (patch - patch.min()) / (patch.max() - patch.min())\n",
    "\n",
    "    kmeans = KMeans(n_clusters=2)\n",
    "    data = prepared[coords]\n",
    "    \n",
    "    if data.shape[0] <= 2:\n",
    "        return mask\n",
    "    \n",
    "    data = kmeans.fit_predict(expand_dims(data, 1))\n",
    "\n",
    "    kmean = zeros(mask.shape)\n",
    "    kmean[coords] = data + magic_const\n",
    "    labels, num = label(kmean, return_num=True, background=0)\n",
    "\n",
    "    nodule_a = argmax([sum(labels == i) for i in range(1, num + 1)]) + 1\n",
    "    init = kmeans.predict(expand_dims(prepared[labels == nodule_a], 1)).min()\n",
    "    nodule_b = list()\n",
    "    for i in range(1, num + 1):\n",
    "        if i != nodule_a:\n",
    "            if kmeans.predict(expand_dims(prepared[where(labels == i)], 1)).min() != init:\n",
    "                nodule_b.append((sum(labels == i), i))\n",
    "\n",
    "    nodule_b = max(nodule_b)[1]\n",
    "\n",
    "    A = prepared[labels == nodule_a]\n",
    "    B = prepared[labels == nodule_b]\n",
    "\n",
    "    if mean(A.reshape(-1)) > mean(B.reshape(-1)):\n",
    "        labels = labels == nodule_a\n",
    "    else:\n",
    "        labels = labels == nodule_b\n",
    "\n",
    "    return labels"
   ]
  },
  {
   "cell_type": "code",
   "execution_count": 192,
   "metadata": {
    "collapsed": false
   },
   "outputs": [],
   "source": [
    "def overlap(lung, mask):\n",
    "#     iso = binary_dilation(imresize(isolated[163], (512, 512)))\n",
    "    labeled, num = label(mask)\n",
    "    coords = list()\n",
    "    for colour in range(1, labeled.max() + 1):\n",
    "        coords.append(where(labeled == colour))\n",
    "        \n",
    "    coords = array([[int(coord[0].mean())\n",
    "                     for coord in coords], \n",
    "                    [int(coord[1].mean())\n",
    "                     for coord in coords],\n",
    "                    [int(coord[2].mean())\n",
    "                     for coord in coords]])\n",
    "    \n",
    "    pads = ((BORDER, BORDER), \n",
    "            (BORDER, BORDER), \n",
    "            (BORDER, BORDER))\n",
    "    \n",
    "    lung = pad(lung, pads, \n",
    "               mode='edge')\n",
    "    res = zeros(lung.shape)\n",
    "    labeled = pad(labeled, pads, \n",
    "                  mode='edge')\n",
    "    patches = list()\n",
    "    masks = list()\n",
    "    for coord in coords.T:\n",
    "        res[coord[0]: coord[0] + 2 * BORDER,\n",
    "            coord[1]: coord[1] + 2 * BORDER,\n",
    "            coord[2]: coord[2] + 2 * BORDER] += \\\n",
    "            segment_nodule(lung[coord[0]: coord[0] + 2 * BORDER,\n",
    "                                coord[1]: coord[1] + 2 * BORDER,\n",
    "                                coord[2]: coord[2] + 2 * BORDER],\n",
    "                           labeled[coord[0]: coord[0] + 2 * BORDER,\n",
    "                                   coord[1]: coord[1] + 2 * BORDER,\n",
    "                                   coord[2]: coord[2] + 2 * BORDER])\n",
    "\n",
    "    return res[BORDER: -BORDER,\n",
    "               BORDER: -BORDER,\n",
    "               BORDER: -BORDER]"
   ]
  },
  {
   "cell_type": "code",
   "execution_count": 178,
   "metadata": {
    "collapsed": true
   },
   "outputs": [],
   "source": [
    "def region_growing(img, seed, minthr, maxthr, structure=None):\n",
    "    \"\"\"code was taken from:\n",
    "    https://github.com/loli/medpy/wiki/Basic-image-manipulation\n",
    "    \"\"\"\n",
    "    img[seed] = minthr\n",
    "    thrimg = (img <= maxthr) & (img >= minthr)\n",
    "    lmap, _ = label(thrimg, structure=structure)\n",
    "    lids = unique(lmap[seed])\n",
    "    region = zeros(img.shape, numpy.bool)\n",
    "    for lid in lids:\n",
    "        region |= lmap == lid\n",
    "    return region"
   ]
  },
  {
   "cell_type": "code",
   "execution_count": 201,
   "metadata": {
    "collapsed": false
   },
   "outputs": [],
   "source": [
    "def operate(path):\n",
    "    lung, ct_lung = read_ct(path, ret_original_format=True)\n",
    "    \n",
    "    lung, spacing = resample(lung, ct_lung, (1, 1, 1))\n",
    "    \n",
    "    name = basename(path)\n",
    "    mask = load(join(PATH['DATA_ENHANCED'], \n",
    "                         name + '.npy'))\n",
    "    lung_mask = load(join(PATH['DATA_OUT'], \n",
    "                              name + '.npy'))\n",
    "    lung += OUT_LUNGS * (lung_mask == 0)\n",
    "#     mask, spacing = resample(mask, (1, 1, 1), SPACING)\n",
    "    \n",
    "    if name in UPSIDES:\n",
    "        lung = flipud(lung)\n",
    "        mask = flipud(mask)\n",
    "    \n",
    "    lung_mask = (lung_mask // 8) * 2 + overlap(lung, mask)\n",
    "    save(join(PATH['DATA_OUT'], \n",
    "                              name + '.npy'), lung_mask)\n",
    "    return name"
   ]
  },
  {
   "cell_type": "code",
   "execution_count": 202,
   "metadata": {
    "collapsed": false,
    "scrolled": true
   },
   "outputs": [],
   "source": [
    "def segment_nodule(btch,mask):\n",
    "    batch = btch.copy()\n",
    "    interval = [64, 64]\n",
    "    grown = [mask == find_closest_label(batch,mask)] * 2\n",
    "    minval = median(batch[grown[-1]])\n",
    "    maxval = median(batch[grown[-1]])\n",
    "    sums = [grown[0].sum()] * 2\n",
    "    while True: #unique((mask == mask[32][32]) == grown).shape[0] == 1:\n",
    "        grown.append(region_growing(batch, \n",
    "                                    grown[-1], \n",
    "                                    minval, \n",
    "                                    maxval))\n",
    "        minval -= interval[0]\n",
    "        maxval += interval[1]\n",
    "        grown.pop(0)\n",
    "        sums.append(grown[-1].sum())\n",
    "        sums.pop(0)\n",
    "        if 2 * sums[0] < sums[1]:\n",
    "            interval[0] = interval[0] // 2\n",
    "            interval[1] = interval[1] // 2\n",
    "            grown = [grown[0]] * 2\n",
    "            sums = [grown[0].sum()] * 2\n",
    "            if interval[0] == 1:\n",
    "                break\n",
    "        if grown[0].sum() > 27000:\n",
    "            break\n",
    "    return grown[0]"
   ]
  },
  {
   "cell_type": "code",
   "execution_count": 203,
   "metadata": {
    "collapsed": true
   },
   "outputs": [],
   "source": [
    "def find_closest_label(lung, enh):\n",
    "    center = zeros(lung.shape)\n",
    "    center[lung.shape[0] // 2, lung.shape[1] // 2, lung.shape[2] // 2] = 1\n",
    "    ans = (enh * center).max()\n",
    "    while ans == 0:\n",
    "        center = morphology.binary_dilation(center)\n",
    "        ans = (enh * center).max()\n",
    "    return ans"
   ]
  },
  {
   "cell_type": "code",
   "execution_count": 21,
   "metadata": {
    "collapsed": false
   },
   "outputs": [
    {
     "data": {
      "text/plain": [
       "<matplotlib.image.AxesImage at 0x7f7efe1b7e80>"
      ]
     },
     "execution_count": 21,
     "metadata": {},
     "output_type": "execute_result"
    },
    {
     "data": {
      "image/png": "[encoded data removed]",
      "text/plain": [
       "<matplotlib.figure.Figure at 0x7f7efe3b6b70>"
      ]
     },
     "metadata": {},
     "output_type": "display_data"
    }
   ],
   "source": [
    "a = load(join(PATH['STAGE_MASKS'], '007c1246c5fe6f200378f6b91323dc2a.npy'))\n",
    "# a = load(join(PATH['STAGE_ENHANCED'], '007c1246c5fe6f200378f6b91323dc2a.npy'))\n",
    "imshow(a[a.shape[0] // 2 + 25])"
   ]
  },
  {
   "cell_type": "code",
   "execution_count": 23,
   "metadata": {
    "collapsed": false
   },
   "outputs": [
    {
     "name": "stdout",
     "output_type": "stream",
     "text": [
      "[599, 365, 221, 220, 219, 215, 210, 185, 184, 180, 176, 160, 157, 153, 133, 133, 130, 127, 121, 113]\n"
     ]
    }
   ],
   "source": [
    "l, _ = label(a >= 16)\n",
    "print(sorted(bincount(l.flatten())[1:], reverse=True)[:20])"
   ]
  },
  {
   "cell_type": "code",
   "execution_count": 20,
   "metadata": {
    "collapsed": false
   },
   "outputs": [
    {
     "name": "stdout",
     "output_type": "stream",
     "text": [
      "[435, 313, 181, 173, 171, 156, 152, 144, 141, 128, 126, 121, 120, 108, 99, 96, 88, 80, 78, 78]\n"
     ]
    }
   ],
   "source": [
    "l, _ = label(a)\n",
    "print(sorted(bincount(l.flatten())[1:], reverse=True)[:20])"
   ]
  },
  {
   "cell_type": "code",
   "execution_count": 204,
   "metadata": {
    "collapsed": true
   },
   "outputs": [],
   "source": [
    "def get_remind_files():\n",
    "    file_list = set(glob(join(PATH['DATA'], '*')))\n",
    "#     file_list = file_list.difference(set([join(PATH['DATA'], basename(path).split('.npy')[0][:32]) \n",
    "#                             for path in glob(join(PATH['ENHANCED_CROPPED'], '*.npy'))]))\n",
    "    return sorted(list(file_list))"
   ]
  },
  {
   "cell_type": "code",
   "execution_count": 195,
   "metadata": {
    "collapsed": false
   },
   "outputs": [
    {
     "name": "stderr",
     "output_type": "stream",
     "text": [
      "\n",
      "  0%|          | 0/50 [00:00<?, ?it/s]\u001b[A\n"
     ]
    },
    {
     "name": "stdout",
     "output_type": "stream",
     "text": [
      "1 finished\n"
     ]
    }
   ],
   "source": [
    "file_list = get_remind_files()\n",
    "with Pool(CPU) as pool:\n",
    "    processed = pool.map(operate, file_list)\n",
    "pickle.dump(processed, open(join(PATH['WEIGHTS'], 'processed_grown_nodules'), 'wb'))\n",
    "# for file in file_list:\n",
    "    \n",
    "# #     batch_files = file_list[BATCH_SIZE * counter:\n",
    "# #                             BATCH_SIZE * (counter + 1)]\n",
    "\n",
    "# #     nodule_mask, lung, lung_mask = operate(batch_files[0])\n",
    "    \n",
    "# #     print('1 finished')\n",
    "# #     nodule_mask, lung = operate(batch_files[0])\n",
    "# #     nodule_masks.append(nodule_mask)\n",
    "# #     lungs.append(lung)\n",
    "#     break"
   ]
  },
  {
   "cell_type": "code",
   "execution_count": null,
   "metadata": {
    "collapsed": true
   },
   "outputs": [],
   "source": []
  }
 ],
 "metadata": {
  "anaconda-cloud": {},
  "kernelspec": {
   "display_name": "Python [Root]",
   "language": "python",
   "name": "Python [Root]"
  },
  "language_info": {
   "codemirror_mode": {
    "name": "ipython",
    "version": 3
   },
   "file_extension": ".py",
   "mimetype": "text/x-python",
   "name": "python",
   "nbconvert_exporter": "python",
   "pygments_lexer": "ipython3",
   "version": "3.5.2"
  }
 },
 "nbformat": 4,
 "nbformat_minor": 0
}
