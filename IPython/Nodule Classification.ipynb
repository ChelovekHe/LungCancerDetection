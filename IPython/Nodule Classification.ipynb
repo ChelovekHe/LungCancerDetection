{
 "cells": [
  {
   "cell_type": "code",
   "execution_count": 1,
   "metadata": {
    "collapsed": false
   },
   "outputs": [
    {
     "name": "stderr",
     "output_type": "stream",
     "text": [
      "Using TensorFlow backend.\n"
     ]
    },
    {
     "name": "stdout",
     "output_type": "stream",
     "text": [
      "Populating the interactive namespace from numpy and matplotlib\n"
     ]
    }
   ],
   "source": [
    "import sys\n",
    "sys.path.append('../Nets/')\n",
    "sys.path.append('../')\n",
    "from glob import glob\n",
    "from os.path import join\n",
    "from multiprocessing import Pool\n",
    "from scipy.ndimage.interpolation import rotate\n",
    "from keras.callbacks import ModelCheckpoint\n",
    "from tqdm import tqdm\n",
    "from functools import partial\n",
    "from Nodule import *\n",
    "from paths import *\n",
    "%pylab inline\n",
    "from NoduleClf import*"
   ]
  },
  {
   "cell_type": "code",
   "execution_count": 2,
   "metadata": {
    "collapsed": false
   },
   "outputs": [],
   "source": [
    "clf_model, coders = predictor()\n",
    "clf_model.compile('adam', 'binary_crossentropy')\n",
    "clf_model.load_weights(join(PATH['WEIGHTS'], '3DCAE_nodule_clf_50'))"
   ]
  },
  {
   "cell_type": "code",
   "execution_count": 3,
   "metadata": {
    "collapsed": true
   },
   "outputs": [],
   "source": [
    "def augment_patch(patch, shape, angle=15, shift=4):\n",
    "    \n",
    "    center = array(patch.shape) // 2\n",
    "    \n",
    "    left = array(shape) // 2\n",
    "    right = array(shape) - left\n",
    "    \n",
    "    patch = [patch[center[0] - left[(0 + i) % 3]:center[0] + right[(0 + i) % 3], \n",
    "                  center[1] - left[(1 + i) % 3]:center[1] + right[(1 + i) % 3], \n",
    "                  center[2] - left[(2 + i) % 3]:center[2] + right[(2 + i) % 3]] for i in range(3)]\n",
    "\n",
    "    for i, el in enumerate(patch):\n",
    "        if i == 1:\n",
    "            patch[i] = rotate(el, angle=90, axes=(0, 2))\n",
    "            \n",
    "        if i == 2:\n",
    "            patch[i] = rotate(el, angle=90, axes=(0, 1))\n",
    "            \n",
    "        mn = el.min()\n",
    "        mx = el.max()\n",
    "        if (mx - mn) != 0:\n",
    "            patch[i] = (patch[i] - mn) / (mx - mn)\n",
    "        else:\n",
    "            patch[i][:, :, :] = 0\n",
    "            \n",
    "    \n",
    "    return patch"
   ]
  },
  {
   "cell_type": "code",
   "execution_count": 70,
   "metadata": {
    "collapsed": false
   },
   "outputs": [],
   "source": [
    "def extract_patches(lung_path, mask_path, stride=(8, 8, 8), shape=(64, 64, 64)):\n",
    "    lung = load(lung_path)\n",
    "    mask = load(mask_path)\n",
    "    number_of_slices = ceil((asarray(lung.shape) - asarray(shape)) \n",
    "                            / asarray(stride)).astype(int)\n",
    "\n",
    "    center = array(shape) // 2\n",
    "    patches = list()\n",
    "    coords = list()\n",
    "    for i in range(number_of_slices[0]):\n",
    "        for j in range(number_of_slices[1]):\n",
    "            for k in range(number_of_slices[2]):\n",
    "                diff = mask[i * stride[0]: i * stride[0] + shape[0], \n",
    "                            j * stride[1]: j * stride[1] + shape[1], \n",
    "                            k * stride[2]: k * stride[2] + shape[2]]\n",
    "                \n",
    "                if diff[center[0] - stride[0]:center[0] + stride[0], \n",
    "                        center[1] - stride[1]:center[1] + stride[1], \n",
    "                        center[2] - stride[2]:center[2] + stride[2]].sum() < 20:\n",
    "                    continue\n",
    "                \n",
    "                patch = lung[i * stride[0]: i * stride[0] + shape[0], \n",
    "                             j * stride[1]: j * stride[1] + shape[1], \n",
    "                             k * stride[2]: k * stride[2] + shape[2]]\n",
    "                \n",
    "                if patch.shape != shape:\n",
    "                    continue\n",
    "                if  not patch[center[0] - stride[0]:center[0] + stride[0], \n",
    "                              center[1] - stride[1]:center[1] + stride[1], \n",
    "                              center[2] - stride[2]:center[2] + stride[2]].sum():\n",
    "                    continue\n",
    "                patches.append(patch)\n",
    "                coords.append((i, j, k))\n",
    "    return patches, coords"
   ]
  },
  {
   "cell_type": "code",
   "execution_count": 71,
   "metadata": {
    "collapsed": true
   },
   "outputs": [],
   "source": [
    "def batch_generator(patches, batch_size, \n",
    "                    shape=(8, 64, 64), \n",
    "                    CPU=4, projections=3):\n",
    "    \n",
    "    \n",
    "    number_of_batches = ceil(len(patches) / batch_size)\n",
    "    counter = 0\n",
    "    \n",
    "    while counter < number_of_batches:\n",
    "        batch = patches[batch_size * counter: batch_size * (counter + 1)]        \n",
    "        \n",
    "        augment = partial(augment_patch, shape=shape)\n",
    "        \n",
    "        with Pool(CPU) as pool:\n",
    "            patch_list = pool.map(augment, batch)\n",
    "            \n",
    "        counter += 1\n",
    "        patch_list = [expand_dims(array([patch[i]\n",
    "                       for patch in patch_list]), 1)  \n",
    "                      for i in range(projections)]\n",
    "        \n",
    "        yield patch_list"
   ]
  },
  {
   "cell_type": "code",
   "execution_count": 73,
   "metadata": {
    "collapsed": false
   },
   "outputs": [],
   "source": [
    "lung_path = '../../../data/TRAIN_OUT/LUNGS_IMG/0015ceb851d7251b8f399e39779d1e7dlungs_right.npy'\n",
    "mask_path = '../../../data/TRAIN_OUT/MASKS/0015ceb851d7251b8f399e39779d1e7ddiff_right.npy'\n",
    "\n",
    "batch_size = 32\n",
    "\n",
    "patches, coords = extract_patches(lung_path, mask_path) \n",
    "generator = batch_generator(patches, batch_size)"
   ]
  },
  {
   "cell_type": "code",
   "execution_count": 74,
   "metadata": {
    "collapsed": false
   },
   "outputs": [
    {
     "data": {
      "text/plain": [
       "3571"
      ]
     },
     "execution_count": 74,
     "metadata": {},
     "output_type": "execute_result"
    }
   ],
   "source": [
    "len(patches)"
   ]
  },
  {
   "cell_type": "code",
   "execution_count": 75,
   "metadata": {
    "collapsed": false,
    "scrolled": true
   },
   "outputs": [
    {
     "name": "stderr",
     "output_type": "stream",
     "text": [
      "\n",
      "  0%|          | 0/112 [00:00<?, ?it/s]\u001b[A\n",
      "\n",
      "\n",
      "\n",
      "\n",
      "100%|██████████| 112/112 [12:37<00:00,  6.33s/it]\n"
     ]
    }
   ],
   "source": [
    "nb_iterations = int(ceil(len(patches) / batch_size))\n",
    "predicted = list()\n",
    "coordinate = list()\n",
    "\n",
    "for i in tqdm(range(nb_iterations)):\n",
    "    predicted += clf_model.predict(next(generator)).reshape(-1).tolist()\n",
    "    coordinate += coords[batch_size * i: batch_size * (i + 1)]"
   ]
  },
  {
   "cell_type": "code",
   "execution_count": 88,
   "metadata": {
    "collapsed": false
   },
   "outputs": [],
   "source": [
    "x_min, y_min, z_min = (asarray(coordinate)[:, 0].min(), asarray(coordinate)[:, 1].min(), asarray(coordinate)[:, 2].min())\n",
    "x_max, y_max, z_max = (asarray(coordinate)[:, 0].max(), asarray(coordinate)[:, 1].max(), asarray(coordinate)[:, 2].max())"
   ]
  },
  {
   "cell_type": "code",
   "execution_count": 89,
   "metadata": {
    "collapsed": false
   },
   "outputs": [
    {
     "data": {
      "text/plain": [
       "(4, 1, 5)"
      ]
     },
     "execution_count": 89,
     "metadata": {},
     "output_type": "execute_result"
    }
   ],
   "source": [
    "x_min, y_min, z_min"
   ]
  },
  {
   "cell_type": "code",
   "execution_count": 83,
   "metadata": {
    "collapsed": false
   },
   "outputs": [],
   "source": [
    "mask = load(mask_path)\n",
    "lung = load(lung_path)\n",
    "pred = zeros(asarray(mask.shape) // 8)\n",
    "for coord, val in zip(coordinate, predicted):\n",
    "    pred[coord] = val"
   ]
  },
  {
   "cell_type": "code",
   "execution_count": 87,
   "metadata": {
    "collapsed": false
   },
   "outputs": [
    {
     "data": {
      "text/plain": [
       "(array([ 6,  7,  7, 12, 12, 12, 12, 13, 13, 13, 13, 15, 20, 20, 21, 41, 47]),\n",
       " array([28, 28, 28,  4,  4,  5, 30,  4,  4,  5,  5,  6,  5,  6,  6,  7, 13]),\n",
       " array([22, 21, 22, 21, 22, 21, 20, 21, 22, 21, 22, 22, 21, 21, 21, 13, 12]))"
      ]
     },
     "execution_count": 87,
     "metadata": {},
     "output_type": "execute_result"
    }
   ],
   "source": [
    "where(pred == pred.max())"
   ]
  },
  {
   "cell_type": "code",
   "execution_count": 92,
   "metadata": {
    "collapsed": false,
    "scrolled": true
   },
   "outputs": [
    {
     "data": {
      "image/png": "[encoded data removed]",
      "text/plain": [
       "<matplotlib.figure.Figure at 0x7f9e00608f98>"
      ]
     },
     "metadata": {},
     "output_type": "display_data"
    },
    {
     "data": {
      "image/png": "[encoded data removed]",
      "text/plain": [
       "<matplotlib.figure.Figure at 0x7f9e0069f828>"
      ]
     },
     "metadata": {},
     "output_type": "display_data"
    }
   ],
   "source": [
    "imshow(pred[12])\n",
    "show()\n",
    "imshow(lung[12 * 8 + 3 * 8])\n",
    "show()"
   ]
  },
  {
   "cell_type": "code",
   "execution_count": null,
   "metadata": {
    "collapsed": true
   },
   "outputs": [],
   "source": []
  }
 ],
 "metadata": {
  "anaconda-cloud": {},
  "kernelspec": {
   "display_name": "Python [Root]",
   "language": "python",
   "name": "Python [Root]"
  },
  "language_info": {
   "codemirror_mode": {
    "name": "ipython",
    "version": 3
   },
   "file_extension": ".py",
   "mimetype": "text/x-python",
   "name": "python",
   "nbconvert_exporter": "python",
   "pygments_lexer": "ipython3",
   "version": "3.5.2"
  }
 },
 "nbformat": 4,
 "nbformat_minor": 0
}
