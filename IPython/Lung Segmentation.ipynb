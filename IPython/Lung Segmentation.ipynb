{
 "cells": [
  {
   "cell_type": "code",
   "execution_count": 240,
   "metadata": {
    "collapsed": false,
    "scrolled": true
   },
   "outputs": [
    {
     "name": "stdout",
     "output_type": "stream",
     "text": [
      "Populating the interactive namespace from numpy and matplotlib\n"
     ]
    }
   ],
   "source": [
    "import sys\n",
    "sys.path.append('../')\n",
    "sys.path.append('../support/')\n",
    "sys.path.append('../lung_segmentation/')\n",
    "import os\n",
    "import SimpleITK\n",
    "from preprocessing import *\n",
    "from lung_separation import *\n",
    "from ct_reader import *\n",
    "from os.path import join, basename, isfile\n",
    "from glob import glob\n",
    "from scipy.ndimage import morphology\n",
    "from skimage import filters\n",
    "from skimage import exposure\n",
    "from tqdm import tqdm\n",
    "from skimage import morphology as skm\n",
    "from skimage.morphology import watershed\n",
    "\n",
    "from scipy.ndimage import generate_binary_structure\n",
    "from skimage import measure\n",
    "from multiprocessing import Pool\n",
    "import pickle\n",
    "from segmentation import *\n",
    "\n",
    "%pylab inline\n",
    "# import warnings\n",
    "# warnings.filterwarnings('ignore')\n",
    "\n",
    "import SimpleITK as sitk\n",
    "from paths import * \n",
    "from skimage.transform import resize\n",
    "from scipy.ndimage import label"
   ]
  },
  {
   "cell_type": "code",
   "execution_count": 3,
   "metadata": {
    "collapsed": false
   },
   "outputs": [],
   "source": [
    "def read_ct(path, ret_xy_spacing=False):\n",
    "    patient = read_ct_scan(path)\n",
    "    image = get_pixels_hu(patient)\n",
    "    image[image == image[0,0,0]] = 0\n",
    "    \n",
    "    if ret_xy_spacing:\n",
    "        try:\n",
    "            return image, patient[0].PixelSpacing[0]\n",
    "        except AttributeError:\n",
    "            return image, scan.GetSpacing()[0]\n",
    "    \n",
    "    return image"
   ]
  },
  {
   "cell_type": "code",
   "execution_count": 4,
   "metadata": {
    "collapsed": true
   },
   "outputs": [],
   "source": [
    "NUM_SEED_SLICES = 25\n",
    "BRONCHIAL_THRESHOLD = -900\n",
    "INITIAL_THRESHOLD = -950\n",
    "STEP = 64\n",
    "CPU = 24"
   ]
  },
  {
   "cell_type": "markdown",
   "metadata": {},
   "source": [
    "properties:  \n",
    "\n",
    "    average HU below −950,  \n",
    "    minimum size of 50 mm^2 ,   \n",
    "    maximum size of 1225 mm^2 ,   \n",
    "    mean x- and y-coordinates not further than 30%   \n",
    "    of the x- and y-dimensions of the image away from the center of the slice.  "
   ]
  },
  {
   "cell_type": "code",
   "execution_count": 5,
   "metadata": {
    "collapsed": true
   },
   "outputs": [],
   "source": [
    "def region_growing(img, seed, minthr, maxthr, structure=None):\n",
    "    \"\"\"code was taken from:\n",
    "    https://github.com/loli/medpy/wiki/Basic-image-manipulation\n",
    "    \"\"\"\n",
    "    img[seed] = minthr\n",
    "    thrimg = (img < maxthr) & (img >= minthr)\n",
    "    lmap, _ = label(thrimg, structure=structure)\n",
    "    lids = unique(lmap[seed])\n",
    "    region = zeros(img.shape, numpy.bool)\n",
    "    for lid in lids:\n",
    "        region |= lmap == lid\n",
    "    return region"
   ]
  },
  {
   "cell_type": "code",
   "execution_count": 6,
   "metadata": {
    "collapsed": false
   },
   "outputs": [],
   "source": [
    "def extract_bronchial(ct_slice, xy_spacing):\n",
    "    labeled = measure.label(ct_slice < BRONCHIAL_THRESHOLD)\n",
    "    areas = bincount(labeled.flatten())\n",
    "    labels = [i \n",
    "              for i, area in enumerate(areas) \n",
    "              if (area * xy_spacing >= 50) and (area * xy_spacing <= 1225)]\n",
    "    coords = [where(labeled == i) for i in labels]\n",
    "\n",
    "    center = array(ct_slice.shape) // 2\n",
    "    max_dist = array(ct_slice.shape) * .3\n",
    "    labels = [(mean(coord, axis=1), labe)\n",
    "              for labe, coord in zip(labels, coords) \n",
    "              if (abs(center - mean(coord, axis=1)) < max_dist).all()]\n",
    "    \n",
    "    if len(labels) != 0:\n",
    "        return labeled == min(labels, key=lambda x: sum((x[0] - center) ** 2))[1]\n",
    "    \n",
    "    return None"
   ]
  },
  {
   "cell_type": "code",
   "execution_count": 7,
   "metadata": {
    "collapsed": true
   },
   "outputs": [],
   "source": [
    "def select_bronchial(bronchials, ct_slices, levels):\n",
    "    center = array(bronchials[0].shape) // 2\n",
    "    coords = [(mean(where(bool_slice), axis=1), i) \n",
    "              for i, bool_slice in enumerate(bronchials)]\n",
    "    el = min(coords, key=lambda x: sum((x[0] - center) ** 2))\n",
    "    return bronchials[el[1]], ct_slices[el[1]], levels[el[1]]\n",
    "\n",
    "\n",
    "def select_seeds(bronchial, ct_clice):\n",
    "    return ct_clice * bronchial == ct_clice[bronchial].min()"
   ]
  },
  {
   "cell_type": "code",
   "execution_count": 8,
   "metadata": {
    "collapsed": false,
    "scrolled": true
   },
   "outputs": [],
   "source": [
    "def extract_seeds(patient, xy_spacing):\n",
    "    bronchials = list()\n",
    "    bronch_cts = list()\n",
    "    levels = list()\n",
    "    for i in range(55):\n",
    "        bronchial = extract_bronchial(patient[i], xy_spacing)\n",
    "        if bronchial is not None:\n",
    "            bronchials.append(bronchial)\n",
    "            bronch_cts.append(patient[i])\n",
    "            levels.append(i)\n",
    "\n",
    "            \n",
    "    for i in range(-55, 0, 1):\n",
    "        bronchial = extract_bronchial(patient[i], xy_spacing)\n",
    "        if bronchial is not None:\n",
    "            bronchials.append(bronchial)\n",
    "            bronch_cts.append(patient[i])\n",
    "            levels.append(i)\n",
    "            \n",
    "    bronchial, ct_slice, level = select_bronchial(bronchials, \n",
    "                                                  bronch_cts, \n",
    "                                                  levels)\n",
    "    \n",
    "    seeds = zeros(patient.shape)\n",
    "    seeds[level] = select_seeds(bronchial, ct_slice)\n",
    "\n",
    "    return seeds"
   ]
  },
  {
   "cell_type": "code",
   "execution_count": 9,
   "metadata": {
    "collapsed": false,
    "scrolled": true
   },
   "outputs": [],
   "source": [
    "def growing_bronchis(patient, seeds, \n",
    "                     threshold=INITIAL_THRESHOLD, \n",
    "                     step=STEP,\n",
    "                     full_extraction=True):\n",
    "    \n",
    "    \n",
    "    seeds = seeds.astype(bool_)\n",
    "    seeds = region_growing(patient.copy(), seeds, -5010, threshold)\n",
    "    volume = count_nonzero(seeds)\n",
    "    \n",
    "    lungs_thresh = filters.threshold_otsu(patient[patient.shape[0] // 2])\n",
    "    \n",
    "    ret = None\n",
    "    while True:    \n",
    "        labeled = region_growing(patient.copy(), seeds, -5010, threshold + step)\n",
    "        new_volume = count_nonzero(labeled)\n",
    "        if new_volume >= volume * 2:\n",
    "            if step == 4:\n",
    "                ret = seeds.copy()\n",
    "                if not full_extraction:\n",
    "                    return ret\n",
    "                \n",
    "            if step == 2:\n",
    "                return ret, seeds\n",
    "            step = ceil(step * 0.5)\n",
    "            continue\n",
    "        \n",
    "        threshold += step\n",
    "        volume = new_volume\n",
    "        seeds = labeled\n",
    "        \n",
    "        if threshold >= lungs_thresh:\n",
    "            if ret is None:\n",
    "                ret = seeds.copy()\n",
    "            \n",
    "            if not full_extraction:\n",
    "                return ret\n",
    "            \n",
    "            return ret, seeds"
   ]
  },
  {
   "cell_type": "code",
   "execution_count": 10,
   "metadata": {
    "collapsed": false
   },
   "outputs": [],
   "source": [
    "def grow_lungs(patient, seeds):\n",
    "    lungs_seeds = patient * seeds == patient[seeds].min()\n",
    "    lungs_seeds = lungs_seeds.astype(bool_)\n",
    "    threshold = filters.threshold_otsu(patient[patient.shape[0] // 2])\n",
    "\n",
    "    lungs_seeds = region_growing(patient.copy(), lungs_seeds, -1010, threshold)\n",
    "    return morphology.binary_opening(lungs_seeds - morphology.binary_opening(seeds))\n",
    "\n",
    "\n",
    "def lung_separation(patient, lungs_seeds):\n",
    "    labeled = label(lungs_seeds)[0]\n",
    "    markers = bincount(labeled.flatten())\n",
    "    markers = vstack([markers[1:], arange(1, markers.shape[0])])\n",
    "    markers = asarray(sorted(markers.T, key=lambda x: x[0]))[-2:]\n",
    "    if len(markers) < 2:\n",
    "        left, right = separate_lungs3d(lungs_seeds)\n",
    "        return left, right, True\n",
    "    \n",
    "    if markers[0, 0] / markers[1, 0] < 0.3:\n",
    "        left, right = separate_lungs3d(lungs_seeds)\n",
    "        return left, right, True\n",
    "    \n",
    "    centroids = (mean(where(labeled == markers[0, 1]), axis=1)[-1],\n",
    "                 mean(where(labeled == markers[1, 1]), axis=1)[-1])\n",
    "    \n",
    "    if centroids[0] > centroids[1]:\n",
    "        return labeled == markers[1, 1], labeled == markers[0, 1], False\n",
    "    \n",
    "    return labeled == markers[0, 1], labeled == markers[1, 1], False\n",
    "\n",
    "\n",
    "def lungs_postprocessing(lungs_seeds):\n",
    "    for i in range(lungs_seeds.shape[1]):\n",
    "        lungs_seeds[:, i] = morphology.binary_fill_holes(lungs_seeds[:, i])\n",
    "    return lungs_seeds"
   ]
  },
  {
   "cell_type": "code",
   "execution_count": 241,
   "metadata": {
    "collapsed": true
   },
   "outputs": [],
   "source": [
    "def plot_lungs_structures(left, right, trachea, bronchi, patient=None, plot=True):\n",
    "    \"\"\"\n",
    "    Structure:\n",
    "        1.  left lung\n",
    "        2.  right lung\n",
    "        4.  bronchi\n",
    "        8.  trachea\n",
    "        \n",
    "        3.  left    overlapped by right\n",
    "        \n",
    "        5.  bronchi overlapped by left\n",
    "        6.  bronchi overlapped by right\n",
    "        7.  bronchi overlapped by right, overlapped by left\n",
    "        \n",
    "        9.  trachea overlapped by left\n",
    "        10. trachea overlapped by right\n",
    "        11. trachea overlapped by right, overlapped by left\n",
    "            \n",
    "        12. bronchi overlapped by trachea\n",
    "        13. bronchi overlapped by trachea, overlapped by left\n",
    "        14. bronchi overlapped by trachea, overlapped by right\n",
    "        15. bronchi overlapped by trachea, overlapped by right, overlapped by left\n",
    "    \"\"\"\n",
    "    if plot:\n",
    "        figure(figsize=(10,10))\n",
    "        subplot(131)\n",
    "        combined = left + trachea * 2 + bronchi * 4 + right * 8 \n",
    "        imshow(combined[right.shape[0] // 2]);\n",
    "        subplot(132)\n",
    "        imshow(resize(combined[:, right.shape[1] // 2].astype(float64), \n",
    "                      [right.shape[1], right.shape[1]]));\n",
    "        if patient is not None:\n",
    "            subplot(133)\n",
    "            imshow(patient[right.shape[0] // 2])\n",
    "            show()\n",
    "    return left + right * 2 + bronchi * 4 + trachea * 8"
   ]
  },
  {
   "cell_type": "code",
   "execution_count": 489,
   "metadata": {
    "collapsed": false,
    "scrolled": false
   },
   "outputs": [],
   "source": [
    "def conventional_lung_segmentation(patient, xy_spacing, plot=True):\n",
    "    seeds = extract_seeds(patient, xy_spacing)\n",
    "    trachea, bronchi = growing_bronchis(patient, seeds)\n",
    "    \n",
    "#     print('-'*30)\n",
    "#     print('Bronchisare grown')\n",
    "    lungs_seeds = grow_lungs(patient, trachea)\n",
    "\n",
    "    left, right, state = lung_separation(patient, lungs_seeds)\n",
    "    selem = skm.ball(int(patient.shape[-1] * .01))\n",
    "    \n",
    "#     print('-'*30)\n",
    "#     print('Lungs are grown & separated')\n",
    "    left = skm.binary_closing(left, selem)\n",
    "    right = skm.binary_closing(right, selem)\n",
    "\n",
    "    right = morphology.binary_fill_holes(right)\n",
    "    left = morphology.binary_fill_holes(left)\n",
    "\n",
    "    left = lungs_postprocessing(left)\n",
    "    right = lungs_postprocessing(right)\n",
    "    \n",
    "#     print('-'*30)\n",
    "#     print('Smoothing has been applied')\n",
    "    return plot_lungs_structures(left, \n",
    "                                 right, \n",
    "                                 trachea, \n",
    "                                 bronchi, \n",
    "                                 patient,\n",
    "                                 plot).astype(int8), state"
   ]
  },
  {
   "cell_type": "code",
   "execution_count": 13,
   "metadata": {
    "collapsed": false,
    "scrolled": true
   },
   "outputs": [],
   "source": [
    "patients_files = glob(join(PATH['LUNA_DATA'], 'subset*', '*.mhd'))\n",
    "\n",
    "for path in tqdm(patients_files):\n",
    "    patient, xy_spacing = read_ct(path, True)\n",
    "    combined = conventional_lung_segmentation(patient, xy_spacing)\n",
    "    save(join(PATH['LUNA_MASKS'], basename(path).split('.mhd')[0]), combined)"
   ]
  },
  {
   "cell_type": "code",
   "execution_count": 615,
   "metadata": {
    "collapsed": false
   },
   "outputs": [
    {
     "name": "stderr",
     "output_type": "stream",
     "text": [
      "/home/a.dobrenkii/anaconda3/lib/python3.5/site-packages/ipykernel/__main__.py:7: DeprecationWarning: numpy boolean subtract, the `-` operator, is deprecated, use the bitwise_xor, the `^` operator, or the logical_xor function instead.\n"
     ]
    }
   ],
   "source": [
    "patients = glob(join(PATH['STAGE_MASKS'], '*.npy'))\n",
    "num = 300\n",
    "patient = load(patients[num])\n",
    "z_pos = -95\n",
    "\n",
    "separated = separate_lungs3d(patient > 0)\n",
    "\n",
    "patient = read_ct_scan(join(PATH['STAGE_DATA'], basename(patients[num])[:-4]))\n",
    "image = get_pixels_hu(patient)\n",
    "patient, _ = resample(image, patient, [1., 1., 1.])\n",
    "# patient = image\n",
    "seeds = extract_seeds(patient, 1.)\n",
    "trachea, bronchi = growing_bronchis(patient, seeds)\n",
    "segmented = grow_lungs(patient, trachea)"
   ]
  },
  {
   "cell_type": "code",
   "execution_count": 614,
   "metadata": {
    "collapsed": false
   },
   "outputs": [
    {
     "data": {
      "text/plain": [
       "<matplotlib.figure.Figure at 0x7f324242ed68>"
      ]
     },
     "metadata": {},
     "output_type": "display_data"
    },
    {
     "data": {
      "image/png": "[encoded data removed]",
      "text/plain": [
       "<matplotlib.figure.Figure at 0x7f323e84ea20>"
      ]
     },
     "metadata": {},
     "output_type": "display_data"
    }
   ],
   "source": [
    "import seaborn as sns\n",
    "sns.reset_defaults()\n",
    "gray()\n",
    "border = 20\n",
    "mask = separated[1][patient.shape[0] // 2 + z_pos] + separated[0][patient.shape[0] // 2 + z_pos]\n",
    "separ = mask + separated[0][patient.shape[0] // 2 + z_pos]\n",
    "\n",
    "y, x = where(mask)\n",
    "y_max, y_min = max(y) + border, min(y) - border\n",
    "x_max, x_min = max(x) + border, min(x) - border\n",
    "\n",
    "figure(figsize=(20, 10));\n",
    "ax = subplot(1, 4, 1);\n",
    "ax.autoscale_view('tight');\n",
    "imshow(patient[patient.shape[0] // 2 + z_pos, y_min: y_max, x_min: x_max]);\n",
    "# imshow(patient[patient.shape[0] // 2 + z_pos - 1: patient.shape[0] // 2 + z_pos + 2, y_min: y_max, x_min: x_max].max(0))\n",
    "axis('off');\n",
    "\n",
    "ax = subplot(1, 4, 2);\n",
    "ax.autoscale_view('tight');\n",
    "imshow(segmented[0][segmented[0].shape[0] // 2 + z_pos, y_min: y_max, x_min: x_max]);\n",
    "axis('off');\n",
    "\n",
    "ax = subplot(1, 4, 3);\n",
    "ax.autoscale_view('tight');\n",
    "imshow(mask[y_min: y_max, x_min: x_max]);\n",
    "axis('off');\n",
    "\n",
    "ax = subplot(1, 4, 4);\n",
    "ax.autoscale_view('tight');\n",
    "imshow(separ[y_min: y_max, x_min: x_max]);\n",
    "axis('off');\n",
    "subplots_adjust(wspace=.03, hspace=-.10);\n",
    "show();"
   ]
  },
  {
   "cell_type": "code",
   "execution_count": 12,
   "metadata": {
    "collapsed": false
   },
   "outputs": [],
   "source": [
    "def operate(path, out_dir='DATA_OUT'):\n",
    "    patient, xy_spacing = read_ct(path, True)\n",
    "    combined, state = conventional_lung_segmentation(patient, xy_spacing, False)\n",
    "    if 'luna' in out_dir.lower():\n",
    "        save(join(PATH[out_dir], basename(path).split('.mhd')[0]), combined)\n",
    "    else:\n",
    "        save(join(PATH[out_dir], basename(path)), combined)\n",
    "    if isfile(join(PATH[out_dir], 'manual.npy')):\n",
    "        manuals = load(join(PATH[out_dir], 'manual.npy')).tolist()\n",
    "    else:\n",
    "        manuals = list()\n",
    "        \n",
    "    if state:\n",
    "        manuals.append(path)\n",
    "    save(join(PATH[out_dir], 'manual'), asarray(manuals))\n",
    "    if state:\n",
    "        return path\n",
    "    return None"
   ]
  },
  {
   "cell_type": "code",
   "execution_count": 82,
   "metadata": {
    "collapsed": false
   },
   "outputs": [],
   "source": [
    "file_list = set(basename(path).split('.mhd')[0] for path in glob(join(PATH['LUNA_DATA'], 'subset*', '*.mhd')))\n",
    "file_list = file_list.difference([basename(path).split('.npy')[0] \n",
    "                                        for path in glob(join(PATH['LUNA_MASKS'], '*.npy'))])\n",
    "file_list = [[join(PATH['LUNA_DATA'], 'subset' + str(i), base_name + '.mhd') \n",
    "              for i in range(10) \n",
    "              if isfile(join(PATH['LUNA_DATA'], 'subset' + str(i), base_name + '.mhd'))] \n",
    "             for base_name in file_list]\n",
    "file_list = [path[0] for path in file_list]\n",
    "\n",
    "manuals = list()\n",
    "with Pool(CPU) as pool:\n",
    "    manuals = pool.map(operate,  file_list)\n",
    "\n",
    "manuals += load(join(PATH['LUNA_MASKS'], 'manual.npy')).tolist()\n",
    "save(join(PATH['LUNA_MASKS'], 'manual_pool'), asarray(manuals))"
   ]
  },
  {
   "cell_type": "code",
   "execution_count": null,
   "metadata": {
    "collapsed": false,
    "scrolled": false
   },
   "outputs": [],
   "source": [
    "file_list = set(basename(path) for path in glob(join(PATH['DATA'], '*')))\n",
    "file_list = file_list.difference([basename(path).split('.npy')[0] \n",
    "                                  for path in glob(join(PATH['DATA_OUT'], '*.npy'))])\n",
    "file_list = [join(PATH['DATA'], base_name) \n",
    "             for base_name in file_list]\n",
    "\n",
    "manuals = list()\n",
    "with Pool(CPU) as pool:\n",
    "    manuals = pool.map(operate,  file_list)\n",
    "\n",
    "manuals += load(join(PATH['LUNA_MASKS'], 'manual.npy')).tolist()\n",
    "save(join(PATH['LUNA_MASKS'], 'manual_pool'), asarray(manuals))"
   ]
  },
  {
   "cell_type": "code",
   "execution_count": null,
   "metadata": {
    "collapsed": false
   },
   "outputs": [],
   "source": [
    "lung = (left.copy() == 1).astype(float)\n",
    "\n",
    "coords = where(lung)\n",
    "# for i in tqdm(unique(coords[0])):\n",
    "value = 0\n",
    "volume = count_nonzero(lung)\n",
    "for coord in tqdm(unique(coords[2])):\n",
    "    value += count_nonzero(lung[:, :, coord])\n",
    "    lung[:, :, coord][lung[:, :, coord] != 0] = value / float(volume)\n"
   ]
  },
  {
   "cell_type": "code",
   "execution_count": 16,
   "metadata": {
    "collapsed": false,
    "scrolled": true
   },
   "outputs": [
    {
     "name": "stderr",
     "output_type": "stream",
     "text": [
      "  0%|          | 0/332 [00:00<?, ?it/s]/home/a.dobrenkii/anaconda3/lib/python3.5/site-packages/ipykernel/__main__.py:3: DeprecationWarning: numpy boolean subtract, the `-` operator, is deprecated, use the bitwise_xor, the `^` operator, or the logical_xor function instead.\n",
      "  app.launch_new_instance()\n",
      "100%|██████████| 332/332 [00:48<00:00,  6.85it/s]\n"
     ]
    }
   ],
   "source": [
    "diff = zeros(lung.shape)\n",
    "for i in tqdm(unique(coords[0])):\n",
    "    diff[i] = skm.convex_hull_object((lung[i] < .8) * (lung[i] != 0)) - (lung[i] < .8) * (lung[i] != 0)"
   ]
  },
  {
   "cell_type": "code",
   "execution_count": null,
   "metadata": {
    "collapsed": false
   },
   "outputs": [],
   "source": [
    "for i in unique(coords[0]):\n",
    "    if i % 3 == 0:\n",
    "        subplot(131)\n",
    "        imshow(diff[i])\n",
    "        subplot(132)\n",
    "        imshow(patient[i])\n",
    "        subplot(133)\n",
    "        imshow(left[i])\n",
    "        show()"
   ]
  },
  {
   "cell_type": "code",
   "execution_count": 137,
   "metadata": {
    "collapsed": false,
    "scrolled": true
   },
   "outputs": [
    {
     "name": "stderr",
     "output_type": "stream",
     "text": [
      "/usr/lib/python3.5/site-packages/ipykernel/__main__.py:3: DeprecationWarning: numpy boolean subtract, the `-` operator, is deprecated, use the bitwise_xor, the `^` operator, or the logical_xor function instead.\n",
      "  app.launch_new_instance()\n"
     ]
    },
    {
     "data": {
      "text/plain": [
       "<matplotlib.axes._subplots.AxesSubplot at 0x7fae2c351c88>"
      ]
     },
     "execution_count": 137,
     "metadata": {},
     "output_type": "execute_result"
    },
    {
     "data": {
      "image/png": "[encoded data removed]",
      "text/plain": [
       "<matplotlib.figure.Figure at 0x7fae2c42f128>"
      ]
     },
     "metadata": {},
     "output_type": "display_data"
    }
   ],
   "source": [
    "gray()\n",
    "subplot(131)\n",
    "imshow(skm.convex_hull_object((lung[154] < .8) * (lung[154] != 0)) - (lung[154] < .8) * (lung[154] != 0))\n",
    "subplot(132)\n",
    "imshow((lung[154] < .8) * (lung[154] != 0))\n",
    "subplot(132)"
   ]
  },
  {
   "cell_type": "code",
   "execution_count": null,
   "metadata": {
    "collapsed": true
   },
   "outputs": [],
   "source": [
    "coords[axis]"
   ]
  },
  {
   "cell_type": "code",
   "execution_count": 126,
   "metadata": {
    "collapsed": false
   },
   "outputs": [
    {
     "name": "stderr",
     "output_type": "stream",
     "text": [
      "/home/a.dobrenkii/anaconda3/lib/python3.5/site-packages/ipykernel/__main__.py:7: DeprecationWarning: numpy boolean subtract, the `-` operator, is deprecated, use the bitwise_xor, the `^` operator, or the logical_xor function instead.\n"
     ]
    }
   ],
   "source": [
    "seeds = extract_seeds(patient, xy_spacing)\n",
    "trachea, bronchi = growing_bronchis(patient, seeds)\n",
    "lungs_seeds = grow_lungs(patient, trachea)"
   ]
  },
  {
   "cell_type": "code",
   "execution_count": null,
   "metadata": {
    "collapsed": false,
    "scrolled": false
   },
   "outputs": [],
   "source": [
    "vale = list()\n",
    "\n",
    "ct_scan = read_ct_scan(join(PATH['DATA'],erroneus[113]))\n",
    "\n",
    "ct_scan_px = get_pixels_hu(ct_scan)\n",
    "ct_mask_F = segment_lung_mask(ct_scan_px, False)\n",
    "ct_mask_T = segment_lung_mask(ct_scan_px, True)\n",
    "ct_mask_diff = ct_mask_T - ct_mask_F\n",
    "# start = time.time()\n",
    "\n",
    "segmented = list()\n",
    "lung_filter = list()\n",
    "sobel = list()\n",
    "\n",
    "ct_excluded = []\n",
    "for ct_slice in ct_scan_px:\n",
    "    ct_excluded.append(exclude_lungs(ct_slice))\n",
    "\n",
    "# end = time.time()\n",
    "# print(end - start)\n",
    "\n",
    "for ct_slice in ct_excluded:\n",
    "    segmented.append(ct_slice[0])\n",
    "    lung_filter.append(ct_slice[1].astype(bool_))\n",
    "    sobel.append(ct_slice[2] * ct_slice[1])\n",
    "\n",
    "lung_filter = asarray(lung_filter)\n",
    "left, right = separate_lungs3d(lung_filter)"
   ]
  },
  {
   "cell_type": "code",
   "execution_count": null,
   "metadata": {
    "collapsed": false
   },
   "outputs": [
    {
     "name": "stdout",
     "output_type": "stream",
     "text": [
      "Populating the interactive namespace from numpy and matplotlib\n"
     ]
    },
    {
     "name": "stderr",
     "output_type": "stream",
     "text": [
      "/home/a.dobrenkii/anaconda3/lib/python3.5/site-packages/ipykernel/__main__.py:44: DeprecationWarning: numpy boolean subtract, the `-` operator, is deprecated, use the bitwise_xor, the `^` operator, or the logical_xor function instead.\n"
     ]
    }
   ],
   "source": [
    "import sys\n",
    "sys.path.append('../')\n",
    "sys.path.append('../support/')\n",
    "sys.path.append('../lung_segmentation/')\n",
    "import os\n",
    "import SimpleITK\n",
    "from lung_separation import *\n",
    "from ct_reader import *\n",
    "from os.path import join, basename, isfile\n",
    "from glob import glob\n",
    "from scipy.ndimage import morphology\n",
    "from skimage import filters\n",
    "from skimage import exposure\n",
    "from tqdm import tqdm\n",
    "from skimage import morphology as skm\n",
    "from skimage.morphology import watershed\n",
    "from scipy.ndimage import label\n",
    "from scipy.ndimage import generate_binary_structure\n",
    "from skimage import measure\n",
    "from multiprocessing import Pool\n",
    "import pickle\n",
    "from segmentation import *\n",
    "\n",
    "%pylab inline\n",
    "# import warnings\n",
    "# warnings.filterwarnings('ignore')\n",
    "\n",
    "import SimpleITK as sitk\n",
    "from paths import * \n",
    "from skimage.transform import resize\n",
    "\n",
    "\n",
    "erroneus = sorted(list(set(pickle.load(open(join(PATH['WEIGHTS'], 'erroneus'), 'rb')))))\n",
    "erroneus = [join(PATH['DATA'],err) for err in erroneus]\n",
    "\n",
    "def operate(path, out_dir='DATA_OUT'):\n",
    "    vale = list()\n",
    "\n",
    "    ct_scan = read_ct_scan(path)\n",
    "\n",
    "    ct_scan_px = get_pixels_hu(ct_scan)\n",
    "    ct_mask_F = segment_lung_mask(ct_scan_px, False)\n",
    "    ct_mask_T = segment_lung_mask(ct_scan_px, True)\n",
    "    ct_mask_diff = ct_mask_T - ct_mask_F\n",
    "    # start = time.time()\n",
    "\n",
    "    segmented = list()\n",
    "    lung_filter = list()\n",
    "    sobel = list()\n",
    "\n",
    "    with Pool(42) as pool:\n",
    "        ct_excluded = pool.map(exclude_lungs, ct_scan_px)\n",
    "\n",
    "    # end = time.time()\n",
    "    # print(end - start)\n",
    "\n",
    "    for ct_slice in ct_excluded:\n",
    "        segmented.append(ct_slice[0])\n",
    "        lung_filter.append(ct_slice[1].astype(bool_))\n",
    "        sobel.append(ct_slice[2] * ct_slice[1])\n",
    "\n",
    "    lung_filter = asarray(lung_filter)\n",
    "    left, right = separate_lungs3d(lung_filter)\n",
    "    save(join(join('/home/a.dobrenkii/Projects/Kaggle/DataScienceBowl2K17/data/TRAIN_OUT/FIXED','FIXED'),basename(path)),left+2*right)\n",
    "\n",
    "for err in erroneus:\n",
    "    operate(err)"
   ]
  },
  {
   "cell_type": "code",
   "execution_count": 29,
   "metadata": {
    "collapsed": false
   },
   "outputs": [
    {
     "name": "stderr",
     "output_type": "stream",
     "text": [
      "/home/a.dobrenkii/anaconda3/lib/python3.5/site-packages/ipykernel/__main__.py:7: DeprecationWarning: numpy boolean subtract, the `-` operator, is deprecated, use the bitwise_xor, the `^` operator, or the logical_xor function instead.\n"
     ]
    }
   ],
   "source": [
    "path = erroneus[0]\n",
    "ct_scan = read_ct_scan(path)\n",
    "\n",
    "ct_scan_px = get_pixels_hu(ct_scan)\n",
    "ct_mask_F = segment_lung_mask(ct_scan_px, False)\n",
    "ct_mask_T = segment_lung_mask(ct_scan_px, True)\n",
    "ct_mask_diff = ct_mask_T - ct_mask_F\n",
    "image = ct_scan_px[70]\n",
    "marker_internal, marker_external, marker_watershed = generate_markers(image)\n",
    "img_shape = image.shape\n",
    "\n",
    "# Creation of the Sobel-Gradient\n",
    "sobel_filtered_dx = ndimage.sobel(image, 1)\n",
    "sobel_filtered_dy = ndimage.sobel(image, 0)\n",
    "sobel_gradient = hypot(sobel_filtered_dx, sobel_filtered_dy)\n",
    "sobel_gradient *= 255.0 / sobel_gradient.max()\n",
    "\n",
    "# Watershed algorithm\n",
    "watershed = morphology.watershed(sobel_gradient, marker_watershed)\n",
    "\n",
    "# Reducing the image created by the Watershed algorithm to its outline\n",
    "outline = ndimage.morphological_gradient(watershed, size=(3, 3))\n",
    "outline = outline.astype(bool)"
   ]
  }
 ],
 "metadata": {
  "anaconda-cloud": {},
  "kernelspec": {
   "display_name": "Python [Root]",
   "language": "python",
   "name": "Python [Root]"
  },
  "language_info": {
   "codemirror_mode": {
    "name": "ipython",
    "version": 3
   },
   "file_extension": ".py",
   "mimetype": "text/x-python",
   "name": "python",
   "nbconvert_exporter": "python",
   "pygments_lexer": "ipython3",
   "version": "3.5.2"
  }
 },
 "nbformat": 4,
 "nbformat_minor": 0
}
